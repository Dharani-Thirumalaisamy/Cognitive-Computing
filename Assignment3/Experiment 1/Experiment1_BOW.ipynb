{
  "nbformat": 4,
  "nbformat_minor": 0,
  "metadata": {
    "colab": {
      "name": "Experiment1 BOW.ipynb",
      "version": "0.3.2",
      "provenance": [],
      "collapsed_sections": []
    },
    "kernelspec": {
      "name": "python3",
      "display_name": "Python 3"
    },
    "accelerator": "GPU"
  },
  "cells": [
    {
      "metadata": {
        "id": "s9EfqTOMNmnk",
        "colab_type": "text"
      },
      "cell_type": "markdown",
      "source": [
        "#BOW Approach:"
      ]
    },
    {
      "metadata": {
        "id": "2J_X8X72HCHZ",
        "colab_type": "code",
        "colab": {
          "base_uri": "https://localhost:8080/",
          "height": 346
        },
        "outputId": "64d508a5-2d19-49a4-e7c4-02db6be0cc69"
      },
      "cell_type": "code",
      "source": [
        "!pip install pandas_ml\n",
        "import os\n",
        "import json\n",
        "import keras\n",
        "from keras.preprocessing.text import Tokenizer\n",
        "from sklearn.model_selection import train_test_split\n",
        "from sklearn.linear_model import LogisticRegression\n",
        "from sklearn.naive_bayes import GaussianNB\n",
        "from sklearn.naive_bayes import BernoulliNB\n",
        "import math\n",
        "import sklearn.metrics as metrics\n",
        "from sklearn.metrics import confusion_matrix\n",
        "from pandas_ml import ConfusionMatrix\n",
        "from sklearn.metrics import accuracy_score\n",
        "import seaborn as sn\n",
        "import matplotlib.pyplot as plt"
      ],
      "execution_count": 1,
      "outputs": [
        {
          "output_type": "stream",
          "text": [
            "Collecting pandas_ml\n",
            "\u001b[?25l  Downloading https://files.pythonhosted.org/packages/c1/28/19289aabaecac9bd7ea34c43310fa16bbdda818e1f635747e81b376526ca/pandas_ml-0.5.0.tar.gz (76kB)\n",
            "\u001b[K    100% |████████████████████████████████| 81kB 3.2MB/s \n",
            "\u001b[?25hRequirement already satisfied: pandas>=0.17.0 in /usr/local/lib/python3.6/dist-packages (from pandas_ml) (0.22.0)\n",
            "Collecting enum34 (from pandas_ml)\n",
            "  Downloading https://files.pythonhosted.org/packages/af/42/cb9355df32c69b553e72a2e28daee25d1611d2c0d9c272aa1d34204205b2/enum34-1.1.6-py3-none-any.whl\n",
            "Requirement already satisfied: numpy>=1.9.0 in /usr/local/lib/python3.6/dist-packages (from pandas>=0.17.0->pandas_ml) (1.14.6)\n",
            "Requirement already satisfied: pytz>=2011k in /usr/local/lib/python3.6/dist-packages (from pandas>=0.17.0->pandas_ml) (2018.7)\n",
            "Requirement already satisfied: python-dateutil>=2 in /usr/local/lib/python3.6/dist-packages (from pandas>=0.17.0->pandas_ml) (2.5.3)\n",
            "Requirement already satisfied: six>=1.5 in /usr/local/lib/python3.6/dist-packages (from python-dateutil>=2->pandas>=0.17.0->pandas_ml) (1.11.0)\n",
            "Building wheels for collected packages: pandas-ml\n",
            "  Running setup.py bdist_wheel for pandas-ml ... \u001b[?25l-\b \b\\\b \bdone\n",
            "\u001b[?25h  Stored in directory: /root/.cache/pip/wheels/4b/b0/88/51fb7203a0f81becae3e92d5bf9fee0460375e5408e67a7dc3\n",
            "Successfully built pandas-ml\n",
            "Installing collected packages: enum34, pandas-ml\n",
            "Successfully installed enum34-1.1.6 pandas-ml-0.5.0\n"
          ],
          "name": "stdout"
        },
        {
          "output_type": "stream",
          "text": [
            "Using TensorFlow backend.\n"
          ],
          "name": "stderr"
        }
      ]
    },
    {
      "metadata": {
        "id": "fNXUBQSrIMIe",
        "colab_type": "code",
        "colab": {}
      },
      "cell_type": "code",
      "source": [
        "num_words=1300"
      ],
      "execution_count": 0,
      "outputs": []
    },
    {
      "metadata": {
        "id": "J-OmdyTmI4SH",
        "colab_type": "code",
        "colab": {}
      },
      "cell_type": "code",
      "source": [
        "with open('data.json','r') as f:\n",
        "    data_all = f.read()"
      ],
      "execution_count": 0,
      "outputs": []
    },
    {
      "metadata": {
        "id": "xe7NPEB3I6uP",
        "colab_type": "code",
        "colab": {}
      },
      "cell_type": "code",
      "source": [
        "data = json.loads(data_all)"
      ],
      "execution_count": 0,
      "outputs": []
    },
    {
      "metadata": {
        "id": "ruFKDkrJI-MS",
        "colab_type": "code",
        "colab": {}
      },
      "cell_type": "code",
      "source": [
        "tokenizer = Tokenizer(num_words=num_words)"
      ],
      "execution_count": 0,
      "outputs": []
    },
    {
      "metadata": {
        "id": "aJigRl-wJLP4",
        "colab_type": "code",
        "colab": {}
      },
      "cell_type": "code",
      "source": [
        "X = list(data['Text'].values())"
      ],
      "execution_count": 0,
      "outputs": []
    },
    {
      "metadata": {
        "id": "UP5T3KkBJa0l",
        "colab_type": "code",
        "colab": {
          "base_uri": "https://localhost:8080/",
          "height": 35
        },
        "outputId": "6816a373-dcbf-43f2-b6b4-d51515f2ce24"
      },
      "cell_type": "code",
      "source": [
        "tokenizer.fit_on_texts(X)\n",
        "\n",
        "sequences = tokenizer.texts_to_sequences(X)\n",
        "\n",
        "X = tokenizer.texts_to_matrix(X)\n",
        "\n",
        "word_index = tokenizer.word_index\n",
        "\n",
        "print('Found %s unique tokens.' % len(word_index))"
      ],
      "execution_count": 7,
      "outputs": [
        {
          "output_type": "stream",
          "text": [
            "Found 3710 unique tokens.\n"
          ],
          "name": "stdout"
        }
      ]
    },
    {
      "metadata": {
        "id": "L3ymgT-bJ5Xt",
        "colab_type": "code",
        "colab": {}
      },
      "cell_type": "code",
      "source": [
        "(x_train,x_test,y_train,y_test)=train_test_split(X,list(data['Sentiment'].values()),random_state=42)"
      ],
      "execution_count": 0,
      "outputs": []
    },
    {
      "metadata": {
        "id": "0Jbu-1f6KI2Z",
        "colab_type": "code",
        "colab": {
          "base_uri": "https://localhost:8080/",
          "height": 90
        },
        "outputId": "1f433fac-326a-4937-f050-e50bbd3b87b4"
      },
      "cell_type": "code",
      "source": [
        "lr=LogisticRegression()\n",
        "lr.fit(x_train,y_train)"
      ],
      "execution_count": 9,
      "outputs": [
        {
          "output_type": "execute_result",
          "data": {
            "text/plain": [
              "LogisticRegression(C=1.0, class_weight=None, dual=False, fit_intercept=True,\n",
              "          intercept_scaling=1, max_iter=100, multi_class='ovr', n_jobs=1,\n",
              "          penalty='l2', random_state=None, solver='liblinear', tol=0.0001,\n",
              "          verbose=0, warm_start=False)"
            ]
          },
          "metadata": {
            "tags": []
          },
          "execution_count": 9
        }
      ]
    },
    {
      "metadata": {
        "id": "D9zin3bYKJac",
        "colab_type": "code",
        "colab": {}
      },
      "cell_type": "code",
      "source": [
        "y_pred = lr.predict(x_test)"
      ],
      "execution_count": 0,
      "outputs": []
    },
    {
      "metadata": {
        "id": "JoY8tmAxKSPt",
        "colab_type": "code",
        "colab": {
          "base_uri": "https://localhost:8080/",
          "height": 54
        },
        "outputId": "9c5495bf-37bd-4472-eb7b-eaec458dbe64"
      },
      "cell_type": "code",
      "source": [
        "print(\"Score for train: \"+str(lr.score(x_train,y_train)))\n",
        "print(\"Score: \"+str(lr.score(x_test,y_test)))"
      ],
      "execution_count": 11,
      "outputs": [
        {
          "output_type": "stream",
          "text": [
            "Score for train: 0.9957081545064378\n",
            "Score: 0.6666666666666666\n"
          ],
          "name": "stdout"
        }
      ]
    },
    {
      "metadata": {
        "id": "Jb2chgfuMorv",
        "colab_type": "code",
        "colab": {
          "base_uri": "https://localhost:8080/",
          "height": 633
        },
        "outputId": "6f72d05f-7027-4f0a-dc58-51aa876cc7d7"
      },
      "cell_type": "code",
      "source": [
        "# Compute confusion matrix with LogisticRegression:\n",
        "\n",
        "cnf_matrix = ConfusionMatrix(y_test, y_pred)\n",
        "acc_score = accuracy_score(y_test, y_pred)\n",
        "\n",
        "\n",
        "print('Accuracy Score: ', acc_score)\n",
        "\n",
        "print(cnf_matrix)\n",
        "\n",
        "cnf_matrix.plot()\n",
        "plt.show()"
      ],
      "execution_count": 12,
      "outputs": [
        {
          "output_type": "stream",
          "text": [
            "Accuracy Score:  0.6666666666666666\n",
            "Predicted  Negative  Neutral  Positive  __all__\n",
            "Actual                                         \n",
            "Negative          2        3         6       11\n",
            "Neutral           3       36        20       59\n",
            "Positive          7       13        66       86\n",
            "__all__          12       52        92      156\n"
          ],
          "name": "stdout"
        },
        {
          "output_type": "display_data",
          "data": {
            "image/png": "[encoded data removed]",
            "text/plain": [
              "<matplotlib.figure.Figure at 0x7fda5f7983c8>"
            ]
          },
          "metadata": {
            "tags": []
          }
        }
      ]
    },
    {
      "metadata": {
        "id": "DA5Uk6aIKUTq",
        "colab_type": "code",
        "colab": {
          "base_uri": "https://localhost:8080/",
          "height": 35
        },
        "outputId": "c8abb39f-de06-45e9-a661-58de25eef33d"
      },
      "cell_type": "code",
      "source": [
        "bg=GaussianNB()\n",
        "bg.fit(x_train,y_train)"
      ],
      "execution_count": 13,
      "outputs": [
        {
          "output_type": "execute_result",
          "data": {
            "text/plain": [
              "GaussianNB(priors=None)"
            ]
          },
          "metadata": {
            "tags": []
          },
          "execution_count": 13
        }
      ]
    },
    {
      "metadata": {
        "id": "_l8lx4BvKakO",
        "colab_type": "code",
        "colab": {
          "base_uri": "https://localhost:8080/",
          "height": 54
        },
        "outputId": "afe248a2-c901-4a74-af80-9740bc3edb67"
      },
      "cell_type": "code",
      "source": [
        "y_pred = bg.predict(x_test)\n",
        "print(\"Score for train: \"+str(bg.score(x_train,y_train)))\n",
        "print(\"Score: \"+str(bg.score(x_test,y_test)))"
      ],
      "execution_count": 14,
      "outputs": [
        {
          "output_type": "stream",
          "text": [
            "Score for train: 0.944206008583691\n",
            "Score: 0.6282051282051282\n"
          ],
          "name": "stdout"
        }
      ]
    },
    {
      "metadata": {
        "id": "7VtaWE_KMVXD",
        "colab_type": "code",
        "colab": {
          "base_uri": "https://localhost:8080/",
          "height": 636
        },
        "outputId": "63436c7b-6816-40d8-8d11-89e4ad0c77f8"
      },
      "cell_type": "code",
      "source": [
        "# Compute confusion matrix from GaussianNB:\n",
        "\n",
        "cnf_matrix = ConfusionMatrix(y_test, y_pred)\n",
        "acc_score = accuracy_score(y_test, y_pred)\n",
        "\n",
        "\n",
        "print('Accuracy Score: ', acc_score)\n",
        "\n",
        "print(cnf_matrix)\n",
        "\n",
        "cnf_matrix.plot()\n",
        "plt.show()"
      ],
      "execution_count": 15,
      "outputs": [
        {
          "output_type": "stream",
          "text": [
            "Accuracy Score:  0.6282051282051282\n",
            "Predicted  Negative  Neutral  Positive  __all__\n",
            "Actual                                         \n",
            "Negative          0        5         6       11\n",
            "Neutral           3       28        28       59\n",
            "Positive          0       16        70       86\n",
            "__all__           3       49       104      156\n"
          ],
          "name": "stdout"
        },
        {
          "output_type": "display_data",
          "data": {
            "image/png": "[encoded data removed]",
            "text/plain": [
              "<matplotlib.figure.Figure at 0x7fdaba7f8b38>"
            ]
          },
          "metadata": {
            "tags": []
          }
        }
      ]
    },
    {
      "metadata": {
        "id": "vIN2LGs5KcH3",
        "colab_type": "code",
        "colab": {
          "base_uri": "https://localhost:8080/",
          "height": 35
        },
        "outputId": "ed2dc2f1-b589-4d9b-864b-25a341fa8ef1"
      },
      "cell_type": "code",
      "source": [
        "ber=BernoulliNB()\n",
        "ber.fit(x_train,y_train)"
      ],
      "execution_count": 16,
      "outputs": [
        {
          "output_type": "execute_result",
          "data": {
            "text/plain": [
              "BernoulliNB(alpha=1.0, binarize=0.0, class_prior=None, fit_prior=True)"
            ]
          },
          "metadata": {
            "tags": []
          },
          "execution_count": 16
        }
      ]
    },
    {
      "metadata": {
        "id": "68H_EZfaKd3h",
        "colab_type": "code",
        "colab": {
          "base_uri": "https://localhost:8080/",
          "height": 54
        },
        "outputId": "0497c1c6-4871-46c0-e9b6-89f30fbc35ea"
      },
      "cell_type": "code",
      "source": [
        "y_pred = ber.predict(x_test)\n",
        "print(\"Score for train: \"+str(ber.score(x_train,y_train)))\n",
        "print(\"Score: \"+str(ber.score(x_test,y_test)))"
      ],
      "execution_count": 17,
      "outputs": [
        {
          "output_type": "stream",
          "text": [
            "Score for train: 0.851931330472103\n",
            "Score: 0.7051282051282052\n"
          ],
          "name": "stdout"
        }
      ]
    },
    {
      "metadata": {
        "id": "CALb-ujeKfvX",
        "colab_type": "code",
        "colab": {
          "base_uri": "https://localhost:8080/",
          "height": 636
        },
        "outputId": "013c7640-9f1e-41c7-cd6e-54db13d6dbb2"
      },
      "cell_type": "code",
      "source": [
        "from pandas_ml import ConfusionMatrix\n",
        "from sklearn.metrics import accuracy_score\n",
        "import seaborn as sn\n",
        "import matplotlib.pyplot as plt\n",
        "\n",
        "# Compute confusion matrix BernoulliNB:\n",
        "\n",
        "cnf_matrix = ConfusionMatrix(y_test, y_pred)\n",
        "acc_score = accuracy_score(y_test, y_pred)\n",
        "\n",
        "\n",
        "print('Accuracy Score: ', acc_score)\n",
        "\n",
        "print(cnf_matrix)\n",
        "\n",
        "cnf_matrix.plot()\n",
        "plt.show()"
      ],
      "execution_count": 18,
      "outputs": [
        {
          "output_type": "stream",
          "text": [
            "Accuracy Score:  0.7051282051282052\n",
            "Predicted  Negative  Neutral  Positive  __all__\n",
            "Actual                                         \n",
            "Negative          3        7         1       11\n",
            "Neutral           1       37        21       59\n",
            "Positive          2       14        70       86\n",
            "__all__           6       58        92      156\n"
          ],
          "name": "stdout"
        },
        {
          "output_type": "display_data",
          "data": {
            "image/png": "[encoded data removed]",
            "text/plain": [
              "<matplotlib.figure.Figure at 0x7fda5cea9278>"
            ]
          },
          "metadata": {
            "tags": []
          }
        }
      ]
    }
  ]
}