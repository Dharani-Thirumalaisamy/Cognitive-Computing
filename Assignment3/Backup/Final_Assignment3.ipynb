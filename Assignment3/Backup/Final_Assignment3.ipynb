{
  "nbformat": 4,
  "nbformat_minor": 0,
  "metadata": {
    "colab": {
      "name": "Final_Assignment3.ipynb",
      "version": "0.3.2",
      "provenance": [],
      "collapsed_sections": []
    },
    "kernelspec": {
      "name": "python3",
      "display_name": "Python 3"
    },
    "accelerator": "GPU"
  },
  "cells": [
    {
      "metadata": {
        "id": "EPTaQJEeZ91K",
        "colab_type": "text"
      },
      "cell_type": "markdown",
      "source": [
        "#Validating Configuration Data:\n"
      ]
    },
    {
      "metadata": {
        "id": "I0numyPkaBv7",
        "colab_type": "code",
        "colab": {}
      },
      "cell_type": "code",
      "source": [
        "#Reading configuration file and validating all API keys\n",
        "\n",
        "import json"
      ],
      "execution_count": 0,
      "outputs": []
    },
    {
      "metadata": {
        "id": "uOidcL4EaGMb",
        "colab_type": "code",
        "colab": {}
      },
      "cell_type": "code",
      "source": [
        "with open('config.json','r') as f:\n",
        "    config_data = f.read()\n",
        "\n",
        "config = json.loads(config_data)"
      ],
      "execution_count": 0,
      "outputs": []
    },
    {
      "metadata": {
        "id": "sjJUHgGxaKNT",
        "colab_type": "code",
        "colab": {
          "base_uri": "https://localhost:8080/",
          "height": 292
        },
        "outputId": "6cb59760-7b2c-4feb-93dd-30c9ddc776b9"
      },
      "cell_type": "code",
      "source": [
        "#Validating AWS Credentials\n",
        "!pip install botocore\n",
        "import botocore.session\n",
        "\n",
        "access_key = config['AWS Access Keys']\n",
        "secret_access_key = config['AWS Secret Keys']\n",
        "\n",
        "session = botocore.session.get_session()\n",
        "\n",
        "sts = session.create_client('sts', aws_access_key_id=access_key,aws_secret_access_key=secret_access_key)\n",
        "\n",
        "response = sts.get_caller_identity()\n",
        "\n",
        "if response['ResponseMetadata']['HTTPStatusCode'] == 200:\n",
        "    print('AWS Credentials are valid!')\n",
        "    #Proceed to next validation\n",
        "else:\n",
        "    print('AWS Credentials are Invalid')\n",
        "    #Exit code"
      ],
      "execution_count": 4,
      "outputs": [
        {
          "output_type": "stream",
          "text": [
            "Collecting botocore\n",
            "\u001b[?25l  Downloading https://files.pythonhosted.org/packages/d6/be/da181a69e355ec61224de70d2afd306d723834adf2af98ee163975cf8357/botocore-1.12.55-py2.py3-none-any.whl (5.1MB)\n",
            "\u001b[K    100% |████████████████████████████████| 5.1MB 7.5MB/s \n",
            "\u001b[?25hCollecting docutils>=0.10 (from botocore)\n",
            "\u001b[?25l  Downloading https://files.pythonhosted.org/packages/36/fa/08e9e6e0e3cbd1d362c3bbee8d01d0aedb2155c4ac112b19ef3cae8eed8d/docutils-0.14-py3-none-any.whl (543kB)\n",
            "\u001b[K    100% |████████████████████████████████| 552kB 24.7MB/s \n",
            "\u001b[?25hRequirement already satisfied: python-dateutil<3.0.0,>=2.1; python_version >= \"2.7\" in /usr/local/lib/python3.6/dist-packages (from botocore) (2.5.3)\n",
            "Collecting jmespath<1.0.0,>=0.7.1 (from botocore)\n",
            "  Downloading https://files.pythonhosted.org/packages/b7/31/05c8d001f7f87f0f07289a5fc0fc3832e9a57f2dbd4d3b0fee70e0d51365/jmespath-0.9.3-py2.py3-none-any.whl\n",
            "Requirement already satisfied: urllib3<1.25,>=1.20; python_version >= \"3.4\" in /usr/local/lib/python3.6/dist-packages (from botocore) (1.22)\n",
            "Requirement already satisfied: six>=1.5 in /usr/local/lib/python3.6/dist-packages (from python-dateutil<3.0.0,>=2.1; python_version >= \"2.7\"->botocore) (1.11.0)\n",
            "Installing collected packages: docutils, jmespath, botocore\n",
            "Successfully installed botocore-1.12.55 docutils-0.14 jmespath-0.9.3\n",
            "AWS Credentials are valid!\n"
          ],
          "name": "stdout"
        }
      ]
    },
    {
      "metadata": {
        "id": "nvtfUHtRauXx",
        "colab_type": "code",
        "colab": {
          "base_uri": "https://localhost:8080/",
          "height": 35
        },
        "outputId": "a91bcc5b-5371-4870-86e8-bcb891600f7d"
      },
      "cell_type": "code",
      "source": [
        "#Validating Microsoft Azure API connections\n",
        "from http.client import HTTPSConnection\n",
        "\n",
        "\n",
        "uri = config['MS Azure Region']+'.api.cognitive.microsoft.com'\n",
        "accessKey = config['MS Azure Access Keys']\n",
        "\n",
        "test_doc = {'documents' : [\n",
        "  {'id': '1', 'language': 'en', 'text': 'This is test data!'}\n",
        "]}\n",
        "\n",
        "def GetSentiment (documents):\n",
        "    path = '/text/analytics/v2.0/sentiment'\n",
        "    \n",
        "    headers = {'Ocp-Apim-Subscription-Key': accessKey}\n",
        "    conn = HTTPSConnection (uri)\n",
        "    body = json.dumps (documents)\n",
        "    conn.request (\"POST\", path, body, headers)\n",
        "    response = conn.getresponse ()\n",
        "    return response\n",
        "\n",
        "result = GetSentiment(test_doc)\n",
        "\n",
        "if result.status == 200:\n",
        "    print('Microsoft Keys are valid!')\n",
        "    #Proceed with other validation\n",
        "else :\n",
        "    print('Microsoft Keys are Invalid!')\n",
        "    #Exit code"
      ],
      "execution_count": 6,
      "outputs": [
        {
          "output_type": "stream",
          "text": [
            "Microsoft Keys are valid!\n"
          ],
          "name": "stdout"
        }
      ]
    },
    {
      "metadata": {
        "id": "K1miX1IJa-27",
        "colab_type": "code",
        "colab": {
          "base_uri": "https://localhost:8080/",
          "height": 219
        },
        "outputId": "7ccf5b55-7496-4cc7-ae5b-d860743b795d"
      },
      "cell_type": "code",
      "source": [
        "#Validating IBM API keys\n",
        "\n",
        "#Introducing IBM API:\n",
        "!pip install watson_developer_cloud\n",
        "from watson_developer_cloud import NaturalLanguageUnderstandingV1\n",
        "from watson_developer_cloud.natural_language_understanding_v1 import Features, SentimentOptions\n",
        "\n",
        "natural_language_understanding = NaturalLanguageUnderstandingV1(\n",
        "    version='2018-03-16',\n",
        "    iam_apikey=config['IBM API Key'],\n",
        "    url=config['IBM API url']\n",
        ")\n",
        "response = natural_language_understanding.analyze(\n",
        "    text='This is test text',\n",
        "    features=Features(sentiment=SentimentOptions(targets=[''])))\n",
        "\n",
        "if response.get_status_code() == 200:\n",
        "    print('IBM keys are valid!')\n",
        "    #Proceed with other validation\n",
        "else :\n",
        "    print('IBM Keys are Invalid!')\n",
        "    #Exit code"
      ],
      "execution_count": 10,
      "outputs": [
        {
          "output_type": "stream",
          "text": [
            "Requirement already satisfied: watson_developer_cloud in /usr/local/lib/python3.6/dist-packages (2.4.4)\n",
            "Requirement already satisfied: python-dateutil>=2.5.3 in /usr/local/lib/python3.6/dist-packages (from watson_developer_cloud) (2.5.3)\n",
            "Requirement already satisfied: websocket-client==0.47.0 in /usr/local/lib/python3.6/dist-packages (from watson_developer_cloud) (0.47.0)\n",
            "Requirement already satisfied: requests<3.0,>=2.0 in /usr/local/lib/python3.6/dist-packages (from watson_developer_cloud) (2.18.4)\n",
            "Requirement already satisfied: six>=1.5 in /usr/local/lib/python3.6/dist-packages (from python-dateutil>=2.5.3->watson_developer_cloud) (1.11.0)\n",
            "Requirement already satisfied: idna<2.7,>=2.5 in /usr/local/lib/python3.6/dist-packages (from requests<3.0,>=2.0->watson_developer_cloud) (2.6)\n",
            "Requirement already satisfied: urllib3<1.23,>=1.21.1 in /usr/local/lib/python3.6/dist-packages (from requests<3.0,>=2.0->watson_developer_cloud) (1.22)\n",
            "Requirement already satisfied: chardet<3.1.0,>=3.0.2 in /usr/local/lib/python3.6/dist-packages (from requests<3.0,>=2.0->watson_developer_cloud) (3.0.4)\n",
            "Requirement already satisfied: certifi>=2017.4.17 in /usr/local/lib/python3.6/dist-packages (from requests<3.0,>=2.0->watson_developer_cloud) (2018.10.15)\n",
            "IBM keys are valid!\n"
          ],
          "name": "stdout"
        }
      ]
    },
    {
      "metadata": {
        "id": "9XjugZ7Db_pL",
        "colab_type": "code",
        "colab": {
          "base_uri": "https://localhost:8080/",
          "height": 35
        },
        "outputId": "7376d893-d4f5-48cb-c633-9f2cf0e859e8"
      },
      "cell_type": "code",
      "source": [
        "#Valdating Google API Keys:\n",
        "\n",
        "from google.cloud import language\n",
        "from google.cloud.language import enums\n",
        "from google.cloud.language import types\n",
        "\n",
        "from google.oauth2 import service_account\n",
        "\n",
        "cred = service_account.Credentials.from_service_account_file('NLP-Sentiment-3ab1018e6990.json')\n",
        "\n",
        "client = language.LanguageServiceClient(credentials=cred)\n",
        "\n",
        "data = ['This is the best day of my life!']\n",
        "\n",
        "for text in data:\n",
        "  document = types.Document(\n",
        "    content=text,\n",
        "    type=enums.Document.Type.PLAIN_TEXT)\n",
        "  sentiment = client.analyze_sentiment(document=document)\n",
        "\n",
        "\n",
        "  if sentiment.language == \"en\":\n",
        "    print(\"Google API Keys are valid!\")\n",
        "  else:\n",
        "    print(\"Invalid Google API Keys!\")"
      ],
      "execution_count": 23,
      "outputs": [
        {
          "output_type": "stream",
          "text": [
            "Google API Keys are valid!\n"
          ],
          "name": "stdout"
        }
      ]
    },
    {
      "metadata": {
        "id": "GWlfVfryd1vV",
        "colab_type": "code",
        "colab": {}
      },
      "cell_type": "code",
      "source": [
        "#Here we will merge all the data from all the team to get the complete dataset with manual sentiment analysis:\n",
        "\n",
        "with open('data.json','r') as f:\n",
        "    data_all = f.read()\n",
        "    \n",
        "data = json.loads(data_all)"
      ],
      "execution_count": 0,
      "outputs": []
    },
    {
      "metadata": {
        "id": "-EzQHzZjdPew",
        "colab_type": "code",
        "colab": {}
      },
      "cell_type": "code",
      "source": [
        "#This is the list of Text\n",
        "X = list(data['Text'].values())\n",
        "#This is the list of Manual Sentiment\n",
        "Y = list(data['Sentiment'].values())\n",
        "#This is the list for Company name\n",
        "Z = list(data['Company'].values())"
      ],
      "execution_count": 0,
      "outputs": []
    },
    {
      "metadata": {
        "id": "qavevnMKi8e0",
        "colab_type": "code",
        "colab": {}
      },
      "cell_type": "code",
      "source": [
        "import pandas as pd"
      ],
      "execution_count": 0,
      "outputs": []
    },
    {
      "metadata": {
        "id": "qg79laHAkZNB",
        "colab_type": "code",
        "colab": {}
      },
      "cell_type": "code",
      "source": [
        "Man_Senti = pd.DataFrame({'Text':X, 'Sentiment': Y, 'Company': Z})"
      ],
      "execution_count": 0,
      "outputs": []
    },
    {
      "metadata": {
        "id": "CGCz3c6PgX7j",
        "colab_type": "code",
        "colab": {
          "base_uri": "https://localhost:8080/",
          "height": 198
        },
        "outputId": "424c7b32-41d3-47d2-ea33-c9fab2c3050b"
      },
      "cell_type": "code",
      "source": [
        "Man_Senti.head()"
      ],
      "execution_count": 80,
      "outputs": [
        {
          "output_type": "execute_result",
          "data": {
            "text/html": [
              "<div>\n",
              "<style scoped>\n",
              "    .dataframe tbody tr th:only-of-type {\n",
              "        vertical-align: middle;\n",
              "    }\n",
              "\n",
              "    .dataframe tbody tr th {\n",
              "        vertical-align: top;\n",
              "    }\n",
              "\n",
              "    .dataframe thead th {\n",
              "        text-align: right;\n",
              "    }\n",
              "</style>\n",
              "<table border=\"1\" class=\"dataframe\">\n",
              "  <thead>\n",
              "    <tr style=\"text-align: right;\">\n",
              "      <th></th>\n",
              "      <th>Company</th>\n",
              "      <th>Sentiment</th>\n",
              "      <th>Text</th>\n",
              "    </tr>\n",
              "  </thead>\n",
              "  <tbody>\n",
              "    <tr>\n",
              "      <th>0</th>\n",
              "      <td>Amazon</td>\n",
              "      <td>Neutral</td>\n",
              "      <td>Amazon.com, Inc. (NASDAQ:AMZN) Q3 2018 Earning...</td>\n",
              "    </tr>\n",
              "    <tr>\n",
              "      <th>1</th>\n",
              "      <td>Amazon</td>\n",
              "      <td>Neutral</td>\n",
              "      <td>Good day, everyone, and welcome to the Amazon....</td>\n",
              "    </tr>\n",
              "    <tr>\n",
              "      <th>2</th>\n",
              "      <td>Amazon</td>\n",
              "      <td>Neutral</td>\n",
              "      <td>For opening remarks, I will be turning the cal...</td>\n",
              "    </tr>\n",
              "    <tr>\n",
              "      <th>3</th>\n",
              "      <td>Amazon</td>\n",
              "      <td>Neutral</td>\n",
              "      <td>Hello, and welcome to our Q3 2018 financial re...</td>\n",
              "    </tr>\n",
              "    <tr>\n",
              "      <th>4</th>\n",
              "      <td>Amazon</td>\n",
              "      <td>Neutral</td>\n",
              "      <td>Our comments and responses to your questions r...</td>\n",
              "    </tr>\n",
              "  </tbody>\n",
              "</table>\n",
              "</div>"
            ],
            "text/plain": [
              "  Company Sentiment                                               Text\n",
              "0  Amazon   Neutral  Amazon.com, Inc. (NASDAQ:AMZN) Q3 2018 Earning...\n",
              "1  Amazon   Neutral  Good day, everyone, and welcome to the Amazon....\n",
              "2  Amazon   Neutral  For opening remarks, I will be turning the cal...\n",
              "3  Amazon   Neutral  Hello, and welcome to our Q3 2018 financial re...\n",
              "4  Amazon   Neutral  Our comments and responses to your questions r..."
            ]
          },
          "metadata": {
            "tags": []
          },
          "execution_count": 80
        }
      ]
    },
    {
      "metadata": {
        "id": "xrvlbfmC3W3d",
        "colab_type": "code",
        "colab": {
          "base_uri": "https://localhost:8080/",
          "height": 35
        },
        "outputId": "9547871f-44ee-4879-b65b-5599f2fd1039"
      },
      "cell_type": "code",
      "source": [
        "len(Man_Senti)"
      ],
      "execution_count": 109,
      "outputs": [
        {
          "output_type": "execute_result",
          "data": {
            "text/plain": [
              "622"
            ]
          },
          "metadata": {
            "tags": []
          },
          "execution_count": 109
        }
      ]
    },
    {
      "metadata": {
        "id": "kse9-lD8j0oD",
        "colab_type": "code",
        "colab": {
          "base_uri": "https://localhost:8080/",
          "height": 183
        },
        "outputId": "b6149010-5dbe-457b-c6a4-f24d5c5a0e31"
      },
      "cell_type": "code",
      "source": [
        "text = X\n",
        "\n",
        "from time import time\n",
        "!pip install boto3\n",
        "import boto3"
      ],
      "execution_count": 82,
      "outputs": [
        {
          "output_type": "stream",
          "text": [
            "Requirement already satisfied: boto3 in /usr/local/lib/python3.6/dist-packages (1.9.55)\n",
            "Requirement already satisfied: botocore<1.13.0,>=1.12.55 in /usr/local/lib/python3.6/dist-packages (from boto3) (1.12.55)\n",
            "Requirement already satisfied: s3transfer<0.2.0,>=0.1.10 in /usr/local/lib/python3.6/dist-packages (from boto3) (0.1.13)\n",
            "Requirement already satisfied: jmespath<1.0.0,>=0.7.1 in /usr/local/lib/python3.6/dist-packages (from boto3) (0.9.3)\n",
            "Requirement already satisfied: docutils>=0.10 in /usr/local/lib/python3.6/dist-packages (from botocore<1.13.0,>=1.12.55->boto3) (0.14)\n",
            "Requirement already satisfied: urllib3<1.25,>=1.20; python_version >= \"3.4\" in /usr/local/lib/python3.6/dist-packages (from botocore<1.13.0,>=1.12.55->boto3) (1.22)\n",
            "Requirement already satisfied: python-dateutil<3.0.0,>=2.1; python_version >= \"2.7\" in /usr/local/lib/python3.6/dist-packages (from botocore<1.13.0,>=1.12.55->boto3) (2.5.3)\n",
            "Requirement already satisfied: six>=1.5 in /usr/local/lib/python3.6/dist-packages (from python-dateutil<3.0.0,>=2.1; python_version >= \"2.7\"->botocore<1.13.0,>=1.12.55->boto3) (1.11.0)\n"
          ],
          "name": "stdout"
        }
      ]
    },
    {
      "metadata": {
        "id": "PE16oiv6rLNX",
        "colab_type": "code",
        "colab": {}
      },
      "cell_type": "code",
      "source": [
        "#Getting sentiment using AWS API:\n",
        "\n",
        "start = time()\n",
        "\n",
        "comprehend = boto3.client(\n",
        "    'comprehend',\n",
        "    aws_access_key_id=access_key,\n",
        "    aws_secret_access_key=secret_access_key,\n",
        "    region_name='us-east-1'\n",
        ")\n",
        "\n",
        "rows = []\n",
        "i=1\n",
        "for t in text:\n",
        "  sentimentData = comprehend.detect_sentiment(Text=t, LanguageCode='en')\n",
        "  row = [i, 'AWS', sentimentData['Sentiment'],sentimentData['SentimentScore']['Negative'],sentimentData['SentimentScore']['Neutral'],sentimentData['SentimentScore']['Positive']]\n",
        "  rows.append(row)\n",
        "  i+=1\n",
        "result_aws = pd.DataFrame(rows, columns=['Text_ID', 'API', 'Overall', 'Negative', 'Neutral', 'Positive'])\n",
        "\n",
        "end = time()\n",
        "\n",
        "time_aws = end - start\n"
      ],
      "execution_count": 0,
      "outputs": []
    },
    {
      "metadata": {
        "id": "-PFGZE2KsgkE",
        "colab_type": "code",
        "colab": {
          "base_uri": "https://localhost:8080/",
          "height": 198
        },
        "outputId": "2c1d926e-37b1-4377-cf49-90c064c6b865"
      },
      "cell_type": "code",
      "source": [
        "#AWS Sentiment \n",
        "result_aws.head()"
      ],
      "execution_count": 85,
      "outputs": [
        {
          "output_type": "execute_result",
          "data": {
            "text/html": [
              "<div>\n",
              "<style scoped>\n",
              "    .dataframe tbody tr th:only-of-type {\n",
              "        vertical-align: middle;\n",
              "    }\n",
              "\n",
              "    .dataframe tbody tr th {\n",
              "        vertical-align: top;\n",
              "    }\n",
              "\n",
              "    .dataframe thead th {\n",
              "        text-align: right;\n",
              "    }\n",
              "</style>\n",
              "<table border=\"1\" class=\"dataframe\">\n",
              "  <thead>\n",
              "    <tr style=\"text-align: right;\">\n",
              "      <th></th>\n",
              "      <th>Text_ID</th>\n",
              "      <th>API</th>\n",
              "      <th>Overall</th>\n",
              "      <th>Negative</th>\n",
              "      <th>Neutral</th>\n",
              "      <th>Positive</th>\n",
              "    </tr>\n",
              "  </thead>\n",
              "  <tbody>\n",
              "    <tr>\n",
              "      <th>0</th>\n",
              "      <td>1</td>\n",
              "      <td>AWS</td>\n",
              "      <td>NEUTRAL</td>\n",
              "      <td>0.000141</td>\n",
              "      <td>0.998418</td>\n",
              "      <td>0.001304</td>\n",
              "    </tr>\n",
              "    <tr>\n",
              "      <th>1</th>\n",
              "      <td>2</td>\n",
              "      <td>AWS</td>\n",
              "      <td>POSITIVE</td>\n",
              "      <td>0.003760</td>\n",
              "      <td>0.487941</td>\n",
              "      <td>0.495716</td>\n",
              "    </tr>\n",
              "    <tr>\n",
              "      <th>2</th>\n",
              "      <td>3</td>\n",
              "      <td>AWS</td>\n",
              "      <td>NEUTRAL</td>\n",
              "      <td>0.007338</td>\n",
              "      <td>0.976732</td>\n",
              "      <td>0.012431</td>\n",
              "    </tr>\n",
              "    <tr>\n",
              "      <th>3</th>\n",
              "      <td>4</td>\n",
              "      <td>AWS</td>\n",
              "      <td>NEUTRAL</td>\n",
              "      <td>0.000654</td>\n",
              "      <td>0.686703</td>\n",
              "      <td>0.305323</td>\n",
              "    </tr>\n",
              "    <tr>\n",
              "      <th>4</th>\n",
              "      <td>5</td>\n",
              "      <td>AWS</td>\n",
              "      <td>NEUTRAL</td>\n",
              "      <td>0.002042</td>\n",
              "      <td>0.996204</td>\n",
              "      <td>0.001183</td>\n",
              "    </tr>\n",
              "  </tbody>\n",
              "</table>\n",
              "</div>"
            ],
            "text/plain": [
              "   Text_ID  API   Overall  Negative   Neutral  Positive\n",
              "0        1  AWS   NEUTRAL  0.000141  0.998418  0.001304\n",
              "1        2  AWS  POSITIVE  0.003760  0.487941  0.495716\n",
              "2        3  AWS   NEUTRAL  0.007338  0.976732  0.012431\n",
              "3        4  AWS   NEUTRAL  0.000654  0.686703  0.305323\n",
              "4        5  AWS   NEUTRAL  0.002042  0.996204  0.001183"
            ]
          },
          "metadata": {
            "tags": []
          },
          "execution_count": 85
        }
      ]
    },
    {
      "metadata": {
        "id": "BY_ElLkNyQx5",
        "colab_type": "code",
        "colab": {
          "base_uri": "https://localhost:8080/",
          "height": 35
        },
        "outputId": "be7b0eaa-c39f-4852-baff-c5c4178c8d63"
      },
      "cell_type": "code",
      "source": [
        "time_aws"
      ],
      "execution_count": 86,
      "outputs": [
        {
          "output_type": "execute_result",
          "data": {
            "text/plain": [
              "62.816622495651245"
            ]
          },
          "metadata": {
            "tags": []
          },
          "execution_count": 86
        }
      ]
    },
    {
      "metadata": {
        "id": "5EyFIQhrzALN",
        "colab_type": "code",
        "colab": {
          "base_uri": "https://localhost:8080/",
          "height": 35
        },
        "outputId": "b64dcf4c-8820-41b9-cc1f-fc5352031967"
      },
      "cell_type": "code",
      "source": [
        "len(result_aws)"
      ],
      "execution_count": 94,
      "outputs": [
        {
          "output_type": "execute_result",
          "data": {
            "text/plain": [
              "622"
            ]
          },
          "metadata": {
            "tags": []
          },
          "execution_count": 94
        }
      ]
    },
    {
      "metadata": {
        "id": "BdFsmNnbsn8t",
        "colab_type": "code",
        "colab": {}
      },
      "cell_type": "code",
      "source": [
        "#Getting sentiment using Microsoft Azure API:\n",
        "\n",
        "n = len(text)\n",
        "id=[i for i in range(1,1+n)]\n",
        "language=['en' for i in range(n)]\n",
        "document=[]\n",
        "\n",
        "#Generating form for hitting it on Azure Text Analystics API \n",
        "for i in range(n):\n",
        "    dic = {'id':id[i],'language':language[i],'text':text[i]}\n",
        "    document.append(dic)\n",
        "documents = {'documents':document}\n",
        "\n",
        "def GetSentiment (documents1):\n",
        "    path = '/text/analytics/v2.0/sentiment'\n",
        "    \n",
        "    headers = {'Ocp-Apim-Subscription-Key': accessKey}\n",
        "    conn = HTTPSConnection (uri)\n",
        "    body = json.dumps (documents1)\n",
        "    conn.request (\"POST\", path, body, headers)\n",
        "    response = conn.getresponse ()\n",
        "    return response.read ()\n",
        "  \n",
        "start = time()\n",
        "result = GetSentiment(documents)\n",
        "\n",
        "sentiments = json.loads(result)[\"documents\"]\n",
        "\n",
        "i = 0\n",
        "rows = []\n",
        "for item in sentiments:\n",
        "  row = [sentiments[i]['id'], 'Azure', sentiments[i]['score']]\n",
        "  rows.append(row)\n",
        "  i+=1\n",
        "result_azure = pd.DataFrame(rows, columns=['Text_ID', 'API', 'Overall_Score'])\n",
        "\n",
        "end = time()\n",
        "\n",
        "time_azure = end - start"
      ],
      "execution_count": 0,
      "outputs": []
    },
    {
      "metadata": {
        "id": "8JRlhkrVu0Ie",
        "colab_type": "code",
        "colab": {
          "base_uri": "https://localhost:8080/",
          "height": 198
        },
        "outputId": "1235e902-8399-49a3-f42f-6e7dc43f0331"
      },
      "cell_type": "code",
      "source": [
        "result_azure.head()"
      ],
      "execution_count": 89,
      "outputs": [
        {
          "output_type": "execute_result",
          "data": {
            "text/html": [
              "<div>\n",
              "<style scoped>\n",
              "    .dataframe tbody tr th:only-of-type {\n",
              "        vertical-align: middle;\n",
              "    }\n",
              "\n",
              "    .dataframe tbody tr th {\n",
              "        vertical-align: top;\n",
              "    }\n",
              "\n",
              "    .dataframe thead th {\n",
              "        text-align: right;\n",
              "    }\n",
              "</style>\n",
              "<table border=\"1\" class=\"dataframe\">\n",
              "  <thead>\n",
              "    <tr style=\"text-align: right;\">\n",
              "      <th></th>\n",
              "      <th>Text_ID</th>\n",
              "      <th>API</th>\n",
              "      <th>Overall_Score</th>\n",
              "    </tr>\n",
              "  </thead>\n",
              "  <tbody>\n",
              "    <tr>\n",
              "      <th>0</th>\n",
              "      <td>1</td>\n",
              "      <td>Azure</td>\n",
              "      <td>0.500000</td>\n",
              "    </tr>\n",
              "    <tr>\n",
              "      <th>1</th>\n",
              "      <td>2</td>\n",
              "      <td>Azure</td>\n",
              "      <td>0.891742</td>\n",
              "    </tr>\n",
              "    <tr>\n",
              "      <th>2</th>\n",
              "      <td>3</td>\n",
              "      <td>Azure</td>\n",
              "      <td>0.500000</td>\n",
              "    </tr>\n",
              "    <tr>\n",
              "      <th>3</th>\n",
              "      <td>4</td>\n",
              "      <td>Azure</td>\n",
              "      <td>0.500000</td>\n",
              "    </tr>\n",
              "    <tr>\n",
              "      <th>4</th>\n",
              "      <td>5</td>\n",
              "      <td>Azure</td>\n",
              "      <td>0.500000</td>\n",
              "    </tr>\n",
              "  </tbody>\n",
              "</table>\n",
              "</div>"
            ],
            "text/plain": [
              "  Text_ID    API  Overall_Score\n",
              "0       1  Azure       0.500000\n",
              "1       2  Azure       0.891742\n",
              "2       3  Azure       0.500000\n",
              "3       4  Azure       0.500000\n",
              "4       5  Azure       0.500000"
            ]
          },
          "metadata": {
            "tags": []
          },
          "execution_count": 89
        }
      ]
    },
    {
      "metadata": {
        "id": "8nJmmV5XyydX",
        "colab_type": "code",
        "colab": {
          "base_uri": "https://localhost:8080/",
          "height": 35
        },
        "outputId": "139233c6-2054-459f-d185-bb0961b835e2"
      },
      "cell_type": "code",
      "source": [
        "time_azure"
      ],
      "execution_count": 90,
      "outputs": [
        {
          "output_type": "execute_result",
          "data": {
            "text/plain": [
              "3.167090654373169"
            ]
          },
          "metadata": {
            "tags": []
          },
          "execution_count": 90
        }
      ]
    },
    {
      "metadata": {
        "id": "zOEP-JjEy1z5",
        "colab_type": "code",
        "colab": {
          "base_uri": "https://localhost:8080/",
          "height": 35
        },
        "outputId": "88ec802e-5ecc-4e3a-e0d9-18e467d06365"
      },
      "cell_type": "code",
      "source": [
        "len(result_azure)"
      ],
      "execution_count": 92,
      "outputs": [
        {
          "output_type": "execute_result",
          "data": {
            "text/plain": [
              "622"
            ]
          },
          "metadata": {
            "tags": []
          },
          "execution_count": 92
        }
      ]
    },
    {
      "metadata": {
        "id": "0PfhOSOZy7kR",
        "colab_type": "code",
        "colab": {
          "base_uri": "https://localhost:8080/",
          "height": 201
        },
        "outputId": "933a29c2-c2d2-4cdc-aa1d-808885b98603"
      },
      "cell_type": "code",
      "source": [
        "#Getting sentiment using IBM API:\n",
        "\n",
        "#Introducing IBM API:\n",
        "!pip install watson_developer_cloud\n",
        "from watson_developer_cloud import NaturalLanguageUnderstandingV1\n",
        "from watson_developer_cloud.natural_language_understanding_v1 import Features, SentimentOptions\n",
        "\n",
        "natural_language_understanding = NaturalLanguageUnderstandingV1(\n",
        "    version='2018-03-16',\n",
        "    iam_apikey=config['IBM API Key'],#need private key here\n",
        "    url=config['IBM API url']\n",
        ")\n",
        "\n",
        "start = time()\n",
        "rows = []\n",
        "i=1\n",
        "for t in text:\n",
        "    if (len(t)<15 or len(t.split(' '))<3):\n",
        "        #Padding neutral text as the IBM NLU api needs some minimum text word and charachater coun\n",
        "        t = t + \"This is neutral\"\n",
        "    sentimentData = natural_language_understanding.analyze(text=t,features=Features(sentiment=SentimentOptions(targets=['']))).get_result()\n",
        "    row = [i, 'IBM', sentimentData['sentiment']['document']['label'],sentimentData['sentiment']['document']['score']]\n",
        "    rows.append(row)\n",
        "    i+=1\n",
        "    \n",
        "result_ibm = pd.DataFrame(rows, columns=['Text_ID', 'API', 'Overall', 'Score'])\n",
        "\n",
        "end = time()\n",
        "\n",
        "time_ibm = end - start"
      ],
      "execution_count": 95,
      "outputs": [
        {
          "output_type": "stream",
          "text": [
            "Requirement already satisfied: watson_developer_cloud in /usr/local/lib/python3.6/dist-packages (2.4.4)\n",
            "Requirement already satisfied: websocket-client==0.47.0 in /usr/local/lib/python3.6/dist-packages (from watson_developer_cloud) (0.47.0)\n",
            "Requirement already satisfied: requests<3.0,>=2.0 in /usr/local/lib/python3.6/dist-packages (from watson_developer_cloud) (2.18.4)\n",
            "Requirement already satisfied: python-dateutil>=2.5.3 in /usr/local/lib/python3.6/dist-packages (from watson_developer_cloud) (2.5.3)\n",
            "Requirement already satisfied: six in /usr/local/lib/python3.6/dist-packages (from websocket-client==0.47.0->watson_developer_cloud) (1.11.0)\n",
            "Requirement already satisfied: chardet<3.1.0,>=3.0.2 in /usr/local/lib/python3.6/dist-packages (from requests<3.0,>=2.0->watson_developer_cloud) (3.0.4)\n",
            "Requirement already satisfied: idna<2.7,>=2.5 in /usr/local/lib/python3.6/dist-packages (from requests<3.0,>=2.0->watson_developer_cloud) (2.6)\n",
            "Requirement already satisfied: urllib3<1.23,>=1.21.1 in /usr/local/lib/python3.6/dist-packages (from requests<3.0,>=2.0->watson_developer_cloud) (1.22)\n",
            "Requirement already satisfied: certifi>=2017.4.17 in /usr/local/lib/python3.6/dist-packages (from requests<3.0,>=2.0->watson_developer_cloud) (2018.10.15)\n"
          ],
          "name": "stdout"
        }
      ]
    },
    {
      "metadata": {
        "id": "LjEl92jHzpN4",
        "colab_type": "code",
        "colab": {
          "base_uri": "https://localhost:8080/",
          "height": 198
        },
        "outputId": "60a09a9a-e917-4d14-e615-764f4106512c"
      },
      "cell_type": "code",
      "source": [
        "result_ibm.head()"
      ],
      "execution_count": 96,
      "outputs": [
        {
          "output_type": "execute_result",
          "data": {
            "text/html": [
              "<div>\n",
              "<style scoped>\n",
              "    .dataframe tbody tr th:only-of-type {\n",
              "        vertical-align: middle;\n",
              "    }\n",
              "\n",
              "    .dataframe tbody tr th {\n",
              "        vertical-align: top;\n",
              "    }\n",
              "\n",
              "    .dataframe thead th {\n",
              "        text-align: right;\n",
              "    }\n",
              "</style>\n",
              "<table border=\"1\" class=\"dataframe\">\n",
              "  <thead>\n",
              "    <tr style=\"text-align: right;\">\n",
              "      <th></th>\n",
              "      <th>Text_ID</th>\n",
              "      <th>API</th>\n",
              "      <th>Overall</th>\n",
              "      <th>Score</th>\n",
              "    </tr>\n",
              "  </thead>\n",
              "  <tbody>\n",
              "    <tr>\n",
              "      <th>0</th>\n",
              "      <td>1</td>\n",
              "      <td>IBM</td>\n",
              "      <td>neutral</td>\n",
              "      <td>0.000000</td>\n",
              "    </tr>\n",
              "    <tr>\n",
              "      <th>1</th>\n",
              "      <td>2</td>\n",
              "      <td>IBM</td>\n",
              "      <td>positive</td>\n",
              "      <td>0.750129</td>\n",
              "    </tr>\n",
              "    <tr>\n",
              "      <th>2</th>\n",
              "      <td>3</td>\n",
              "      <td>IBM</td>\n",
              "      <td>positive</td>\n",
              "      <td>0.476440</td>\n",
              "    </tr>\n",
              "    <tr>\n",
              "      <th>3</th>\n",
              "      <td>4</td>\n",
              "      <td>IBM</td>\n",
              "      <td>positive</td>\n",
              "      <td>0.678515</td>\n",
              "    </tr>\n",
              "    <tr>\n",
              "      <th>4</th>\n",
              "      <td>5</td>\n",
              "      <td>IBM</td>\n",
              "      <td>positive</td>\n",
              "      <td>0.437226</td>\n",
              "    </tr>\n",
              "  </tbody>\n",
              "</table>\n",
              "</div>"
            ],
            "text/plain": [
              "   Text_ID  API   Overall     Score\n",
              "0        1  IBM   neutral  0.000000\n",
              "1        2  IBM  positive  0.750129\n",
              "2        3  IBM  positive  0.476440\n",
              "3        4  IBM  positive  0.678515\n",
              "4        5  IBM  positive  0.437226"
            ]
          },
          "metadata": {
            "tags": []
          },
          "execution_count": 96
        }
      ]
    },
    {
      "metadata": {
        "id": "WBQB8E7g0JXK",
        "colab_type": "code",
        "colab": {
          "base_uri": "https://localhost:8080/",
          "height": 35
        },
        "outputId": "7db2932d-99aa-42f7-922e-f5cfeb8e82df"
      },
      "cell_type": "code",
      "source": [
        "time_ibm"
      ],
      "execution_count": 97,
      "outputs": [
        {
          "output_type": "execute_result",
          "data": {
            "text/plain": [
              "229.88341784477234"
            ]
          },
          "metadata": {
            "tags": []
          },
          "execution_count": 97
        }
      ]
    },
    {
      "metadata": {
        "id": "h-N_v9160L4S",
        "colab_type": "code",
        "colab": {
          "base_uri": "https://localhost:8080/",
          "height": 35
        },
        "outputId": "89dc689b-9e2c-4fde-a21f-3b8511bd7023"
      },
      "cell_type": "code",
      "source": [
        "len(result_ibm)"
      ],
      "execution_count": 98,
      "outputs": [
        {
          "output_type": "execute_result",
          "data": {
            "text/plain": [
              "622"
            ]
          },
          "metadata": {
            "tags": []
          },
          "execution_count": 98
        }
      ]
    },
    {
      "metadata": {
        "id": "Tx6j8EFX0kVR",
        "colab_type": "code",
        "colab": {}
      },
      "cell_type": "code",
      "source": [
        "#Getting Sentiment using Google API:\n",
        "\n",
        "start = time()\n",
        "\n",
        "rows = []\n",
        "i=1\n",
        "\n",
        "for t in text:\n",
        "  document = types.Document(\n",
        "    content=t,\n",
        "    type=enums.Document.Type.PLAIN_TEXT)\n",
        "  sentiment = client.analyze_sentiment(document=document)\n",
        "  row = [i, 'GCP', sentiment.document_sentiment.magnitude,sentiment.document_sentiment.score]\n",
        "  rows.append(row)\n",
        "  i+=1\n",
        "\n",
        "result_gcp = pd.DataFrame(rows, columns=['Text_ID', 'API', 'Magnitude', 'Score'])\n",
        "\n",
        "end = time()\n",
        "\n",
        "time_gcp = end-start\n",
        "  "
      ],
      "execution_count": 0,
      "outputs": []
    },
    {
      "metadata": {
        "id": "ArjLfJSJ1H_J",
        "colab_type": "code",
        "colab": {
          "base_uri": "https://localhost:8080/",
          "height": 198
        },
        "outputId": "e8fad3c4-5d23-4092-8018-fde9f7e2015a"
      },
      "cell_type": "code",
      "source": [
        "result_gcp.head()"
      ],
      "execution_count": 100,
      "outputs": [
        {
          "output_type": "execute_result",
          "data": {
            "text/html": [
              "<div>\n",
              "<style scoped>\n",
              "    .dataframe tbody tr th:only-of-type {\n",
              "        vertical-align: middle;\n",
              "    }\n",
              "\n",
              "    .dataframe tbody tr th {\n",
              "        vertical-align: top;\n",
              "    }\n",
              "\n",
              "    .dataframe thead th {\n",
              "        text-align: right;\n",
              "    }\n",
              "</style>\n",
              "<table border=\"1\" class=\"dataframe\">\n",
              "  <thead>\n",
              "    <tr style=\"text-align: right;\">\n",
              "      <th></th>\n",
              "      <th>Text_ID</th>\n",
              "      <th>API</th>\n",
              "      <th>Magnitude</th>\n",
              "      <th>Score</th>\n",
              "    </tr>\n",
              "  </thead>\n",
              "  <tbody>\n",
              "    <tr>\n",
              "      <th>0</th>\n",
              "      <td>1</td>\n",
              "      <td>GCP</td>\n",
              "      <td>0.0</td>\n",
              "      <td>0.0</td>\n",
              "    </tr>\n",
              "    <tr>\n",
              "      <th>1</th>\n",
              "      <td>2</td>\n",
              "      <td>GCP</td>\n",
              "      <td>0.9</td>\n",
              "      <td>0.1</td>\n",
              "    </tr>\n",
              "    <tr>\n",
              "      <th>2</th>\n",
              "      <td>3</td>\n",
              "      <td>GCP</td>\n",
              "      <td>0.0</td>\n",
              "      <td>0.0</td>\n",
              "    </tr>\n",
              "    <tr>\n",
              "      <th>3</th>\n",
              "      <td>4</td>\n",
              "      <td>GCP</td>\n",
              "      <td>1.2</td>\n",
              "      <td>0.3</td>\n",
              "    </tr>\n",
              "    <tr>\n",
              "      <th>4</th>\n",
              "      <td>5</td>\n",
              "      <td>GCP</td>\n",
              "      <td>0.2</td>\n",
              "      <td>0.0</td>\n",
              "    </tr>\n",
              "  </tbody>\n",
              "</table>\n",
              "</div>"
            ],
            "text/plain": [
              "   Text_ID  API  Magnitude  Score\n",
              "0        1  GCP        0.0    0.0\n",
              "1        2  GCP        0.9    0.1\n",
              "2        3  GCP        0.0    0.0\n",
              "3        4  GCP        1.2    0.3\n",
              "4        5  GCP        0.2    0.0"
            ]
          },
          "metadata": {
            "tags": []
          },
          "execution_count": 100
        }
      ]
    },
    {
      "metadata": {
        "id": "Dcjg8PX_1X8P",
        "colab_type": "code",
        "colab": {
          "base_uri": "https://localhost:8080/",
          "height": 35
        },
        "outputId": "68b281ca-7d6d-492e-debf-5d1af0c18579"
      },
      "cell_type": "code",
      "source": [
        "time_gcp"
      ],
      "execution_count": 101,
      "outputs": [
        {
          "output_type": "execute_result",
          "data": {
            "text/plain": [
              "47.409239530563354"
            ]
          },
          "metadata": {
            "tags": []
          },
          "execution_count": 101
        }
      ]
    },
    {
      "metadata": {
        "id": "aGPfh87W1W0v",
        "colab_type": "code",
        "colab": {
          "base_uri": "https://localhost:8080/",
          "height": 35
        },
        "outputId": "0b6d3273-78f7-427e-e140-ad0f5821d5c0"
      },
      "cell_type": "code",
      "source": [
        "len(result_gcp)"
      ],
      "execution_count": 102,
      "outputs": [
        {
          "output_type": "execute_result",
          "data": {
            "text/plain": [
              "622"
            ]
          },
          "metadata": {
            "tags": []
          },
          "execution_count": 102
        }
      ]
    },
    {
      "metadata": {
        "id": "SYeJ9Ic-1byz",
        "colab_type": "code",
        "colab": {
          "base_uri": "https://localhost:8080/",
          "height": 128
        },
        "outputId": "cc670583-c5d6-4037-9d39-f4281854f53d"
      },
      "cell_type": "code",
      "source": [
        "#Getting Sentiment using Vedor API:\n",
        "\n",
        "!pip install vaderSentiment\n",
        "from vaderSentiment.vaderSentiment import SentimentIntensityAnalyzer\n",
        "\n",
        "\n",
        "analyzer = SentimentIntensityAnalyzer()\n",
        "\n",
        "start = time()\n",
        "\n",
        "rows = []\n",
        "i=1\n",
        "for t in text:\n",
        "  sentimentData = analyzer.polarity_scores(t)\n",
        "  row = [i, 'Vader', sentimentData['compound'],sentimentData['neg'],sentimentData['neu'],sentimentData['pos']]\n",
        "  rows.append(row)\n",
        "  i+=1\n",
        "  \n",
        "result_vader = pd.DataFrame(rows, columns=['Text_ID', 'API', 'Overall_Score', 'Negative_Score', 'Neutral_Score', 'Positive_Score'])\n",
        "\n",
        "end = time()\n",
        "\n",
        "time_vedar = end - start\n",
        "\n"
      ],
      "execution_count": 104,
      "outputs": [
        {
          "output_type": "stream",
          "text": [
            "Collecting vaderSentiment\n",
            "\u001b[?25l  Downloading https://files.pythonhosted.org/packages/86/9e/c53e1fc61aac5ee490a6ac5e21b1ac04e55a7c2aba647bb8411c9aadf24e/vaderSentiment-3.2.1-py2.py3-none-any.whl (125kB)\n",
            "\u001b[K    100% |████████████████████████████████| 133kB 6.0MB/s \n",
            "\u001b[?25hInstalling collected packages: vaderSentiment\n",
            "Successfully installed vaderSentiment-3.2.1\n"
          ],
          "name": "stdout"
        }
      ]
    },
    {
      "metadata": {
        "id": "SaeunJoL1_QA",
        "colab_type": "code",
        "colab": {
          "base_uri": "https://localhost:8080/",
          "height": 198
        },
        "outputId": "80c26756-8dcc-4bcf-90b8-2c8d75ebb1b0"
      },
      "cell_type": "code",
      "source": [
        "result_vader.head()"
      ],
      "execution_count": 105,
      "outputs": [
        {
          "output_type": "execute_result",
          "data": {
            "text/html": [
              "<div>\n",
              "<style scoped>\n",
              "    .dataframe tbody tr th:only-of-type {\n",
              "        vertical-align: middle;\n",
              "    }\n",
              "\n",
              "    .dataframe tbody tr th {\n",
              "        vertical-align: top;\n",
              "    }\n",
              "\n",
              "    .dataframe thead th {\n",
              "        text-align: right;\n",
              "    }\n",
              "</style>\n",
              "<table border=\"1\" class=\"dataframe\">\n",
              "  <thead>\n",
              "    <tr style=\"text-align: right;\">\n",
              "      <th></th>\n",
              "      <th>Text_ID</th>\n",
              "      <th>API</th>\n",
              "      <th>Overall_Score</th>\n",
              "      <th>Negative_Score</th>\n",
              "      <th>Neutral_Score</th>\n",
              "      <th>Positive_Score</th>\n",
              "    </tr>\n",
              "  </thead>\n",
              "  <tbody>\n",
              "    <tr>\n",
              "      <th>0</th>\n",
              "      <td>1</td>\n",
              "      <td>Vader</td>\n",
              "      <td>0.0000</td>\n",
              "      <td>0.0</td>\n",
              "      <td>1.000</td>\n",
              "      <td>0.000</td>\n",
              "    </tr>\n",
              "    <tr>\n",
              "      <th>1</th>\n",
              "      <td>2</td>\n",
              "      <td>Vader</td>\n",
              "      <td>0.7096</td>\n",
              "      <td>0.0</td>\n",
              "      <td>0.848</td>\n",
              "      <td>0.152</td>\n",
              "    </tr>\n",
              "    <tr>\n",
              "      <th>2</th>\n",
              "      <td>3</td>\n",
              "      <td>Vader</td>\n",
              "      <td>0.3182</td>\n",
              "      <td>0.0</td>\n",
              "      <td>0.892</td>\n",
              "      <td>0.108</td>\n",
              "    </tr>\n",
              "    <tr>\n",
              "      <th>3</th>\n",
              "      <td>4</td>\n",
              "      <td>Vader</td>\n",
              "      <td>0.8658</td>\n",
              "      <td>0.0</td>\n",
              "      <td>0.872</td>\n",
              "      <td>0.128</td>\n",
              "    </tr>\n",
              "    <tr>\n",
              "      <th>4</th>\n",
              "      <td>5</td>\n",
              "      <td>Vader</td>\n",
              "      <td>0.0000</td>\n",
              "      <td>0.0</td>\n",
              "      <td>1.000</td>\n",
              "      <td>0.000</td>\n",
              "    </tr>\n",
              "  </tbody>\n",
              "</table>\n",
              "</div>"
            ],
            "text/plain": [
              "   Text_ID    API  Overall_Score  Negative_Score  Neutral_Score  \\\n",
              "0        1  Vader         0.0000             0.0          1.000   \n",
              "1        2  Vader         0.7096             0.0          0.848   \n",
              "2        3  Vader         0.3182             0.0          0.892   \n",
              "3        4  Vader         0.8658             0.0          0.872   \n",
              "4        5  Vader         0.0000             0.0          1.000   \n",
              "\n",
              "   Positive_Score  \n",
              "0           0.000  \n",
              "1           0.152  \n",
              "2           0.108  \n",
              "3           0.128  \n",
              "4           0.000  "
            ]
          },
          "metadata": {
            "tags": []
          },
          "execution_count": 105
        }
      ]
    },
    {
      "metadata": {
        "id": "ZLrPBqcO2LIM",
        "colab_type": "code",
        "colab": {
          "base_uri": "https://localhost:8080/",
          "height": 35
        },
        "outputId": "2afff678-407b-412b-cc30-c0d5ce084064"
      },
      "cell_type": "code",
      "source": [
        "time_vedar"
      ],
      "execution_count": 106,
      "outputs": [
        {
          "output_type": "execute_result",
          "data": {
            "text/plain": [
              "0.7608842849731445"
            ]
          },
          "metadata": {
            "tags": []
          },
          "execution_count": 106
        }
      ]
    },
    {
      "metadata": {
        "id": "qnFJVYSP2cqk",
        "colab_type": "code",
        "colab": {
          "base_uri": "https://localhost:8080/",
          "height": 35
        },
        "outputId": "64e6399a-f777-46a5-ecce-5ae62ed111fd"
      },
      "cell_type": "code",
      "source": [
        "len(result_vader)"
      ],
      "execution_count": 110,
      "outputs": [
        {
          "output_type": "execute_result",
          "data": {
            "text/plain": [
              "622"
            ]
          },
          "metadata": {
            "tags": []
          },
          "execution_count": 110
        }
      ]
    },
    {
      "metadata": {
        "id": "w6ckvhBY4c_Q",
        "colab_type": "code",
        "colab": {
          "base_uri": "https://localhost:8080/",
          "height": 198
        },
        "outputId": "1c9882ef-7477-40a5-8d08-8b81b3a85cb9"
      },
      "cell_type": "code",
      "source": [
        "Man_Senti.head()"
      ],
      "execution_count": 111,
      "outputs": [
        {
          "output_type": "execute_result",
          "data": {
            "text/html": [
              "<div>\n",
              "<style scoped>\n",
              "    .dataframe tbody tr th:only-of-type {\n",
              "        vertical-align: middle;\n",
              "    }\n",
              "\n",
              "    .dataframe tbody tr th {\n",
              "        vertical-align: top;\n",
              "    }\n",
              "\n",
              "    .dataframe thead th {\n",
              "        text-align: right;\n",
              "    }\n",
              "</style>\n",
              "<table border=\"1\" class=\"dataframe\">\n",
              "  <thead>\n",
              "    <tr style=\"text-align: right;\">\n",
              "      <th></th>\n",
              "      <th>Company</th>\n",
              "      <th>Sentiment</th>\n",
              "      <th>Text</th>\n",
              "    </tr>\n",
              "  </thead>\n",
              "  <tbody>\n",
              "    <tr>\n",
              "      <th>0</th>\n",
              "      <td>Amazon</td>\n",
              "      <td>Neutral</td>\n",
              "      <td>Amazon.com, Inc. (NASDAQ:AMZN) Q3 2018 Earning...</td>\n",
              "    </tr>\n",
              "    <tr>\n",
              "      <th>1</th>\n",
              "      <td>Amazon</td>\n",
              "      <td>Neutral</td>\n",
              "      <td>Good day, everyone, and welcome to the Amazon....</td>\n",
              "    </tr>\n",
              "    <tr>\n",
              "      <th>2</th>\n",
              "      <td>Amazon</td>\n",
              "      <td>Neutral</td>\n",
              "      <td>For opening remarks, I will be turning the cal...</td>\n",
              "    </tr>\n",
              "    <tr>\n",
              "      <th>3</th>\n",
              "      <td>Amazon</td>\n",
              "      <td>Neutral</td>\n",
              "      <td>Hello, and welcome to our Q3 2018 financial re...</td>\n",
              "    </tr>\n",
              "    <tr>\n",
              "      <th>4</th>\n",
              "      <td>Amazon</td>\n",
              "      <td>Neutral</td>\n",
              "      <td>Our comments and responses to your questions r...</td>\n",
              "    </tr>\n",
              "  </tbody>\n",
              "</table>\n",
              "</div>"
            ],
            "text/plain": [
              "  Company Sentiment                                               Text\n",
              "0  Amazon   Neutral  Amazon.com, Inc. (NASDAQ:AMZN) Q3 2018 Earning...\n",
              "1  Amazon   Neutral  Good day, everyone, and welcome to the Amazon....\n",
              "2  Amazon   Neutral  For opening remarks, I will be turning the cal...\n",
              "3  Amazon   Neutral  Hello, and welcome to our Q3 2018 financial re...\n",
              "4  Amazon   Neutral  Our comments and responses to your questions r..."
            ]
          },
          "metadata": {
            "tags": []
          },
          "execution_count": 111
        }
      ]
    },
    {
      "metadata": {
        "id": "jyB-pK6E4lRY",
        "colab_type": "code",
        "colab": {}
      },
      "cell_type": "code",
      "source": [
        "Man_Senti = Man_Senti.reset_index()"
      ],
      "execution_count": 0,
      "outputs": []
    },
    {
      "metadata": {
        "id": "J8bOnW6t4vE2",
        "colab_type": "code",
        "colab": {
          "base_uri": "https://localhost:8080/",
          "height": 198
        },
        "outputId": "b923b84e-a922-4a8a-9c6d-fed951d6a257"
      },
      "cell_type": "code",
      "source": [
        "Man_Senti.head()"
      ],
      "execution_count": 113,
      "outputs": [
        {
          "output_type": "execute_result",
          "data": {
            "text/html": [
              "<div>\n",
              "<style scoped>\n",
              "    .dataframe tbody tr th:only-of-type {\n",
              "        vertical-align: middle;\n",
              "    }\n",
              "\n",
              "    .dataframe tbody tr th {\n",
              "        vertical-align: top;\n",
              "    }\n",
              "\n",
              "    .dataframe thead th {\n",
              "        text-align: right;\n",
              "    }\n",
              "</style>\n",
              "<table border=\"1\" class=\"dataframe\">\n",
              "  <thead>\n",
              "    <tr style=\"text-align: right;\">\n",
              "      <th></th>\n",
              "      <th>index</th>\n",
              "      <th>Company</th>\n",
              "      <th>Sentiment</th>\n",
              "      <th>Text</th>\n",
              "    </tr>\n",
              "  </thead>\n",
              "  <tbody>\n",
              "    <tr>\n",
              "      <th>0</th>\n",
              "      <td>0</td>\n",
              "      <td>Amazon</td>\n",
              "      <td>Neutral</td>\n",
              "      <td>Amazon.com, Inc. (NASDAQ:AMZN) Q3 2018 Earning...</td>\n",
              "    </tr>\n",
              "    <tr>\n",
              "      <th>1</th>\n",
              "      <td>1</td>\n",
              "      <td>Amazon</td>\n",
              "      <td>Neutral</td>\n",
              "      <td>Good day, everyone, and welcome to the Amazon....</td>\n",
              "    </tr>\n",
              "    <tr>\n",
              "      <th>2</th>\n",
              "      <td>2</td>\n",
              "      <td>Amazon</td>\n",
              "      <td>Neutral</td>\n",
              "      <td>For opening remarks, I will be turning the cal...</td>\n",
              "    </tr>\n",
              "    <tr>\n",
              "      <th>3</th>\n",
              "      <td>3</td>\n",
              "      <td>Amazon</td>\n",
              "      <td>Neutral</td>\n",
              "      <td>Hello, and welcome to our Q3 2018 financial re...</td>\n",
              "    </tr>\n",
              "    <tr>\n",
              "      <th>4</th>\n",
              "      <td>4</td>\n",
              "      <td>Amazon</td>\n",
              "      <td>Neutral</td>\n",
              "      <td>Our comments and responses to your questions r...</td>\n",
              "    </tr>\n",
              "  </tbody>\n",
              "</table>\n",
              "</div>"
            ],
            "text/plain": [
              "   index Company Sentiment                                               Text\n",
              "0      0  Amazon   Neutral  Amazon.com, Inc. (NASDAQ:AMZN) Q3 2018 Earning...\n",
              "1      1  Amazon   Neutral  Good day, everyone, and welcome to the Amazon....\n",
              "2      2  Amazon   Neutral  For opening remarks, I will be turning the cal...\n",
              "3      3  Amazon   Neutral  Hello, and welcome to our Q3 2018 financial re...\n",
              "4      4  Amazon   Neutral  Our comments and responses to your questions r..."
            ]
          },
          "metadata": {
            "tags": []
          },
          "execution_count": 113
        }
      ]
    },
    {
      "metadata": {
        "id": "0rKI0OkB46jg",
        "colab_type": "code",
        "colab": {}
      },
      "cell_type": "code",
      "source": [
        "Man_Senti['Text_ID'] = Man_Senti.index + 1"
      ],
      "execution_count": 0,
      "outputs": []
    },
    {
      "metadata": {
        "id": "sKm3cSHi5JhL",
        "colab_type": "code",
        "colab": {
          "base_uri": "https://localhost:8080/",
          "height": 198
        },
        "outputId": "f57c7d04-58cd-4f0d-bc2a-8081072f38f5"
      },
      "cell_type": "code",
      "source": [
        "Man_Senti.head()"
      ],
      "execution_count": 115,
      "outputs": [
        {
          "output_type": "execute_result",
          "data": {
            "text/html": [
              "<div>\n",
              "<style scoped>\n",
              "    .dataframe tbody tr th:only-of-type {\n",
              "        vertical-align: middle;\n",
              "    }\n",
              "\n",
              "    .dataframe tbody tr th {\n",
              "        vertical-align: top;\n",
              "    }\n",
              "\n",
              "    .dataframe thead th {\n",
              "        text-align: right;\n",
              "    }\n",
              "</style>\n",
              "<table border=\"1\" class=\"dataframe\">\n",
              "  <thead>\n",
              "    <tr style=\"text-align: right;\">\n",
              "      <th></th>\n",
              "      <th>index</th>\n",
              "      <th>Company</th>\n",
              "      <th>Sentiment</th>\n",
              "      <th>Text</th>\n",
              "      <th>Text_ID</th>\n",
              "    </tr>\n",
              "  </thead>\n",
              "  <tbody>\n",
              "    <tr>\n",
              "      <th>0</th>\n",
              "      <td>0</td>\n",
              "      <td>Amazon</td>\n",
              "      <td>Neutral</td>\n",
              "      <td>Amazon.com, Inc. (NASDAQ:AMZN) Q3 2018 Earning...</td>\n",
              "      <td>1</td>\n",
              "    </tr>\n",
              "    <tr>\n",
              "      <th>1</th>\n",
              "      <td>1</td>\n",
              "      <td>Amazon</td>\n",
              "      <td>Neutral</td>\n",
              "      <td>Good day, everyone, and welcome to the Amazon....</td>\n",
              "      <td>2</td>\n",
              "    </tr>\n",
              "    <tr>\n",
              "      <th>2</th>\n",
              "      <td>2</td>\n",
              "      <td>Amazon</td>\n",
              "      <td>Neutral</td>\n",
              "      <td>For opening remarks, I will be turning the cal...</td>\n",
              "      <td>3</td>\n",
              "    </tr>\n",
              "    <tr>\n",
              "      <th>3</th>\n",
              "      <td>3</td>\n",
              "      <td>Amazon</td>\n",
              "      <td>Neutral</td>\n",
              "      <td>Hello, and welcome to our Q3 2018 financial re...</td>\n",
              "      <td>4</td>\n",
              "    </tr>\n",
              "    <tr>\n",
              "      <th>4</th>\n",
              "      <td>4</td>\n",
              "      <td>Amazon</td>\n",
              "      <td>Neutral</td>\n",
              "      <td>Our comments and responses to your questions r...</td>\n",
              "      <td>5</td>\n",
              "    </tr>\n",
              "  </tbody>\n",
              "</table>\n",
              "</div>"
            ],
            "text/plain": [
              "   index Company Sentiment                                               Text  \\\n",
              "0      0  Amazon   Neutral  Amazon.com, Inc. (NASDAQ:AMZN) Q3 2018 Earning...   \n",
              "1      1  Amazon   Neutral  Good day, everyone, and welcome to the Amazon....   \n",
              "2      2  Amazon   Neutral  For opening remarks, I will be turning the cal...   \n",
              "3      3  Amazon   Neutral  Hello, and welcome to our Q3 2018 financial re...   \n",
              "4      4  Amazon   Neutral  Our comments and responses to your questions r...   \n",
              "\n",
              "   Text_ID  \n",
              "0        1  \n",
              "1        2  \n",
              "2        3  \n",
              "3        4  \n",
              "4        5  "
            ]
          },
          "metadata": {
            "tags": []
          },
          "execution_count": 115
        }
      ]
    },
    {
      "metadata": {
        "id": "hMC0EsXU5Xj8",
        "colab_type": "code",
        "colab": {}
      },
      "cell_type": "code",
      "source": [
        "Man_Senti = Man_Senti[['Text_ID','Company','Text','Sentiment']]"
      ],
      "execution_count": 0,
      "outputs": []
    },
    {
      "metadata": {
        "id": "xpjtVmuf5nex",
        "colab_type": "code",
        "colab": {
          "base_uri": "https://localhost:8080/",
          "height": 198
        },
        "outputId": "f231d186-dd6c-4ca8-926a-1ffa29d0f5f5"
      },
      "cell_type": "code",
      "source": [
        "Man_Senti.head()"
      ],
      "execution_count": 118,
      "outputs": [
        {
          "output_type": "execute_result",
          "data": {
            "text/html": [
              "<div>\n",
              "<style scoped>\n",
              "    .dataframe tbody tr th:only-of-type {\n",
              "        vertical-align: middle;\n",
              "    }\n",
              "\n",
              "    .dataframe tbody tr th {\n",
              "        vertical-align: top;\n",
              "    }\n",
              "\n",
              "    .dataframe thead th {\n",
              "        text-align: right;\n",
              "    }\n",
              "</style>\n",
              "<table border=\"1\" class=\"dataframe\">\n",
              "  <thead>\n",
              "    <tr style=\"text-align: right;\">\n",
              "      <th></th>\n",
              "      <th>Text_ID</th>\n",
              "      <th>Company</th>\n",
              "      <th>Text</th>\n",
              "      <th>Sentiment</th>\n",
              "    </tr>\n",
              "  </thead>\n",
              "  <tbody>\n",
              "    <tr>\n",
              "      <th>0</th>\n",
              "      <td>1</td>\n",
              "      <td>Amazon</td>\n",
              "      <td>Amazon.com, Inc. (NASDAQ:AMZN) Q3 2018 Earning...</td>\n",
              "      <td>Neutral</td>\n",
              "    </tr>\n",
              "    <tr>\n",
              "      <th>1</th>\n",
              "      <td>2</td>\n",
              "      <td>Amazon</td>\n",
              "      <td>Good day, everyone, and welcome to the Amazon....</td>\n",
              "      <td>Neutral</td>\n",
              "    </tr>\n",
              "    <tr>\n",
              "      <th>2</th>\n",
              "      <td>3</td>\n",
              "      <td>Amazon</td>\n",
              "      <td>For opening remarks, I will be turning the cal...</td>\n",
              "      <td>Neutral</td>\n",
              "    </tr>\n",
              "    <tr>\n",
              "      <th>3</th>\n",
              "      <td>4</td>\n",
              "      <td>Amazon</td>\n",
              "      <td>Hello, and welcome to our Q3 2018 financial re...</td>\n",
              "      <td>Neutral</td>\n",
              "    </tr>\n",
              "    <tr>\n",
              "      <th>4</th>\n",
              "      <td>5</td>\n",
              "      <td>Amazon</td>\n",
              "      <td>Our comments and responses to your questions r...</td>\n",
              "      <td>Neutral</td>\n",
              "    </tr>\n",
              "  </tbody>\n",
              "</table>\n",
              "</div>"
            ],
            "text/plain": [
              "   Text_ID Company                                               Text  \\\n",
              "0        1  Amazon  Amazon.com, Inc. (NASDAQ:AMZN) Q3 2018 Earning...   \n",
              "1        2  Amazon  Good day, everyone, and welcome to the Amazon....   \n",
              "2        3  Amazon  For opening remarks, I will be turning the cal...   \n",
              "3        4  Amazon  Hello, and welcome to our Q3 2018 financial re...   \n",
              "4        5  Amazon  Our comments and responses to your questions r...   \n",
              "\n",
              "  Sentiment  \n",
              "0   Neutral  \n",
              "1   Neutral  \n",
              "2   Neutral  \n",
              "3   Neutral  \n",
              "4   Neutral  "
            ]
          },
          "metadata": {
            "tags": []
          },
          "execution_count": 118
        }
      ]
    },
    {
      "metadata": {
        "id": "vHRf8Tcj2kEm",
        "colab_type": "code",
        "colab": {}
      },
      "cell_type": "code",
      "source": [
        "#Now we will normalize the different API Results:\n",
        "\n",
        "#1. AWS\n",
        "\n"
      ],
      "execution_count": 0,
      "outputs": []
    },
    {
      "metadata": {
        "id": "m9prWMvw6Xv-",
        "colab_type": "code",
        "colab": {}
      },
      "cell_type": "code",
      "source": [
        ""
      ],
      "execution_count": 0,
      "outputs": []
    }
  ]
}