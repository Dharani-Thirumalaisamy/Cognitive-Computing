{
  "nbformat": 4,
  "nbformat_minor": 0,
  "metadata": {
    "colab": {
      "name": "Final_Assignment3.ipynb",
      "version": "0.3.2",
      "provenance": [],
      "collapsed_sections": []
    },
    "kernelspec": {
      "name": "python3",
      "display_name": "Python 3"
    },
    "accelerator": "GPU"
  },
  "cells": [
    {
      "metadata": {
        "id": "EPTaQJEeZ91K",
        "colab_type": "text"
      },
      "cell_type": "markdown",
      "source": [
        "#Validating Configuration Data:\n"
      ]
    },
    {
      "metadata": {
        "id": "2h4BfT7E5cDO",
        "colab_type": "text"
      },
      "cell_type": "markdown",
      "source": [
        "This Program needed compete Dataset file, Configuration file and Google API key file in Json format."
      ]
    },
    {
      "metadata": {
        "id": "I0numyPkaBv7",
        "colab_type": "code",
        "colab": {}
      },
      "cell_type": "code",
      "source": [
        "#Reading configuration file and validating all API keys\n",
        "\n",
        "import json"
      ],
      "execution_count": 0,
      "outputs": []
    },
    {
      "metadata": {
        "id": "uOidcL4EaGMb",
        "colab_type": "code",
        "colab": {}
      },
      "cell_type": "code",
      "source": [
        "with open('config.json','r') as f:\n",
        "    config_data = f.read()\n",
        "\n",
        "config = json.loads(config_data)"
      ],
      "execution_count": 0,
      "outputs": []
    },
    {
      "metadata": {
        "id": "sjJUHgGxaKNT",
        "colab_type": "code",
        "colab": {
          "base_uri": "https://localhost:8080/",
          "height": 292
        },
        "outputId": "d5b29914-adb1-4410-cd6f-deb001f02bd5"
      },
      "cell_type": "code",
      "source": [
        "#Validating AWS Credentials\n",
        "!pip install botocore\n",
        "import botocore.session\n",
        "\n",
        "access_key = config['AWS Access Keys']\n",
        "secret_access_key = config['AWS Secret Keys']\n",
        "\n",
        "session = botocore.session.get_session()\n",
        "\n",
        "sts = session.create_client('sts', aws_access_key_id=access_key,aws_secret_access_key=secret_access_key)\n",
        "\n",
        "response = sts.get_caller_identity()\n",
        "\n",
        "if response['ResponseMetadata']['HTTPStatusCode'] == 200:\n",
        "    print('AWS Credentials are valid!')\n",
        "    #Proceed to next validation\n",
        "else:\n",
        "    print('AWS Credentials are Invalid')\n",
        "    #Exit code"
      ],
      "execution_count": 4,
      "outputs": [
        {
          "output_type": "stream",
          "text": [
            "Collecting botocore\n",
            "\u001b[?25l  Downloading https://files.pythonhosted.org/packages/f1/37/eb8f5a76e1cb16ecabb7c92f7504c37030c8b727d550021b2bb34dc2a082/botocore-1.12.57-py2.py3-none-any.whl (5.1MB)\n",
            "\u001b[K    100% |████████████████████████████████| 5.1MB 6.8MB/s \n",
            "\u001b[?25hRequirement already satisfied: python-dateutil<3.0.0,>=2.1; python_version >= \"2.7\" in /usr/local/lib/python3.6/dist-packages (from botocore) (2.5.3)\n",
            "Collecting docutils>=0.10 (from botocore)\n",
            "\u001b[?25l  Downloading https://files.pythonhosted.org/packages/36/fa/08e9e6e0e3cbd1d362c3bbee8d01d0aedb2155c4ac112b19ef3cae8eed8d/docutils-0.14-py3-none-any.whl (543kB)\n",
            "\u001b[K    100% |████████████████████████████████| 552kB 18.6MB/s \n",
            "\u001b[?25hCollecting jmespath<1.0.0,>=0.7.1 (from botocore)\n",
            "  Downloading https://files.pythonhosted.org/packages/b7/31/05c8d001f7f87f0f07289a5fc0fc3832e9a57f2dbd4d3b0fee70e0d51365/jmespath-0.9.3-py2.py3-none-any.whl\n",
            "Requirement already satisfied: urllib3<1.25,>=1.20; python_version >= \"3.4\" in /usr/local/lib/python3.6/dist-packages (from botocore) (1.22)\n",
            "Requirement already satisfied: six>=1.5 in /usr/local/lib/python3.6/dist-packages (from python-dateutil<3.0.0,>=2.1; python_version >= \"2.7\"->botocore) (1.11.0)\n",
            "Installing collected packages: docutils, jmespath, botocore\n",
            "Successfully installed botocore-1.12.57 docutils-0.14 jmespath-0.9.3\n",
            "AWS Credentials are valid!\n"
          ],
          "name": "stdout"
        }
      ]
    },
    {
      "metadata": {
        "id": "nvtfUHtRauXx",
        "colab_type": "code",
        "colab": {
          "base_uri": "https://localhost:8080/",
          "height": 35
        },
        "outputId": "767fee63-6906-4d5c-b4bb-d4aa2d2d220b"
      },
      "cell_type": "code",
      "source": [
        "#Validating Microsoft Azure API connections\n",
        "from http.client import HTTPSConnection\n",
        "\n",
        "\n",
        "uri = config['MS Azure Region']+'.api.cognitive.microsoft.com'\n",
        "accessKey = config['MS Azure Access Keys']\n",
        "\n",
        "test_doc = {'documents' : [\n",
        "  {'id': '1', 'language': 'en', 'text': 'This is test data!'}\n",
        "]}\n",
        "\n",
        "def GetSentiment (documents):\n",
        "    path = '/text/analytics/v2.0/sentiment'\n",
        "    \n",
        "    headers = {'Ocp-Apim-Subscription-Key': accessKey}\n",
        "    conn = HTTPSConnection (uri)\n",
        "    body = json.dumps (documents)\n",
        "    conn.request (\"POST\", path, body, headers)\n",
        "    response = conn.getresponse ()\n",
        "    return response\n",
        "\n",
        "result = GetSentiment(test_doc)\n",
        "\n",
        "if result.status == 200:\n",
        "    print('Microsoft Keys are valid!')\n",
        "    #Proceed with other validation\n",
        "else :\n",
        "    print('Microsoft Keys are Invalid!')\n",
        "    #Exit code"
      ],
      "execution_count": 5,
      "outputs": [
        {
          "output_type": "stream",
          "text": [
            "Microsoft Keys are valid!\n"
          ],
          "name": "stdout"
        }
      ]
    },
    {
      "metadata": {
        "id": "K1miX1IJa-27",
        "colab_type": "code",
        "colab": {
          "base_uri": "https://localhost:8080/",
          "height": 401
        },
        "outputId": "90858c36-e67d-49d9-91c0-afab9cea194c"
      },
      "cell_type": "code",
      "source": [
        "#Validating IBM API keys\n",
        "\n",
        "#Introducing IBM API:\n",
        "!pip install watson_developer_cloud\n",
        "from watson_developer_cloud import NaturalLanguageUnderstandingV1\n",
        "from watson_developer_cloud.natural_language_understanding_v1 import Features, SentimentOptions\n",
        "\n",
        "natural_language_understanding = NaturalLanguageUnderstandingV1(\n",
        "    version='2018-03-16',\n",
        "    iam_apikey=config['IBM API Key'],\n",
        "    url=config['IBM API url']\n",
        ")\n",
        "response = natural_language_understanding.analyze(\n",
        "    text='This is test text',\n",
        "    features=Features(sentiment=SentimentOptions(targets=[''])))\n",
        "\n",
        "if response.get_status_code() == 200:\n",
        "    print('IBM keys are valid!')\n",
        "    #Proceed with other validation\n",
        "else :\n",
        "    print('IBM Keys are Invalid!')\n",
        "    #Exit code"
      ],
      "execution_count": 6,
      "outputs": [
        {
          "output_type": "stream",
          "text": [
            "Collecting watson_developer_cloud\n",
            "\u001b[?25l  Downloading https://files.pythonhosted.org/packages/77/3c/f1799e4757e8533b4a65a19345b3f52d892be5d9ffa471f9615bb5eac017/watson-developer-cloud-2.4.4.tar.gz (248kB)\n",
            "\u001b[K    100% |████████████████████████████████| 256kB 5.6MB/s \n",
            "\u001b[?25hRequirement already satisfied: requests<3.0,>=2.0 in /usr/local/lib/python3.6/dist-packages (from watson_developer_cloud) (2.18.4)\n",
            "Requirement already satisfied: python_dateutil>=2.5.3 in /usr/local/lib/python3.6/dist-packages (from watson_developer_cloud) (2.5.3)\n",
            "Collecting websocket-client==0.47.0 (from watson_developer_cloud)\n",
            "\u001b[?25l  Downloading https://files.pythonhosted.org/packages/9d/fb/f51a03e232e00d6c504dfe815aed090c894ba3f8d3f7fd9612f3e227bf24/websocket_client-0.47.0-py2.py3-none-any.whl (200kB)\n",
            "\u001b[K    100% |████████████████████████████████| 204kB 6.3MB/s \n",
            "\u001b[?25hRequirement already satisfied: certifi>=2017.4.17 in /usr/local/lib/python3.6/dist-packages (from requests<3.0,>=2.0->watson_developer_cloud) (2018.10.15)\n",
            "Requirement already satisfied: idna<2.7,>=2.5 in /usr/local/lib/python3.6/dist-packages (from requests<3.0,>=2.0->watson_developer_cloud) (2.6)\n",
            "Requirement already satisfied: urllib3<1.23,>=1.21.1 in /usr/local/lib/python3.6/dist-packages (from requests<3.0,>=2.0->watson_developer_cloud) (1.22)\n",
            "Requirement already satisfied: chardet<3.1.0,>=3.0.2 in /usr/local/lib/python3.6/dist-packages (from requests<3.0,>=2.0->watson_developer_cloud) (3.0.4)\n",
            "Requirement already satisfied: six>=1.5 in /usr/local/lib/python3.6/dist-packages (from python_dateutil>=2.5.3->watson_developer_cloud) (1.11.0)\n",
            "Building wheels for collected packages: watson-developer-cloud\n",
            "  Running setup.py bdist_wheel for watson-developer-cloud ... \u001b[?25l-\b \b\\\b \bdone\n",
            "\u001b[?25h  Stored in directory: /root/.cache/pip/wheels/36/21/38/6eaa2c266b1ac5ce6acb09c13766385c4169665dd9c8b3bd35\n",
            "Successfully built watson-developer-cloud\n",
            "Installing collected packages: websocket-client, watson-developer-cloud\n",
            "Successfully installed watson-developer-cloud-2.4.4 websocket-client-0.47.0\n",
            "IBM keys are valid!\n"
          ],
          "name": "stdout"
        }
      ]
    },
    {
      "metadata": {
        "id": "9XjugZ7Db_pL",
        "colab_type": "code",
        "colab": {
          "base_uri": "https://localhost:8080/",
          "height": 35
        },
        "outputId": "fd23563e-277f-4aed-c669-cabc1d3b0a35"
      },
      "cell_type": "code",
      "source": [
        "#Valdating Google API Keys:\n",
        "\n",
        "from google.cloud import language\n",
        "from google.cloud.language import enums\n",
        "from google.cloud.language import types\n",
        "\n",
        "from google.oauth2 import service_account\n",
        "\n",
        "cred = service_account.Credentials.from_service_account_file('NLP-Sentiment-3ab1018e6990.json')\n",
        "\n",
        "client = language.LanguageServiceClient(credentials=cred)\n",
        "\n",
        "data = ['This is the best day of my life!']\n",
        "\n",
        "for text in data:\n",
        "  document = types.Document(\n",
        "    content=text,\n",
        "    type=enums.Document.Type.PLAIN_TEXT)\n",
        "  sentiment = client.analyze_sentiment(document=document)\n",
        "\n",
        "\n",
        "  if sentiment.language == \"en\":\n",
        "    print(\"Google API Keys are valid!\")\n",
        "  else:\n",
        "    print(\"Invalid Google API Keys!\")"
      ],
      "execution_count": 7,
      "outputs": [
        {
          "output_type": "stream",
          "text": [
            "Google API Keys are valid!\n"
          ],
          "name": "stdout"
        }
      ]
    },
    {
      "metadata": {
        "id": "GWlfVfryd1vV",
        "colab_type": "code",
        "colab": {}
      },
      "cell_type": "code",
      "source": [
        "#Here we will merge all the data from all the team to get the complete dataset with manual sentiment analysis:\n",
        "\n",
        "with open('data.json','r') as f:\n",
        "    data_all = f.read()\n",
        "    \n",
        "data = json.loads(data_all)"
      ],
      "execution_count": 0,
      "outputs": []
    },
    {
      "metadata": {
        "id": "-EzQHzZjdPew",
        "colab_type": "code",
        "colab": {}
      },
      "cell_type": "code",
      "source": [
        "#This is the list of Text\n",
        "X = list(data['Text'].values())\n",
        "#This is the list of Manual Sentiment\n",
        "Y = list(data['Sentiment'].values())\n",
        "#This is the list for Company name\n",
        "Z = list(data['Company'].values())"
      ],
      "execution_count": 0,
      "outputs": []
    },
    {
      "metadata": {
        "id": "qavevnMKi8e0",
        "colab_type": "code",
        "colab": {}
      },
      "cell_type": "code",
      "source": [
        "import pandas as pd"
      ],
      "execution_count": 0,
      "outputs": []
    },
    {
      "metadata": {
        "id": "qg79laHAkZNB",
        "colab_type": "code",
        "colab": {}
      },
      "cell_type": "code",
      "source": [
        "Man_Senti = pd.DataFrame({'Text':X, 'Sentiment': Y, 'Company': Z})"
      ],
      "execution_count": 0,
      "outputs": []
    },
    {
      "metadata": {
        "id": "CGCz3c6PgX7j",
        "colab_type": "code",
        "colab": {
          "base_uri": "https://localhost:8080/",
          "height": 198
        },
        "outputId": "34d69172-353c-4079-c7c6-8e627a4b4203"
      },
      "cell_type": "code",
      "source": [
        "Man_Senti.head()"
      ],
      "execution_count": 12,
      "outputs": [
        {
          "output_type": "execute_result",
          "data": {
            "text/html": [
              "<div>\n",
              "<style scoped>\n",
              "    .dataframe tbody tr th:only-of-type {\n",
              "        vertical-align: middle;\n",
              "    }\n",
              "\n",
              "    .dataframe tbody tr th {\n",
              "        vertical-align: top;\n",
              "    }\n",
              "\n",
              "    .dataframe thead th {\n",
              "        text-align: right;\n",
              "    }\n",
              "</style>\n",
              "<table border=\"1\" class=\"dataframe\">\n",
              "  <thead>\n",
              "    <tr style=\"text-align: right;\">\n",
              "      <th></th>\n",
              "      <th>Company</th>\n",
              "      <th>Sentiment</th>\n",
              "      <th>Text</th>\n",
              "    </tr>\n",
              "  </thead>\n",
              "  <tbody>\n",
              "    <tr>\n",
              "      <th>0</th>\n",
              "      <td>Amazon</td>\n",
              "      <td>Neutral</td>\n",
              "      <td>Amazon.com, Inc. (NASDAQ:AMZN) Q3 2018 Earning...</td>\n",
              "    </tr>\n",
              "    <tr>\n",
              "      <th>1</th>\n",
              "      <td>Amazon</td>\n",
              "      <td>Neutral</td>\n",
              "      <td>Good day, everyone, and welcome to the Amazon....</td>\n",
              "    </tr>\n",
              "    <tr>\n",
              "      <th>2</th>\n",
              "      <td>Amazon</td>\n",
              "      <td>Neutral</td>\n",
              "      <td>For opening remarks, I will be turning the cal...</td>\n",
              "    </tr>\n",
              "    <tr>\n",
              "      <th>3</th>\n",
              "      <td>Amazon</td>\n",
              "      <td>Neutral</td>\n",
              "      <td>Hello, and welcome to our Q3 2018 financial re...</td>\n",
              "    </tr>\n",
              "    <tr>\n",
              "      <th>4</th>\n",
              "      <td>Amazon</td>\n",
              "      <td>Neutral</td>\n",
              "      <td>Our comments and responses to your questions r...</td>\n",
              "    </tr>\n",
              "  </tbody>\n",
              "</table>\n",
              "</div>"
            ],
            "text/plain": [
              "  Company Sentiment                                               Text\n",
              "0  Amazon   Neutral  Amazon.com, Inc. (NASDAQ:AMZN) Q3 2018 Earning...\n",
              "1  Amazon   Neutral  Good day, everyone, and welcome to the Amazon....\n",
              "2  Amazon   Neutral  For opening remarks, I will be turning the cal...\n",
              "3  Amazon   Neutral  Hello, and welcome to our Q3 2018 financial re...\n",
              "4  Amazon   Neutral  Our comments and responses to your questions r..."
            ]
          },
          "metadata": {
            "tags": []
          },
          "execution_count": 12
        }
      ]
    },
    {
      "metadata": {
        "id": "xrvlbfmC3W3d",
        "colab_type": "code",
        "colab": {
          "base_uri": "https://localhost:8080/",
          "height": 35
        },
        "outputId": "3970db9a-7e57-48a6-9786-8a6073068965"
      },
      "cell_type": "code",
      "source": [
        "len(Man_Senti)"
      ],
      "execution_count": 13,
      "outputs": [
        {
          "output_type": "execute_result",
          "data": {
            "text/plain": [
              "622"
            ]
          },
          "metadata": {
            "tags": []
          },
          "execution_count": 13
        }
      ]
    },
    {
      "metadata": {
        "id": "kse9-lD8j0oD",
        "colab_type": "code",
        "colab": {
          "base_uri": "https://localhost:8080/",
          "height": 292
        },
        "outputId": "576f4dd4-923e-43bc-dff7-c41f3b23d906"
      },
      "cell_type": "code",
      "source": [
        "text = X\n",
        "\n",
        "from time import time\n",
        "!pip install boto3\n",
        "import boto3"
      ],
      "execution_count": 14,
      "outputs": [
        {
          "output_type": "stream",
          "text": [
            "Collecting boto3\n",
            "\u001b[?25l  Downloading https://files.pythonhosted.org/packages/bf/a1/2fedb80d3eefe024580aaff3e81106058b6f99698295edfca51199162bd5/boto3-1.9.57-py2.py3-none-any.whl (128kB)\n",
            "\u001b[K    100% |████████████████████████████████| 133kB 4.4MB/s \n",
            "\u001b[?25hRequirement already satisfied: botocore<1.13.0,>=1.12.57 in /usr/local/lib/python3.6/dist-packages (from boto3) (1.12.57)\n",
            "Collecting s3transfer<0.2.0,>=0.1.10 (from boto3)\n",
            "\u001b[?25l  Downloading https://files.pythonhosted.org/packages/d7/14/2a0004d487464d120c9fb85313a75cd3d71a7506955be458eebfe19a6b1d/s3transfer-0.1.13-py2.py3-none-any.whl (59kB)\n",
            "\u001b[K    100% |████████████████████████████████| 61kB 4.8MB/s \n",
            "\u001b[?25hRequirement already satisfied: jmespath<1.0.0,>=0.7.1 in /usr/local/lib/python3.6/dist-packages (from boto3) (0.9.3)\n",
            "Requirement already satisfied: urllib3<1.25,>=1.20; python_version >= \"3.4\" in /usr/local/lib/python3.6/dist-packages (from botocore<1.13.0,>=1.12.57->boto3) (1.22)\n",
            "Requirement already satisfied: docutils>=0.10 in /usr/local/lib/python3.6/dist-packages (from botocore<1.13.0,>=1.12.57->boto3) (0.14)\n",
            "Requirement already satisfied: python-dateutil<3.0.0,>=2.1; python_version >= \"2.7\" in /usr/local/lib/python3.6/dist-packages (from botocore<1.13.0,>=1.12.57->boto3) (2.5.3)\n",
            "Requirement already satisfied: six>=1.5 in /usr/local/lib/python3.6/dist-packages (from python-dateutil<3.0.0,>=2.1; python_version >= \"2.7\"->botocore<1.13.0,>=1.12.57->boto3) (1.11.0)\n",
            "Installing collected packages: s3transfer, boto3\n",
            "Successfully installed boto3-1.9.57 s3transfer-0.1.13\n"
          ],
          "name": "stdout"
        }
      ]
    },
    {
      "metadata": {
        "id": "PE16oiv6rLNX",
        "colab_type": "code",
        "colab": {}
      },
      "cell_type": "code",
      "source": [
        "#Getting sentiment using AWS API:\n",
        "\n",
        "start = time()\n",
        "\n",
        "comprehend = boto3.client(\n",
        "    'comprehend',\n",
        "    aws_access_key_id=access_key,\n",
        "    aws_secret_access_key=secret_access_key,\n",
        "    region_name='us-east-1'\n",
        ")\n",
        "\n",
        "rows = []\n",
        "i=1\n",
        "for t in text:\n",
        "  sentimentData = comprehend.detect_sentiment(Text=t, LanguageCode='en')\n",
        "  row = [i, 'AWS', sentimentData['Sentiment'],sentimentData['SentimentScore']['Negative'],sentimentData['SentimentScore']['Neutral'],sentimentData['SentimentScore']['Positive']]\n",
        "  rows.append(row)\n",
        "  i+=1\n",
        "result_aws = pd.DataFrame(rows, columns=['Text_ID', 'API', 'Overall', 'Negative', 'Neutral', 'Positive'])\n",
        "\n",
        "end = time()\n",
        "\n",
        "time_aws = end - start\n"
      ],
      "execution_count": 0,
      "outputs": []
    },
    {
      "metadata": {
        "id": "-PFGZE2KsgkE",
        "colab_type": "code",
        "colab": {
          "base_uri": "https://localhost:8080/",
          "height": 198
        },
        "outputId": "195e744b-3694-483e-a692-593987dc2973"
      },
      "cell_type": "code",
      "source": [
        "#AWS Sentiment \n",
        "result_aws.head()"
      ],
      "execution_count": 16,
      "outputs": [
        {
          "output_type": "execute_result",
          "data": {
            "text/html": [
              "<div>\n",
              "<style scoped>\n",
              "    .dataframe tbody tr th:only-of-type {\n",
              "        vertical-align: middle;\n",
              "    }\n",
              "\n",
              "    .dataframe tbody tr th {\n",
              "        vertical-align: top;\n",
              "    }\n",
              "\n",
              "    .dataframe thead th {\n",
              "        text-align: right;\n",
              "    }\n",
              "</style>\n",
              "<table border=\"1\" class=\"dataframe\">\n",
              "  <thead>\n",
              "    <tr style=\"text-align: right;\">\n",
              "      <th></th>\n",
              "      <th>Text_ID</th>\n",
              "      <th>API</th>\n",
              "      <th>Overall</th>\n",
              "      <th>Negative</th>\n",
              "      <th>Neutral</th>\n",
              "      <th>Positive</th>\n",
              "    </tr>\n",
              "  </thead>\n",
              "  <tbody>\n",
              "    <tr>\n",
              "      <th>0</th>\n",
              "      <td>1</td>\n",
              "      <td>AWS</td>\n",
              "      <td>NEUTRAL</td>\n",
              "      <td>0.000141</td>\n",
              "      <td>0.998418</td>\n",
              "      <td>0.001304</td>\n",
              "    </tr>\n",
              "    <tr>\n",
              "      <th>1</th>\n",
              "      <td>2</td>\n",
              "      <td>AWS</td>\n",
              "      <td>POSITIVE</td>\n",
              "      <td>0.003760</td>\n",
              "      <td>0.487941</td>\n",
              "      <td>0.495716</td>\n",
              "    </tr>\n",
              "    <tr>\n",
              "      <th>2</th>\n",
              "      <td>3</td>\n",
              "      <td>AWS</td>\n",
              "      <td>NEUTRAL</td>\n",
              "      <td>0.007338</td>\n",
              "      <td>0.976732</td>\n",
              "      <td>0.012431</td>\n",
              "    </tr>\n",
              "    <tr>\n",
              "      <th>3</th>\n",
              "      <td>4</td>\n",
              "      <td>AWS</td>\n",
              "      <td>NEUTRAL</td>\n",
              "      <td>0.000654</td>\n",
              "      <td>0.686703</td>\n",
              "      <td>0.305323</td>\n",
              "    </tr>\n",
              "    <tr>\n",
              "      <th>4</th>\n",
              "      <td>5</td>\n",
              "      <td>AWS</td>\n",
              "      <td>NEUTRAL</td>\n",
              "      <td>0.002042</td>\n",
              "      <td>0.996204</td>\n",
              "      <td>0.001183</td>\n",
              "    </tr>\n",
              "  </tbody>\n",
              "</table>\n",
              "</div>"
            ],
            "text/plain": [
              "   Text_ID  API   Overall  Negative   Neutral  Positive\n",
              "0        1  AWS   NEUTRAL  0.000141  0.998418  0.001304\n",
              "1        2  AWS  POSITIVE  0.003760  0.487941  0.495716\n",
              "2        3  AWS   NEUTRAL  0.007338  0.976732  0.012431\n",
              "3        4  AWS   NEUTRAL  0.000654  0.686703  0.305323\n",
              "4        5  AWS   NEUTRAL  0.002042  0.996204  0.001183"
            ]
          },
          "metadata": {
            "tags": []
          },
          "execution_count": 16
        }
      ]
    },
    {
      "metadata": {
        "id": "BY_ElLkNyQx5",
        "colab_type": "code",
        "colab": {
          "base_uri": "https://localhost:8080/",
          "height": 35
        },
        "outputId": "17e144ea-34f0-4c57-e2c8-086638818f09"
      },
      "cell_type": "code",
      "source": [
        "time_aws"
      ],
      "execution_count": 17,
      "outputs": [
        {
          "output_type": "execute_result",
          "data": {
            "text/plain": [
              "43.096174240112305"
            ]
          },
          "metadata": {
            "tags": []
          },
          "execution_count": 17
        }
      ]
    },
    {
      "metadata": {
        "id": "5EyFIQhrzALN",
        "colab_type": "code",
        "colab": {
          "base_uri": "https://localhost:8080/",
          "height": 35
        },
        "outputId": "d52f2e4c-27a9-4a56-b4c8-5b2ee47f563e"
      },
      "cell_type": "code",
      "source": [
        "len(result_aws)"
      ],
      "execution_count": 18,
      "outputs": [
        {
          "output_type": "execute_result",
          "data": {
            "text/plain": [
              "622"
            ]
          },
          "metadata": {
            "tags": []
          },
          "execution_count": 18
        }
      ]
    },
    {
      "metadata": {
        "id": "BdFsmNnbsn8t",
        "colab_type": "code",
        "colab": {}
      },
      "cell_type": "code",
      "source": [
        "#Getting sentiment using Microsoft Azure API:\n",
        "\n",
        "start = time()\n",
        "\n",
        "n = len(text)\n",
        "id=[i for i in range(1,1+n)]\n",
        "language=['en' for i in range(n)]\n",
        "document=[]\n",
        "\n",
        "#Generating form for hitting it on Azure Text Analystics API \n",
        "for i in range(n):\n",
        "    dic = {'id':id[i],'language':language[i],'text':text[i]}\n",
        "    document.append(dic)\n",
        "documents = {'documents':document}\n",
        "\n",
        "def GetSentiment (documents1):\n",
        "    path = '/text/analytics/v2.0/sentiment'\n",
        "    \n",
        "    headers = {'Ocp-Apim-Subscription-Key': accessKey}\n",
        "    conn = HTTPSConnection (uri)\n",
        "    body = json.dumps (documents1)\n",
        "    conn.request (\"POST\", path, body, headers)\n",
        "    response = conn.getresponse ()\n",
        "    return response.read ()\n",
        "  \n",
        "\n",
        "result = GetSentiment(documents)\n",
        "\n",
        "sentiments = json.loads(result)[\"documents\"]\n",
        "\n",
        "i = 0\n",
        "rows = []\n",
        "for item in sentiments:\n",
        "  row = [sentiments[i]['id'], 'Azure', sentiments[i]['score']]\n",
        "  rows.append(row)\n",
        "  i+=1\n",
        "result_azure = pd.DataFrame(rows, columns=['Text_ID', 'API', 'Overall_Score'])\n",
        "\n",
        "end = time()\n",
        "\n",
        "time_azure = end - start"
      ],
      "execution_count": 0,
      "outputs": []
    },
    {
      "metadata": {
        "id": "8JRlhkrVu0Ie",
        "colab_type": "code",
        "colab": {
          "base_uri": "https://localhost:8080/",
          "height": 198
        },
        "outputId": "da796df1-0d0e-4fef-eda2-85bb2cdbc3db"
      },
      "cell_type": "code",
      "source": [
        "result_azure.head()"
      ],
      "execution_count": 20,
      "outputs": [
        {
          "output_type": "execute_result",
          "data": {
            "text/html": [
              "<div>\n",
              "<style scoped>\n",
              "    .dataframe tbody tr th:only-of-type {\n",
              "        vertical-align: middle;\n",
              "    }\n",
              "\n",
              "    .dataframe tbody tr th {\n",
              "        vertical-align: top;\n",
              "    }\n",
              "\n",
              "    .dataframe thead th {\n",
              "        text-align: right;\n",
              "    }\n",
              "</style>\n",
              "<table border=\"1\" class=\"dataframe\">\n",
              "  <thead>\n",
              "    <tr style=\"text-align: right;\">\n",
              "      <th></th>\n",
              "      <th>Text_ID</th>\n",
              "      <th>API</th>\n",
              "      <th>Overall_Score</th>\n",
              "    </tr>\n",
              "  </thead>\n",
              "  <tbody>\n",
              "    <tr>\n",
              "      <th>0</th>\n",
              "      <td>1</td>\n",
              "      <td>Azure</td>\n",
              "      <td>0.500000</td>\n",
              "    </tr>\n",
              "    <tr>\n",
              "      <th>1</th>\n",
              "      <td>2</td>\n",
              "      <td>Azure</td>\n",
              "      <td>0.891742</td>\n",
              "    </tr>\n",
              "    <tr>\n",
              "      <th>2</th>\n",
              "      <td>3</td>\n",
              "      <td>Azure</td>\n",
              "      <td>0.500000</td>\n",
              "    </tr>\n",
              "    <tr>\n",
              "      <th>3</th>\n",
              "      <td>4</td>\n",
              "      <td>Azure</td>\n",
              "      <td>0.500000</td>\n",
              "    </tr>\n",
              "    <tr>\n",
              "      <th>4</th>\n",
              "      <td>5</td>\n",
              "      <td>Azure</td>\n",
              "      <td>0.500000</td>\n",
              "    </tr>\n",
              "  </tbody>\n",
              "</table>\n",
              "</div>"
            ],
            "text/plain": [
              "  Text_ID    API  Overall_Score\n",
              "0       1  Azure       0.500000\n",
              "1       2  Azure       0.891742\n",
              "2       3  Azure       0.500000\n",
              "3       4  Azure       0.500000\n",
              "4       5  Azure       0.500000"
            ]
          },
          "metadata": {
            "tags": []
          },
          "execution_count": 20
        }
      ]
    },
    {
      "metadata": {
        "id": "8nJmmV5XyydX",
        "colab_type": "code",
        "colab": {
          "base_uri": "https://localhost:8080/",
          "height": 35
        },
        "outputId": "e1ee4872-b1c5-4ca9-938e-7cfb4eb68d2b"
      },
      "cell_type": "code",
      "source": [
        "time_azure"
      ],
      "execution_count": 21,
      "outputs": [
        {
          "output_type": "execute_result",
          "data": {
            "text/plain": [
              "2.5908381938934326"
            ]
          },
          "metadata": {
            "tags": []
          },
          "execution_count": 21
        }
      ]
    },
    {
      "metadata": {
        "id": "zOEP-JjEy1z5",
        "colab_type": "code",
        "colab": {
          "base_uri": "https://localhost:8080/",
          "height": 35
        },
        "outputId": "4751b8e0-6a8c-403f-dfe2-11d31e4b1e88"
      },
      "cell_type": "code",
      "source": [
        "len(result_azure)"
      ],
      "execution_count": 22,
      "outputs": [
        {
          "output_type": "execute_result",
          "data": {
            "text/plain": [
              "622"
            ]
          },
          "metadata": {
            "tags": []
          },
          "execution_count": 22
        }
      ]
    },
    {
      "metadata": {
        "id": "0PfhOSOZy7kR",
        "colab_type": "code",
        "colab": {}
      },
      "cell_type": "code",
      "source": [
        "#Getting sentiment using IBM API:\n",
        "\n",
        "#Introducing IBM API:\n",
        "#!pip install watson_developer_cloud\n",
        "from watson_developer_cloud import NaturalLanguageUnderstandingV1\n",
        "from watson_developer_cloud.natural_language_understanding_v1 import Features, SentimentOptions\n",
        "\n",
        "'''\n",
        "natural_language_understanding = NaturalLanguageUnderstandingV1(\n",
        "    version='2018-03-16',\n",
        "    iam_apikey=config['IBM API Key'],\n",
        "    url=config['IBM API url']\n",
        ")\n",
        "'''\n",
        "\n",
        "start = time()\n",
        "rows = []\n",
        "i=1\n",
        "for t in text:\n",
        "    if (len(t)<15 or len(t.split(' '))<3):\n",
        "        #Padding neutral text as the IBM NLU api needs some minimum text word and charachater coun\n",
        "        t = t + \"This is neutral\"\n",
        "    sentimentData = natural_language_understanding.analyze(text=t,features=Features(sentiment=SentimentOptions(targets=['']))).get_result()\n",
        "    row = [i, 'IBM', sentimentData['sentiment']['document']['label'],sentimentData['sentiment']['document']['score']]\n",
        "    rows.append(row)\n",
        "    i+=1\n",
        "    \n",
        "result_ibm = pd.DataFrame(rows, columns=['Text_ID', 'API', 'Overall', 'Score'])\n",
        "\n",
        "end = time()\n",
        "\n",
        "time_ibm = end - start"
      ],
      "execution_count": 0,
      "outputs": []
    },
    {
      "metadata": {
        "id": "LjEl92jHzpN4",
        "colab_type": "code",
        "colab": {
          "base_uri": "https://localhost:8080/",
          "height": 198
        },
        "outputId": "e3293fa1-04ee-464c-8c8d-1edf2d026552"
      },
      "cell_type": "code",
      "source": [
        "result_ibm.head()"
      ],
      "execution_count": 26,
      "outputs": [
        {
          "output_type": "execute_result",
          "data": {
            "text/html": [
              "<div>\n",
              "<style scoped>\n",
              "    .dataframe tbody tr th:only-of-type {\n",
              "        vertical-align: middle;\n",
              "    }\n",
              "\n",
              "    .dataframe tbody tr th {\n",
              "        vertical-align: top;\n",
              "    }\n",
              "\n",
              "    .dataframe thead th {\n",
              "        text-align: right;\n",
              "    }\n",
              "</style>\n",
              "<table border=\"1\" class=\"dataframe\">\n",
              "  <thead>\n",
              "    <tr style=\"text-align: right;\">\n",
              "      <th></th>\n",
              "      <th>Text_ID</th>\n",
              "      <th>API</th>\n",
              "      <th>Overall</th>\n",
              "      <th>Score</th>\n",
              "    </tr>\n",
              "  </thead>\n",
              "  <tbody>\n",
              "    <tr>\n",
              "      <th>0</th>\n",
              "      <td>1</td>\n",
              "      <td>IBM</td>\n",
              "      <td>neutral</td>\n",
              "      <td>0.000000</td>\n",
              "    </tr>\n",
              "    <tr>\n",
              "      <th>1</th>\n",
              "      <td>2</td>\n",
              "      <td>IBM</td>\n",
              "      <td>positive</td>\n",
              "      <td>0.750129</td>\n",
              "    </tr>\n",
              "    <tr>\n",
              "      <th>2</th>\n",
              "      <td>3</td>\n",
              "      <td>IBM</td>\n",
              "      <td>positive</td>\n",
              "      <td>0.476440</td>\n",
              "    </tr>\n",
              "    <tr>\n",
              "      <th>3</th>\n",
              "      <td>4</td>\n",
              "      <td>IBM</td>\n",
              "      <td>positive</td>\n",
              "      <td>0.678515</td>\n",
              "    </tr>\n",
              "    <tr>\n",
              "      <th>4</th>\n",
              "      <td>5</td>\n",
              "      <td>IBM</td>\n",
              "      <td>positive</td>\n",
              "      <td>0.437226</td>\n",
              "    </tr>\n",
              "  </tbody>\n",
              "</table>\n",
              "</div>"
            ],
            "text/plain": [
              "   Text_ID  API   Overall     Score\n",
              "0        1  IBM   neutral  0.000000\n",
              "1        2  IBM  positive  0.750129\n",
              "2        3  IBM  positive  0.476440\n",
              "3        4  IBM  positive  0.678515\n",
              "4        5  IBM  positive  0.437226"
            ]
          },
          "metadata": {
            "tags": []
          },
          "execution_count": 26
        }
      ]
    },
    {
      "metadata": {
        "id": "WBQB8E7g0JXK",
        "colab_type": "code",
        "colab": {
          "base_uri": "https://localhost:8080/",
          "height": 35
        },
        "outputId": "4515a54f-f970-4457-d8ab-1469c97a6b9f"
      },
      "cell_type": "code",
      "source": [
        "time_ibm"
      ],
      "execution_count": 27,
      "outputs": [
        {
          "output_type": "execute_result",
          "data": {
            "text/plain": [
              "185.79524445533752"
            ]
          },
          "metadata": {
            "tags": []
          },
          "execution_count": 27
        }
      ]
    },
    {
      "metadata": {
        "id": "h-N_v9160L4S",
        "colab_type": "code",
        "colab": {
          "base_uri": "https://localhost:8080/",
          "height": 35
        },
        "outputId": "7cfa2e77-314e-4802-fd4b-21273fec97e7"
      },
      "cell_type": "code",
      "source": [
        "len(result_ibm)"
      ],
      "execution_count": 28,
      "outputs": [
        {
          "output_type": "execute_result",
          "data": {
            "text/plain": [
              "622"
            ]
          },
          "metadata": {
            "tags": []
          },
          "execution_count": 28
        }
      ]
    },
    {
      "metadata": {
        "id": "Tx6j8EFX0kVR",
        "colab_type": "code",
        "colab": {}
      },
      "cell_type": "code",
      "source": [
        "#Getting Sentiment using Google API:\n",
        "\n",
        "start = time()\n",
        "\n",
        "rows = []\n",
        "i=1\n",
        "\n",
        "for t in text:\n",
        "  document = types.Document(\n",
        "    content=t,\n",
        "    type=enums.Document.Type.PLAIN_TEXT)\n",
        "  sentiment = client.analyze_sentiment(document=document)\n",
        "  row = [i, 'GCP', sentiment.document_sentiment.magnitude,sentiment.document_sentiment.score]\n",
        "  rows.append(row)\n",
        "  i+=1\n",
        "\n",
        "result_gcp = pd.DataFrame(rows, columns=['Text_ID', 'API', 'Magnitude', 'Score'])\n",
        "\n",
        "end = time()\n",
        "\n",
        "time_gcp = end-start\n",
        "  "
      ],
      "execution_count": 0,
      "outputs": []
    },
    {
      "metadata": {
        "id": "ArjLfJSJ1H_J",
        "colab_type": "code",
        "colab": {
          "base_uri": "https://localhost:8080/",
          "height": 198
        },
        "outputId": "d7ff033f-7aed-4191-d429-251189db1786"
      },
      "cell_type": "code",
      "source": [
        "result_gcp.head()"
      ],
      "execution_count": 30,
      "outputs": [
        {
          "output_type": "execute_result",
          "data": {
            "text/html": [
              "<div>\n",
              "<style scoped>\n",
              "    .dataframe tbody tr th:only-of-type {\n",
              "        vertical-align: middle;\n",
              "    }\n",
              "\n",
              "    .dataframe tbody tr th {\n",
              "        vertical-align: top;\n",
              "    }\n",
              "\n",
              "    .dataframe thead th {\n",
              "        text-align: right;\n",
              "    }\n",
              "</style>\n",
              "<table border=\"1\" class=\"dataframe\">\n",
              "  <thead>\n",
              "    <tr style=\"text-align: right;\">\n",
              "      <th></th>\n",
              "      <th>Text_ID</th>\n",
              "      <th>API</th>\n",
              "      <th>Magnitude</th>\n",
              "      <th>Score</th>\n",
              "    </tr>\n",
              "  </thead>\n",
              "  <tbody>\n",
              "    <tr>\n",
              "      <th>0</th>\n",
              "      <td>1</td>\n",
              "      <td>GCP</td>\n",
              "      <td>0.0</td>\n",
              "      <td>0.0</td>\n",
              "    </tr>\n",
              "    <tr>\n",
              "      <th>1</th>\n",
              "      <td>2</td>\n",
              "      <td>GCP</td>\n",
              "      <td>0.9</td>\n",
              "      <td>0.1</td>\n",
              "    </tr>\n",
              "    <tr>\n",
              "      <th>2</th>\n",
              "      <td>3</td>\n",
              "      <td>GCP</td>\n",
              "      <td>0.0</td>\n",
              "      <td>0.0</td>\n",
              "    </tr>\n",
              "    <tr>\n",
              "      <th>3</th>\n",
              "      <td>4</td>\n",
              "      <td>GCP</td>\n",
              "      <td>1.2</td>\n",
              "      <td>0.3</td>\n",
              "    </tr>\n",
              "    <tr>\n",
              "      <th>4</th>\n",
              "      <td>5</td>\n",
              "      <td>GCP</td>\n",
              "      <td>0.2</td>\n",
              "      <td>0.0</td>\n",
              "    </tr>\n",
              "  </tbody>\n",
              "</table>\n",
              "</div>"
            ],
            "text/plain": [
              "   Text_ID  API  Magnitude  Score\n",
              "0        1  GCP        0.0    0.0\n",
              "1        2  GCP        0.9    0.1\n",
              "2        3  GCP        0.0    0.0\n",
              "3        4  GCP        1.2    0.3\n",
              "4        5  GCP        0.2    0.0"
            ]
          },
          "metadata": {
            "tags": []
          },
          "execution_count": 30
        }
      ]
    },
    {
      "metadata": {
        "id": "Dcjg8PX_1X8P",
        "colab_type": "code",
        "colab": {
          "base_uri": "https://localhost:8080/",
          "height": 35
        },
        "outputId": "0aaea5fc-973b-4afc-c7f4-698dc1ac685e"
      },
      "cell_type": "code",
      "source": [
        "time_gcp"
      ],
      "execution_count": 31,
      "outputs": [
        {
          "output_type": "execute_result",
          "data": {
            "text/plain": [
              "49.52760910987854"
            ]
          },
          "metadata": {
            "tags": []
          },
          "execution_count": 31
        }
      ]
    },
    {
      "metadata": {
        "id": "aGPfh87W1W0v",
        "colab_type": "code",
        "colab": {
          "base_uri": "https://localhost:8080/",
          "height": 35
        },
        "outputId": "1696e375-5334-4ddb-e753-1d801f675214"
      },
      "cell_type": "code",
      "source": [
        "len(result_gcp)"
      ],
      "execution_count": 32,
      "outputs": [
        {
          "output_type": "execute_result",
          "data": {
            "text/plain": [
              "622"
            ]
          },
          "metadata": {
            "tags": []
          },
          "execution_count": 32
        }
      ]
    },
    {
      "metadata": {
        "id": "SYeJ9Ic-1byz",
        "colab_type": "code",
        "colab": {
          "base_uri": "https://localhost:8080/",
          "height": 128
        },
        "outputId": "58f83e66-7aa1-4511-db4a-21b86722827a"
      },
      "cell_type": "code",
      "source": [
        "#Getting Sentiment using Vedor API:\n",
        "\n",
        "!pip install vaderSentiment\n",
        "from vaderSentiment.vaderSentiment import SentimentIntensityAnalyzer\n",
        "\n",
        "\n",
        "analyzer = SentimentIntensityAnalyzer()\n",
        "\n",
        "start = time()\n",
        "\n",
        "rows = []\n",
        "i=1\n",
        "for t in text:\n",
        "  sentimentData = analyzer.polarity_scores(t)\n",
        "  row = [i, 'Vader', sentimentData['compound'],sentimentData['neg'],sentimentData['neu'],sentimentData['pos']]\n",
        "  rows.append(row)\n",
        "  i+=1\n",
        "  \n",
        "result_vader = pd.DataFrame(rows, columns=['Text_ID', 'API', 'Overall_Score', 'Negative_Score', 'Neutral_Score', 'Positive_Score'])\n",
        "\n",
        "end = time()\n",
        "\n",
        "time_vader = end - start\n",
        "\n"
      ],
      "execution_count": 33,
      "outputs": [
        {
          "output_type": "stream",
          "text": [
            "Collecting vaderSentiment\n",
            "\u001b[?25l  Downloading https://files.pythonhosted.org/packages/86/9e/c53e1fc61aac5ee490a6ac5e21b1ac04e55a7c2aba647bb8411c9aadf24e/vaderSentiment-3.2.1-py2.py3-none-any.whl (125kB)\n",
            "\u001b[K    100% |████████████████████████████████| 133kB 4.4MB/s \n",
            "\u001b[?25hInstalling collected packages: vaderSentiment\n",
            "Successfully installed vaderSentiment-3.2.1\n"
          ],
          "name": "stdout"
        }
      ]
    },
    {
      "metadata": {
        "id": "SaeunJoL1_QA",
        "colab_type": "code",
        "colab": {
          "base_uri": "https://localhost:8080/",
          "height": 198
        },
        "outputId": "ecb6aff1-ebca-4876-d786-c0ded0939861"
      },
      "cell_type": "code",
      "source": [
        "result_vader.head()"
      ],
      "execution_count": 34,
      "outputs": [
        {
          "output_type": "execute_result",
          "data": {
            "text/html": [
              "<div>\n",
              "<style scoped>\n",
              "    .dataframe tbody tr th:only-of-type {\n",
              "        vertical-align: middle;\n",
              "    }\n",
              "\n",
              "    .dataframe tbody tr th {\n",
              "        vertical-align: top;\n",
              "    }\n",
              "\n",
              "    .dataframe thead th {\n",
              "        text-align: right;\n",
              "    }\n",
              "</style>\n",
              "<table border=\"1\" class=\"dataframe\">\n",
              "  <thead>\n",
              "    <tr style=\"text-align: right;\">\n",
              "      <th></th>\n",
              "      <th>Text_ID</th>\n",
              "      <th>API</th>\n",
              "      <th>Overall_Score</th>\n",
              "      <th>Negative_Score</th>\n",
              "      <th>Neutral_Score</th>\n",
              "      <th>Positive_Score</th>\n",
              "    </tr>\n",
              "  </thead>\n",
              "  <tbody>\n",
              "    <tr>\n",
              "      <th>0</th>\n",
              "      <td>1</td>\n",
              "      <td>Vader</td>\n",
              "      <td>0.0000</td>\n",
              "      <td>0.0</td>\n",
              "      <td>1.000</td>\n",
              "      <td>0.000</td>\n",
              "    </tr>\n",
              "    <tr>\n",
              "      <th>1</th>\n",
              "      <td>2</td>\n",
              "      <td>Vader</td>\n",
              "      <td>0.7096</td>\n",
              "      <td>0.0</td>\n",
              "      <td>0.848</td>\n",
              "      <td>0.152</td>\n",
              "    </tr>\n",
              "    <tr>\n",
              "      <th>2</th>\n",
              "      <td>3</td>\n",
              "      <td>Vader</td>\n",
              "      <td>0.3182</td>\n",
              "      <td>0.0</td>\n",
              "      <td>0.892</td>\n",
              "      <td>0.108</td>\n",
              "    </tr>\n",
              "    <tr>\n",
              "      <th>3</th>\n",
              "      <td>4</td>\n",
              "      <td>Vader</td>\n",
              "      <td>0.8658</td>\n",
              "      <td>0.0</td>\n",
              "      <td>0.872</td>\n",
              "      <td>0.128</td>\n",
              "    </tr>\n",
              "    <tr>\n",
              "      <th>4</th>\n",
              "      <td>5</td>\n",
              "      <td>Vader</td>\n",
              "      <td>0.0000</td>\n",
              "      <td>0.0</td>\n",
              "      <td>1.000</td>\n",
              "      <td>0.000</td>\n",
              "    </tr>\n",
              "  </tbody>\n",
              "</table>\n",
              "</div>"
            ],
            "text/plain": [
              "   Text_ID    API  Overall_Score  Negative_Score  Neutral_Score  \\\n",
              "0        1  Vader         0.0000             0.0          1.000   \n",
              "1        2  Vader         0.7096             0.0          0.848   \n",
              "2        3  Vader         0.3182             0.0          0.892   \n",
              "3        4  Vader         0.8658             0.0          0.872   \n",
              "4        5  Vader         0.0000             0.0          1.000   \n",
              "\n",
              "   Positive_Score  \n",
              "0           0.000  \n",
              "1           0.152  \n",
              "2           0.108  \n",
              "3           0.128  \n",
              "4           0.000  "
            ]
          },
          "metadata": {
            "tags": []
          },
          "execution_count": 34
        }
      ]
    },
    {
      "metadata": {
        "id": "ZLrPBqcO2LIM",
        "colab_type": "code",
        "colab": {
          "base_uri": "https://localhost:8080/",
          "height": 35
        },
        "outputId": "dd3f278b-25a8-44cd-9374-d916a46d825d"
      },
      "cell_type": "code",
      "source": [
        "time_vader"
      ],
      "execution_count": 35,
      "outputs": [
        {
          "output_type": "execute_result",
          "data": {
            "text/plain": [
              "0.8199565410614014"
            ]
          },
          "metadata": {
            "tags": []
          },
          "execution_count": 35
        }
      ]
    },
    {
      "metadata": {
        "id": "qnFJVYSP2cqk",
        "colab_type": "code",
        "colab": {
          "base_uri": "https://localhost:8080/",
          "height": 35
        },
        "outputId": "0a8025a8-7c35-4fb4-b976-45075e0d438f"
      },
      "cell_type": "code",
      "source": [
        "len(result_vader)"
      ],
      "execution_count": 36,
      "outputs": [
        {
          "output_type": "execute_result",
          "data": {
            "text/plain": [
              "622"
            ]
          },
          "metadata": {
            "tags": []
          },
          "execution_count": 36
        }
      ]
    },
    {
      "metadata": {
        "id": "w6ckvhBY4c_Q",
        "colab_type": "code",
        "colab": {
          "base_uri": "https://localhost:8080/",
          "height": 198
        },
        "outputId": "4c6a59c8-0fa3-480c-d689-632d8d4933dd"
      },
      "cell_type": "code",
      "source": [
        "Man_Senti.head()"
      ],
      "execution_count": 37,
      "outputs": [
        {
          "output_type": "execute_result",
          "data": {
            "text/html": [
              "<div>\n",
              "<style scoped>\n",
              "    .dataframe tbody tr th:only-of-type {\n",
              "        vertical-align: middle;\n",
              "    }\n",
              "\n",
              "    .dataframe tbody tr th {\n",
              "        vertical-align: top;\n",
              "    }\n",
              "\n",
              "    .dataframe thead th {\n",
              "        text-align: right;\n",
              "    }\n",
              "</style>\n",
              "<table border=\"1\" class=\"dataframe\">\n",
              "  <thead>\n",
              "    <tr style=\"text-align: right;\">\n",
              "      <th></th>\n",
              "      <th>Company</th>\n",
              "      <th>Sentiment</th>\n",
              "      <th>Text</th>\n",
              "    </tr>\n",
              "  </thead>\n",
              "  <tbody>\n",
              "    <tr>\n",
              "      <th>0</th>\n",
              "      <td>Amazon</td>\n",
              "      <td>Neutral</td>\n",
              "      <td>Amazon.com, Inc. (NASDAQ:AMZN) Q3 2018 Earning...</td>\n",
              "    </tr>\n",
              "    <tr>\n",
              "      <th>1</th>\n",
              "      <td>Amazon</td>\n",
              "      <td>Neutral</td>\n",
              "      <td>Good day, everyone, and welcome to the Amazon....</td>\n",
              "    </tr>\n",
              "    <tr>\n",
              "      <th>2</th>\n",
              "      <td>Amazon</td>\n",
              "      <td>Neutral</td>\n",
              "      <td>For opening remarks, I will be turning the cal...</td>\n",
              "    </tr>\n",
              "    <tr>\n",
              "      <th>3</th>\n",
              "      <td>Amazon</td>\n",
              "      <td>Neutral</td>\n",
              "      <td>Hello, and welcome to our Q3 2018 financial re...</td>\n",
              "    </tr>\n",
              "    <tr>\n",
              "      <th>4</th>\n",
              "      <td>Amazon</td>\n",
              "      <td>Neutral</td>\n",
              "      <td>Our comments and responses to your questions r...</td>\n",
              "    </tr>\n",
              "  </tbody>\n",
              "</table>\n",
              "</div>"
            ],
            "text/plain": [
              "  Company Sentiment                                               Text\n",
              "0  Amazon   Neutral  Amazon.com, Inc. (NASDAQ:AMZN) Q3 2018 Earning...\n",
              "1  Amazon   Neutral  Good day, everyone, and welcome to the Amazon....\n",
              "2  Amazon   Neutral  For opening remarks, I will be turning the cal...\n",
              "3  Amazon   Neutral  Hello, and welcome to our Q3 2018 financial re...\n",
              "4  Amazon   Neutral  Our comments and responses to your questions r..."
            ]
          },
          "metadata": {
            "tags": []
          },
          "execution_count": 37
        }
      ]
    },
    {
      "metadata": {
        "id": "jyB-pK6E4lRY",
        "colab_type": "code",
        "colab": {}
      },
      "cell_type": "code",
      "source": [
        "Man_Senti = Man_Senti.reset_index()"
      ],
      "execution_count": 0,
      "outputs": []
    },
    {
      "metadata": {
        "id": "J8bOnW6t4vE2",
        "colab_type": "code",
        "colab": {
          "base_uri": "https://localhost:8080/",
          "height": 198
        },
        "outputId": "a5c30139-b17c-47fa-953c-feb7275b2c2f"
      },
      "cell_type": "code",
      "source": [
        "Man_Senti.head()"
      ],
      "execution_count": 39,
      "outputs": [
        {
          "output_type": "execute_result",
          "data": {
            "text/html": [
              "<div>\n",
              "<style scoped>\n",
              "    .dataframe tbody tr th:only-of-type {\n",
              "        vertical-align: middle;\n",
              "    }\n",
              "\n",
              "    .dataframe tbody tr th {\n",
              "        vertical-align: top;\n",
              "    }\n",
              "\n",
              "    .dataframe thead th {\n",
              "        text-align: right;\n",
              "    }\n",
              "</style>\n",
              "<table border=\"1\" class=\"dataframe\">\n",
              "  <thead>\n",
              "    <tr style=\"text-align: right;\">\n",
              "      <th></th>\n",
              "      <th>index</th>\n",
              "      <th>Company</th>\n",
              "      <th>Sentiment</th>\n",
              "      <th>Text</th>\n",
              "    </tr>\n",
              "  </thead>\n",
              "  <tbody>\n",
              "    <tr>\n",
              "      <th>0</th>\n",
              "      <td>0</td>\n",
              "      <td>Amazon</td>\n",
              "      <td>Neutral</td>\n",
              "      <td>Amazon.com, Inc. (NASDAQ:AMZN) Q3 2018 Earning...</td>\n",
              "    </tr>\n",
              "    <tr>\n",
              "      <th>1</th>\n",
              "      <td>1</td>\n",
              "      <td>Amazon</td>\n",
              "      <td>Neutral</td>\n",
              "      <td>Good day, everyone, and welcome to the Amazon....</td>\n",
              "    </tr>\n",
              "    <tr>\n",
              "      <th>2</th>\n",
              "      <td>2</td>\n",
              "      <td>Amazon</td>\n",
              "      <td>Neutral</td>\n",
              "      <td>For opening remarks, I will be turning the cal...</td>\n",
              "    </tr>\n",
              "    <tr>\n",
              "      <th>3</th>\n",
              "      <td>3</td>\n",
              "      <td>Amazon</td>\n",
              "      <td>Neutral</td>\n",
              "      <td>Hello, and welcome to our Q3 2018 financial re...</td>\n",
              "    </tr>\n",
              "    <tr>\n",
              "      <th>4</th>\n",
              "      <td>4</td>\n",
              "      <td>Amazon</td>\n",
              "      <td>Neutral</td>\n",
              "      <td>Our comments and responses to your questions r...</td>\n",
              "    </tr>\n",
              "  </tbody>\n",
              "</table>\n",
              "</div>"
            ],
            "text/plain": [
              "   index Company Sentiment                                               Text\n",
              "0      0  Amazon   Neutral  Amazon.com, Inc. (NASDAQ:AMZN) Q3 2018 Earning...\n",
              "1      1  Amazon   Neutral  Good day, everyone, and welcome to the Amazon....\n",
              "2      2  Amazon   Neutral  For opening remarks, I will be turning the cal...\n",
              "3      3  Amazon   Neutral  Hello, and welcome to our Q3 2018 financial re...\n",
              "4      4  Amazon   Neutral  Our comments and responses to your questions r..."
            ]
          },
          "metadata": {
            "tags": []
          },
          "execution_count": 39
        }
      ]
    },
    {
      "metadata": {
        "id": "0rKI0OkB46jg",
        "colab_type": "code",
        "colab": {}
      },
      "cell_type": "code",
      "source": [
        "Man_Senti['Text_ID'] = Man_Senti.index + 1"
      ],
      "execution_count": 0,
      "outputs": []
    },
    {
      "metadata": {
        "id": "sKm3cSHi5JhL",
        "colab_type": "code",
        "colab": {
          "base_uri": "https://localhost:8080/",
          "height": 198
        },
        "outputId": "98f613b4-1a74-47a9-ad8d-f021bca529c5"
      },
      "cell_type": "code",
      "source": [
        "Man_Senti.head()"
      ],
      "execution_count": 41,
      "outputs": [
        {
          "output_type": "execute_result",
          "data": {
            "text/html": [
              "<div>\n",
              "<style scoped>\n",
              "    .dataframe tbody tr th:only-of-type {\n",
              "        vertical-align: middle;\n",
              "    }\n",
              "\n",
              "    .dataframe tbody tr th {\n",
              "        vertical-align: top;\n",
              "    }\n",
              "\n",
              "    .dataframe thead th {\n",
              "        text-align: right;\n",
              "    }\n",
              "</style>\n",
              "<table border=\"1\" class=\"dataframe\">\n",
              "  <thead>\n",
              "    <tr style=\"text-align: right;\">\n",
              "      <th></th>\n",
              "      <th>index</th>\n",
              "      <th>Company</th>\n",
              "      <th>Sentiment</th>\n",
              "      <th>Text</th>\n",
              "      <th>Text_ID</th>\n",
              "    </tr>\n",
              "  </thead>\n",
              "  <tbody>\n",
              "    <tr>\n",
              "      <th>0</th>\n",
              "      <td>0</td>\n",
              "      <td>Amazon</td>\n",
              "      <td>Neutral</td>\n",
              "      <td>Amazon.com, Inc. (NASDAQ:AMZN) Q3 2018 Earning...</td>\n",
              "      <td>1</td>\n",
              "    </tr>\n",
              "    <tr>\n",
              "      <th>1</th>\n",
              "      <td>1</td>\n",
              "      <td>Amazon</td>\n",
              "      <td>Neutral</td>\n",
              "      <td>Good day, everyone, and welcome to the Amazon....</td>\n",
              "      <td>2</td>\n",
              "    </tr>\n",
              "    <tr>\n",
              "      <th>2</th>\n",
              "      <td>2</td>\n",
              "      <td>Amazon</td>\n",
              "      <td>Neutral</td>\n",
              "      <td>For opening remarks, I will be turning the cal...</td>\n",
              "      <td>3</td>\n",
              "    </tr>\n",
              "    <tr>\n",
              "      <th>3</th>\n",
              "      <td>3</td>\n",
              "      <td>Amazon</td>\n",
              "      <td>Neutral</td>\n",
              "      <td>Hello, and welcome to our Q3 2018 financial re...</td>\n",
              "      <td>4</td>\n",
              "    </tr>\n",
              "    <tr>\n",
              "      <th>4</th>\n",
              "      <td>4</td>\n",
              "      <td>Amazon</td>\n",
              "      <td>Neutral</td>\n",
              "      <td>Our comments and responses to your questions r...</td>\n",
              "      <td>5</td>\n",
              "    </tr>\n",
              "  </tbody>\n",
              "</table>\n",
              "</div>"
            ],
            "text/plain": [
              "   index Company Sentiment                                               Text  \\\n",
              "0      0  Amazon   Neutral  Amazon.com, Inc. (NASDAQ:AMZN) Q3 2018 Earning...   \n",
              "1      1  Amazon   Neutral  Good day, everyone, and welcome to the Amazon....   \n",
              "2      2  Amazon   Neutral  For opening remarks, I will be turning the cal...   \n",
              "3      3  Amazon   Neutral  Hello, and welcome to our Q3 2018 financial re...   \n",
              "4      4  Amazon   Neutral  Our comments and responses to your questions r...   \n",
              "\n",
              "   Text_ID  \n",
              "0        1  \n",
              "1        2  \n",
              "2        3  \n",
              "3        4  \n",
              "4        5  "
            ]
          },
          "metadata": {
            "tags": []
          },
          "execution_count": 41
        }
      ]
    },
    {
      "metadata": {
        "id": "hMC0EsXU5Xj8",
        "colab_type": "code",
        "colab": {}
      },
      "cell_type": "code",
      "source": [
        "Man_Senti = Man_Senti[['Text_ID','Company','Text','Sentiment']]"
      ],
      "execution_count": 0,
      "outputs": []
    },
    {
      "metadata": {
        "id": "xpjtVmuf5nex",
        "colab_type": "code",
        "colab": {
          "base_uri": "https://localhost:8080/",
          "height": 198
        },
        "outputId": "1a5a3e97-547b-4d86-abd5-e6c5fee5cce8"
      },
      "cell_type": "code",
      "source": [
        "Man_Senti.head()"
      ],
      "execution_count": 43,
      "outputs": [
        {
          "output_type": "execute_result",
          "data": {
            "text/html": [
              "<div>\n",
              "<style scoped>\n",
              "    .dataframe tbody tr th:only-of-type {\n",
              "        vertical-align: middle;\n",
              "    }\n",
              "\n",
              "    .dataframe tbody tr th {\n",
              "        vertical-align: top;\n",
              "    }\n",
              "\n",
              "    .dataframe thead th {\n",
              "        text-align: right;\n",
              "    }\n",
              "</style>\n",
              "<table border=\"1\" class=\"dataframe\">\n",
              "  <thead>\n",
              "    <tr style=\"text-align: right;\">\n",
              "      <th></th>\n",
              "      <th>Text_ID</th>\n",
              "      <th>Company</th>\n",
              "      <th>Text</th>\n",
              "      <th>Sentiment</th>\n",
              "    </tr>\n",
              "  </thead>\n",
              "  <tbody>\n",
              "    <tr>\n",
              "      <th>0</th>\n",
              "      <td>1</td>\n",
              "      <td>Amazon</td>\n",
              "      <td>Amazon.com, Inc. (NASDAQ:AMZN) Q3 2018 Earning...</td>\n",
              "      <td>Neutral</td>\n",
              "    </tr>\n",
              "    <tr>\n",
              "      <th>1</th>\n",
              "      <td>2</td>\n",
              "      <td>Amazon</td>\n",
              "      <td>Good day, everyone, and welcome to the Amazon....</td>\n",
              "      <td>Neutral</td>\n",
              "    </tr>\n",
              "    <tr>\n",
              "      <th>2</th>\n",
              "      <td>3</td>\n",
              "      <td>Amazon</td>\n",
              "      <td>For opening remarks, I will be turning the cal...</td>\n",
              "      <td>Neutral</td>\n",
              "    </tr>\n",
              "    <tr>\n",
              "      <th>3</th>\n",
              "      <td>4</td>\n",
              "      <td>Amazon</td>\n",
              "      <td>Hello, and welcome to our Q3 2018 financial re...</td>\n",
              "      <td>Neutral</td>\n",
              "    </tr>\n",
              "    <tr>\n",
              "      <th>4</th>\n",
              "      <td>5</td>\n",
              "      <td>Amazon</td>\n",
              "      <td>Our comments and responses to your questions r...</td>\n",
              "      <td>Neutral</td>\n",
              "    </tr>\n",
              "  </tbody>\n",
              "</table>\n",
              "</div>"
            ],
            "text/plain": [
              "   Text_ID Company                                               Text  \\\n",
              "0        1  Amazon  Amazon.com, Inc. (NASDAQ:AMZN) Q3 2018 Earning...   \n",
              "1        2  Amazon  Good day, everyone, and welcome to the Amazon....   \n",
              "2        3  Amazon  For opening remarks, I will be turning the cal...   \n",
              "3        4  Amazon  Hello, and welcome to our Q3 2018 financial re...   \n",
              "4        5  Amazon  Our comments and responses to your questions r...   \n",
              "\n",
              "  Sentiment  \n",
              "0   Neutral  \n",
              "1   Neutral  \n",
              "2   Neutral  \n",
              "3   Neutral  \n",
              "4   Neutral  "
            ]
          },
          "metadata": {
            "tags": []
          },
          "execution_count": 43
        }
      ]
    },
    {
      "metadata": {
        "id": "O6kcbvHTKeLk",
        "colab_type": "text"
      },
      "cell_type": "markdown",
      "source": [
        "# Exporting API Result Set"
      ]
    },
    {
      "metadata": {
        "id": "X4zL0yyOGi0C",
        "colab_type": "code",
        "colab": {}
      },
      "cell_type": "code",
      "source": [
        "#Now we will convert all the result set from all APIs to dictionary to export it into json files so that we need not to hit APIs again!\n",
        "\n",
        "#Manual Sentiment\n",
        "Man_Senti_dict = Man_Senti.to_dict()\n",
        "\n",
        "with open('result_MANUAL.json', 'w') as f1:\n",
        "    json.dump(Man_Senti_dict, f1)\n",
        "\n",
        "#AWS API result set\n",
        "result_aws_dict = result_aws.to_dict()\n",
        "\n",
        "with open('result_AWS.json', 'w') as f2:\n",
        "    json.dump(result_aws_dict, f2)\n",
        "    \n",
        "#AZURE API result set\n",
        "result_azure_dict = result_azure.to_dict()\n",
        "\n",
        "with open('result_AZURE.json', 'w') as f3:\n",
        "    json.dump(result_azure_dict, f3)\n",
        "\n",
        "#IBM API result set\n",
        "result_ibm_dict = result_ibm.to_dict()\n",
        "\n",
        "with open('result_IBM.json', 'w') as f4:\n",
        "    json.dump(result_ibm_dict, f4)\n",
        "    \n",
        "#GCP API result set\n",
        "result_gcp_dict = result_gcp.to_dict()\n",
        "\n",
        "with open('result_GCP.json', 'w') as f5:\n",
        "    json.dump(result_gcp_dict, f5)\n",
        "\n",
        "#VADER API result set\n",
        "result_vader_dict = result_vader.to_dict()\n",
        "\n",
        "with open('result_VADER.json', 'w') as f6:\n",
        "    json.dump(result_vader_dict, f6)"
      ],
      "execution_count": 0,
      "outputs": []
    },
    {
      "metadata": {
        "id": "uN5wMyFlKwc1",
        "colab_type": "text"
      },
      "cell_type": "markdown",
      "source": [
        "#API Result Normalization"
      ]
    },
    {
      "metadata": {
        "id": "vHRf8Tcj2kEm",
        "colab_type": "code",
        "colab": {
          "base_uri": "https://localhost:8080/",
          "height": 108
        },
        "outputId": "677e719b-34de-450c-961c-903e5cd08fb3"
      },
      "cell_type": "code",
      "source": [
        "#Now we will normalize the different API Results:\n",
        "\n",
        "Man_Senti.groupby('Sentiment')['Sentiment'].count()\n"
      ],
      "execution_count": 48,
      "outputs": [
        {
          "output_type": "execute_result",
          "data": {
            "text/plain": [
              "Sentiment\n",
              "Negative     62\n",
              "Neutral     243\n",
              "Positive    317\n",
              "Name: Sentiment, dtype: int64"
            ]
          },
          "metadata": {
            "tags": []
          },
          "execution_count": 48
        }
      ]
    },
    {
      "metadata": {
        "id": "4i4zdTTN_UC3",
        "colab_type": "code",
        "colab": {
          "base_uri": "https://localhost:8080/",
          "height": 35
        },
        "outputId": "e995dc3e-b64a-47d7-c06c-af9269a447e9"
      },
      "cell_type": "code",
      "source": [
        "#1. AWS\n",
        "\n",
        "result_aws.Overall.unique()"
      ],
      "execution_count": 49,
      "outputs": [
        {
          "output_type": "execute_result",
          "data": {
            "text/plain": [
              "array(['NEUTRAL', 'POSITIVE', 'MIXED', 'NEGATIVE'], dtype=object)"
            ]
          },
          "metadata": {
            "tags": []
          },
          "execution_count": 49
        }
      ]
    },
    {
      "metadata": {
        "id": "vv58BKCJ8jzT",
        "colab_type": "code",
        "colab": {
          "base_uri": "https://localhost:8080/",
          "height": 126
        },
        "outputId": "95275f49-d98f-4a70-8465-af4674ac01de"
      },
      "cell_type": "code",
      "source": [
        "result_aws.groupby('Overall')['Overall'].count()"
      ],
      "execution_count": 50,
      "outputs": [
        {
          "output_type": "execute_result",
          "data": {
            "text/plain": [
              "Overall\n",
              "MIXED         5\n",
              "NEGATIVE     22\n",
              "NEUTRAL     385\n",
              "POSITIVE    210\n",
              "Name: Overall, dtype: int64"
            ]
          },
          "metadata": {
            "tags": []
          },
          "execution_count": 50
        }
      ]
    },
    {
      "metadata": {
        "id": "Qqh6JquU_Hvs",
        "colab_type": "code",
        "colab": {}
      },
      "cell_type": "code",
      "source": [
        "#Now we will replace MIXED with NEUTRAL\n",
        "\n",
        "backup_result_aws = result_aws.copy()\n",
        "backup_result_azure = result_azure.copy()\n",
        "backup_result_ibm = result_ibm.copy()\n",
        "backup_result_gcp = result_gcp.copy()\n",
        "backup_result_vader = result_vader.copy()\n"
      ],
      "execution_count": 0,
      "outputs": []
    },
    {
      "metadata": {
        "id": "K2KYULZeCcMh",
        "colab_type": "code",
        "colab": {
          "base_uri": "https://localhost:8080/",
          "height": 198
        },
        "outputId": "83f4cb10-538e-44b8-e30f-7f1deec9c263"
      },
      "cell_type": "code",
      "source": [
        "result_aws.head()"
      ],
      "execution_count": 52,
      "outputs": [
        {
          "output_type": "execute_result",
          "data": {
            "text/html": [
              "<div>\n",
              "<style scoped>\n",
              "    .dataframe tbody tr th:only-of-type {\n",
              "        vertical-align: middle;\n",
              "    }\n",
              "\n",
              "    .dataframe tbody tr th {\n",
              "        vertical-align: top;\n",
              "    }\n",
              "\n",
              "    .dataframe thead th {\n",
              "        text-align: right;\n",
              "    }\n",
              "</style>\n",
              "<table border=\"1\" class=\"dataframe\">\n",
              "  <thead>\n",
              "    <tr style=\"text-align: right;\">\n",
              "      <th></th>\n",
              "      <th>Text_ID</th>\n",
              "      <th>API</th>\n",
              "      <th>Overall</th>\n",
              "      <th>Negative</th>\n",
              "      <th>Neutral</th>\n",
              "      <th>Positive</th>\n",
              "    </tr>\n",
              "  </thead>\n",
              "  <tbody>\n",
              "    <tr>\n",
              "      <th>0</th>\n",
              "      <td>1</td>\n",
              "      <td>AWS</td>\n",
              "      <td>NEUTRAL</td>\n",
              "      <td>0.000141</td>\n",
              "      <td>0.998418</td>\n",
              "      <td>0.001304</td>\n",
              "    </tr>\n",
              "    <tr>\n",
              "      <th>1</th>\n",
              "      <td>2</td>\n",
              "      <td>AWS</td>\n",
              "      <td>POSITIVE</td>\n",
              "      <td>0.003760</td>\n",
              "      <td>0.487941</td>\n",
              "      <td>0.495716</td>\n",
              "    </tr>\n",
              "    <tr>\n",
              "      <th>2</th>\n",
              "      <td>3</td>\n",
              "      <td>AWS</td>\n",
              "      <td>NEUTRAL</td>\n",
              "      <td>0.007338</td>\n",
              "      <td>0.976732</td>\n",
              "      <td>0.012431</td>\n",
              "    </tr>\n",
              "    <tr>\n",
              "      <th>3</th>\n",
              "      <td>4</td>\n",
              "      <td>AWS</td>\n",
              "      <td>NEUTRAL</td>\n",
              "      <td>0.000654</td>\n",
              "      <td>0.686703</td>\n",
              "      <td>0.305323</td>\n",
              "    </tr>\n",
              "    <tr>\n",
              "      <th>4</th>\n",
              "      <td>5</td>\n",
              "      <td>AWS</td>\n",
              "      <td>NEUTRAL</td>\n",
              "      <td>0.002042</td>\n",
              "      <td>0.996204</td>\n",
              "      <td>0.001183</td>\n",
              "    </tr>\n",
              "  </tbody>\n",
              "</table>\n",
              "</div>"
            ],
            "text/plain": [
              "   Text_ID  API   Overall  Negative   Neutral  Positive\n",
              "0        1  AWS   NEUTRAL  0.000141  0.998418  0.001304\n",
              "1        2  AWS  POSITIVE  0.003760  0.487941  0.495716\n",
              "2        3  AWS   NEUTRAL  0.007338  0.976732  0.012431\n",
              "3        4  AWS   NEUTRAL  0.000654  0.686703  0.305323\n",
              "4        5  AWS   NEUTRAL  0.002042  0.996204  0.001183"
            ]
          },
          "metadata": {
            "tags": []
          },
          "execution_count": 52
        }
      ]
    },
    {
      "metadata": {
        "id": "cWNuPMCdA2bZ",
        "colab_type": "code",
        "colab": {}
      },
      "cell_type": "code",
      "source": [
        "result_aws['Overall'] = result_aws['Overall'].apply({'MIXED':'Neutral', 'NEUTRAL':'Neutral', 'POSITIVE':'Positive', 'NEGATIVE':'Negative'}.get)"
      ],
      "execution_count": 0,
      "outputs": []
    },
    {
      "metadata": {
        "id": "FeHPQnPNBW5v",
        "colab_type": "code",
        "colab": {
          "base_uri": "https://localhost:8080/",
          "height": 198
        },
        "outputId": "9d41119f-0e9e-439c-bb52-c4fa10cda750"
      },
      "cell_type": "code",
      "source": [
        "result_aws.head()"
      ],
      "execution_count": 54,
      "outputs": [
        {
          "output_type": "execute_result",
          "data": {
            "text/html": [
              "<div>\n",
              "<style scoped>\n",
              "    .dataframe tbody tr th:only-of-type {\n",
              "        vertical-align: middle;\n",
              "    }\n",
              "\n",
              "    .dataframe tbody tr th {\n",
              "        vertical-align: top;\n",
              "    }\n",
              "\n",
              "    .dataframe thead th {\n",
              "        text-align: right;\n",
              "    }\n",
              "</style>\n",
              "<table border=\"1\" class=\"dataframe\">\n",
              "  <thead>\n",
              "    <tr style=\"text-align: right;\">\n",
              "      <th></th>\n",
              "      <th>Text_ID</th>\n",
              "      <th>API</th>\n",
              "      <th>Overall</th>\n",
              "      <th>Negative</th>\n",
              "      <th>Neutral</th>\n",
              "      <th>Positive</th>\n",
              "    </tr>\n",
              "  </thead>\n",
              "  <tbody>\n",
              "    <tr>\n",
              "      <th>0</th>\n",
              "      <td>1</td>\n",
              "      <td>AWS</td>\n",
              "      <td>Neutral</td>\n",
              "      <td>0.000141</td>\n",
              "      <td>0.998418</td>\n",
              "      <td>0.001304</td>\n",
              "    </tr>\n",
              "    <tr>\n",
              "      <th>1</th>\n",
              "      <td>2</td>\n",
              "      <td>AWS</td>\n",
              "      <td>Positive</td>\n",
              "      <td>0.003760</td>\n",
              "      <td>0.487941</td>\n",
              "      <td>0.495716</td>\n",
              "    </tr>\n",
              "    <tr>\n",
              "      <th>2</th>\n",
              "      <td>3</td>\n",
              "      <td>AWS</td>\n",
              "      <td>Neutral</td>\n",
              "      <td>0.007338</td>\n",
              "      <td>0.976732</td>\n",
              "      <td>0.012431</td>\n",
              "    </tr>\n",
              "    <tr>\n",
              "      <th>3</th>\n",
              "      <td>4</td>\n",
              "      <td>AWS</td>\n",
              "      <td>Neutral</td>\n",
              "      <td>0.000654</td>\n",
              "      <td>0.686703</td>\n",
              "      <td>0.305323</td>\n",
              "    </tr>\n",
              "    <tr>\n",
              "      <th>4</th>\n",
              "      <td>5</td>\n",
              "      <td>AWS</td>\n",
              "      <td>Neutral</td>\n",
              "      <td>0.002042</td>\n",
              "      <td>0.996204</td>\n",
              "      <td>0.001183</td>\n",
              "    </tr>\n",
              "  </tbody>\n",
              "</table>\n",
              "</div>"
            ],
            "text/plain": [
              "   Text_ID  API   Overall  Negative   Neutral  Positive\n",
              "0        1  AWS   Neutral  0.000141  0.998418  0.001304\n",
              "1        2  AWS  Positive  0.003760  0.487941  0.495716\n",
              "2        3  AWS   Neutral  0.007338  0.976732  0.012431\n",
              "3        4  AWS   Neutral  0.000654  0.686703  0.305323\n",
              "4        5  AWS   Neutral  0.002042  0.996204  0.001183"
            ]
          },
          "metadata": {
            "tags": []
          },
          "execution_count": 54
        }
      ]
    },
    {
      "metadata": {
        "id": "RDLk_4edCUVx",
        "colab_type": "code",
        "colab": {
          "base_uri": "https://localhost:8080/",
          "height": 108
        },
        "outputId": "dfae092e-2a2e-49e8-a5cf-07eba3df5b45"
      },
      "cell_type": "code",
      "source": [
        "result_aws.groupby('Overall')['Overall'].count()"
      ],
      "execution_count": 55,
      "outputs": [
        {
          "output_type": "execute_result",
          "data": {
            "text/plain": [
              "Overall\n",
              "Negative     22\n",
              "Neutral     390\n",
              "Positive    210\n",
              "Name: Overall, dtype: int64"
            ]
          },
          "metadata": {
            "tags": []
          },
          "execution_count": 55
        }
      ]
    },
    {
      "metadata": {
        "id": "stgIzLqOD5tA",
        "colab_type": "code",
        "colab": {}
      },
      "cell_type": "code",
      "source": [
        "y_true = Man_Senti['Sentiment']\n",
        "y_pred_aws = result_aws['Overall']\n",
        "\n",
        "class_names = ['Positive', 'Negative', 'Neutral']"
      ],
      "execution_count": 0,
      "outputs": []
    },
    {
      "metadata": {
        "id": "5UUtlwsLC0AZ",
        "colab_type": "code",
        "colab": {
          "base_uri": "https://localhost:8080/",
          "height": 780
        },
        "outputId": "2ef6b79a-9be6-4af8-8a13-efea01cc66ee"
      },
      "cell_type": "code",
      "source": [
        "!pip install pandas_ml\n",
        "from pandas_ml import ConfusionMatrix\n",
        "from sklearn.metrics import accuracy_score\n",
        "import seaborn as sn\n",
        "import matplotlib.pyplot as plt\n",
        "\n",
        "# Compute confusion matrix with Manual Sentiment analysis and result from AWS API:\n",
        "\n",
        "cnf_matrix_aws = ConfusionMatrix(y_true, y_pred_aws)\n",
        "acc_score_aws = accuracy_score(y_true, y_pred_aws)\n",
        "\n",
        "\n",
        "print('Accuracy Score: ', acc_score_aws)\n",
        "\n",
        "print(cnf_matrix_aws)\n",
        "\n",
        "cnf_matrix_aws.plot()\n",
        "plt.show()"
      ],
      "execution_count": 59,
      "outputs": [
        {
          "output_type": "stream",
          "text": [
            "Requirement already satisfied: pandas_ml in /usr/local/lib/python3.6/dist-packages (0.5.0)\n",
            "Requirement already satisfied: pandas>=0.17.0 in /usr/local/lib/python3.6/dist-packages (from pandas_ml) (0.22.0)\n",
            "Requirement already satisfied: enum34 in /usr/local/lib/python3.6/dist-packages (from pandas_ml) (1.1.6)\n",
            "Requirement already satisfied: pytz>=2011k in /usr/local/lib/python3.6/dist-packages (from pandas>=0.17.0->pandas_ml) (2018.7)\n",
            "Requirement already satisfied: numpy>=1.9.0 in /usr/local/lib/python3.6/dist-packages (from pandas>=0.17.0->pandas_ml) (1.14.6)\n",
            "Requirement already satisfied: python-dateutil>=2 in /usr/local/lib/python3.6/dist-packages (from pandas>=0.17.0->pandas_ml) (2.5.3)\n",
            "Requirement already satisfied: six>=1.5 in /usr/local/lib/python3.6/dist-packages (from python-dateutil>=2->pandas>=0.17.0->pandas_ml) (1.11.0)\n",
            "Accuracy Score:  0.43086816720257237\n",
            "Predicted  Negative  Neutral  Positive  __all__\n",
            "Actual                                         \n",
            "Negative          4       49         9       62\n",
            "Neutral          12      147        84      243\n",
            "Positive          6      194       117      317\n",
            "__all__          22      390       210      622\n"
          ],
          "name": "stdout"
        },
        {
          "output_type": "display_data",
          "data": {
            "image/png": "[encoded data removed]",
            "text/plain": [
              "<matplotlib.figure.Figure at 0x7feb5240ec88>"
            ]
          },
          "metadata": {
            "tags": []
          }
        }
      ]
    },
    {
      "metadata": {
        "id": "8IrSXE9gEdYh",
        "colab_type": "code",
        "colab": {
          "base_uri": "https://localhost:8080/",
          "height": 198
        },
        "outputId": "61bed885-65f4-4ecc-f731-2f9e4c26643d"
      },
      "cell_type": "code",
      "source": [
        "# Now lets generalize the Microsoft Azure API result:\n",
        "\n",
        "result_azure.head()"
      ],
      "execution_count": 60,
      "outputs": [
        {
          "output_type": "execute_result",
          "data": {
            "text/html": [
              "<div>\n",
              "<style scoped>\n",
              "    .dataframe tbody tr th:only-of-type {\n",
              "        vertical-align: middle;\n",
              "    }\n",
              "\n",
              "    .dataframe tbody tr th {\n",
              "        vertical-align: top;\n",
              "    }\n",
              "\n",
              "    .dataframe thead th {\n",
              "        text-align: right;\n",
              "    }\n",
              "</style>\n",
              "<table border=\"1\" class=\"dataframe\">\n",
              "  <thead>\n",
              "    <tr style=\"text-align: right;\">\n",
              "      <th></th>\n",
              "      <th>Text_ID</th>\n",
              "      <th>API</th>\n",
              "      <th>Overall_Score</th>\n",
              "    </tr>\n",
              "  </thead>\n",
              "  <tbody>\n",
              "    <tr>\n",
              "      <th>0</th>\n",
              "      <td>1</td>\n",
              "      <td>Azure</td>\n",
              "      <td>0.500000</td>\n",
              "    </tr>\n",
              "    <tr>\n",
              "      <th>1</th>\n",
              "      <td>2</td>\n",
              "      <td>Azure</td>\n",
              "      <td>0.891742</td>\n",
              "    </tr>\n",
              "    <tr>\n",
              "      <th>2</th>\n",
              "      <td>3</td>\n",
              "      <td>Azure</td>\n",
              "      <td>0.500000</td>\n",
              "    </tr>\n",
              "    <tr>\n",
              "      <th>3</th>\n",
              "      <td>4</td>\n",
              "      <td>Azure</td>\n",
              "      <td>0.500000</td>\n",
              "    </tr>\n",
              "    <tr>\n",
              "      <th>4</th>\n",
              "      <td>5</td>\n",
              "      <td>Azure</td>\n",
              "      <td>0.500000</td>\n",
              "    </tr>\n",
              "  </tbody>\n",
              "</table>\n",
              "</div>"
            ],
            "text/plain": [
              "  Text_ID    API  Overall_Score\n",
              "0       1  Azure       0.500000\n",
              "1       2  Azure       0.891742\n",
              "2       3  Azure       0.500000\n",
              "3       4  Azure       0.500000\n",
              "4       5  Azure       0.500000"
            ]
          },
          "metadata": {
            "tags": []
          },
          "execution_count": 60
        }
      ]
    },
    {
      "metadata": {
        "id": "X3VXKWqgMN2y",
        "colab_type": "code",
        "colab": {
          "base_uri": "https://localhost:8080/",
          "height": 288
        },
        "outputId": "f6138504-e647-4001-f049-aa40456327c4"
      },
      "cell_type": "code",
      "source": [
        "result_azure.describe()"
      ],
      "execution_count": 61,
      "outputs": [
        {
          "output_type": "execute_result",
          "data": {
            "text/html": [
              "<div>\n",
              "<style scoped>\n",
              "    .dataframe tbody tr th:only-of-type {\n",
              "        vertical-align: middle;\n",
              "    }\n",
              "\n",
              "    .dataframe tbody tr th {\n",
              "        vertical-align: top;\n",
              "    }\n",
              "\n",
              "    .dataframe thead th {\n",
              "        text-align: right;\n",
              "    }\n",
              "</style>\n",
              "<table border=\"1\" class=\"dataframe\">\n",
              "  <thead>\n",
              "    <tr style=\"text-align: right;\">\n",
              "      <th></th>\n",
              "      <th>Overall_Score</th>\n",
              "    </tr>\n",
              "  </thead>\n",
              "  <tbody>\n",
              "    <tr>\n",
              "      <th>count</th>\n",
              "      <td>622.000000</td>\n",
              "    </tr>\n",
              "    <tr>\n",
              "      <th>mean</th>\n",
              "      <td>0.679342</td>\n",
              "    </tr>\n",
              "    <tr>\n",
              "      <th>std</th>\n",
              "      <td>0.214881</td>\n",
              "    </tr>\n",
              "    <tr>\n",
              "      <th>min</th>\n",
              "      <td>0.073598</td>\n",
              "    </tr>\n",
              "    <tr>\n",
              "      <th>25%</th>\n",
              "      <td>0.500000</td>\n",
              "    </tr>\n",
              "    <tr>\n",
              "      <th>50%</th>\n",
              "      <td>0.728271</td>\n",
              "    </tr>\n",
              "    <tr>\n",
              "      <th>75%</th>\n",
              "      <td>0.891567</td>\n",
              "    </tr>\n",
              "    <tr>\n",
              "      <th>max</th>\n",
              "      <td>0.996237</td>\n",
              "    </tr>\n",
              "  </tbody>\n",
              "</table>\n",
              "</div>"
            ],
            "text/plain": [
              "       Overall_Score\n",
              "count     622.000000\n",
              "mean        0.679342\n",
              "std         0.214881\n",
              "min         0.073598\n",
              "25%         0.500000\n",
              "50%         0.728271\n",
              "75%         0.891567\n",
              "max         0.996237"
            ]
          },
          "metadata": {
            "tags": []
          },
          "execution_count": 61
        }
      ]
    },
    {
      "metadata": {
        "id": "9KlQRD0-ODbY",
        "colab_type": "code",
        "colab": {}
      },
      "cell_type": "code",
      "source": [
        "result_azure['Sentiment_Azure'] = 'Neutral'"
      ],
      "execution_count": 0,
      "outputs": []
    },
    {
      "metadata": {
        "id": "YOwLz0F3Jvlj",
        "colab_type": "code",
        "colab": {}
      },
      "cell_type": "code",
      "source": [
        "result_azure.loc[result_azure['Overall_Score'] > 0.55, 'Sentiment_Azure'] = 'Positive'\n",
        "result_azure.loc[result_azure['Overall_Score'] < 0.45, 'Sentiment_Azure'] = 'Negative'"
      ],
      "execution_count": 0,
      "outputs": []
    },
    {
      "metadata": {
        "id": "RLb6RJIpLxtk",
        "colab_type": "code",
        "colab": {
          "base_uri": "https://localhost:8080/",
          "height": 198
        },
        "outputId": "363c6f5d-2f97-44ee-8e38-593ffa2ceef6"
      },
      "cell_type": "code",
      "source": [
        "result_azure.head()"
      ],
      "execution_count": 64,
      "outputs": [
        {
          "output_type": "execute_result",
          "data": {
            "text/html": [
              "<div>\n",
              "<style scoped>\n",
              "    .dataframe tbody tr th:only-of-type {\n",
              "        vertical-align: middle;\n",
              "    }\n",
              "\n",
              "    .dataframe tbody tr th {\n",
              "        vertical-align: top;\n",
              "    }\n",
              "\n",
              "    .dataframe thead th {\n",
              "        text-align: right;\n",
              "    }\n",
              "</style>\n",
              "<table border=\"1\" class=\"dataframe\">\n",
              "  <thead>\n",
              "    <tr style=\"text-align: right;\">\n",
              "      <th></th>\n",
              "      <th>Text_ID</th>\n",
              "      <th>API</th>\n",
              "      <th>Overall_Score</th>\n",
              "      <th>Sentiment_Azure</th>\n",
              "    </tr>\n",
              "  </thead>\n",
              "  <tbody>\n",
              "    <tr>\n",
              "      <th>0</th>\n",
              "      <td>1</td>\n",
              "      <td>Azure</td>\n",
              "      <td>0.500000</td>\n",
              "      <td>Neutral</td>\n",
              "    </tr>\n",
              "    <tr>\n",
              "      <th>1</th>\n",
              "      <td>2</td>\n",
              "      <td>Azure</td>\n",
              "      <td>0.891742</td>\n",
              "      <td>Positive</td>\n",
              "    </tr>\n",
              "    <tr>\n",
              "      <th>2</th>\n",
              "      <td>3</td>\n",
              "      <td>Azure</td>\n",
              "      <td>0.500000</td>\n",
              "      <td>Neutral</td>\n",
              "    </tr>\n",
              "    <tr>\n",
              "      <th>3</th>\n",
              "      <td>4</td>\n",
              "      <td>Azure</td>\n",
              "      <td>0.500000</td>\n",
              "      <td>Neutral</td>\n",
              "    </tr>\n",
              "    <tr>\n",
              "      <th>4</th>\n",
              "      <td>5</td>\n",
              "      <td>Azure</td>\n",
              "      <td>0.500000</td>\n",
              "      <td>Neutral</td>\n",
              "    </tr>\n",
              "  </tbody>\n",
              "</table>\n",
              "</div>"
            ],
            "text/plain": [
              "  Text_ID    API  Overall_Score Sentiment_Azure\n",
              "0       1  Azure       0.500000         Neutral\n",
              "1       2  Azure       0.891742        Positive\n",
              "2       3  Azure       0.500000         Neutral\n",
              "3       4  Azure       0.500000         Neutral\n",
              "4       5  Azure       0.500000         Neutral"
            ]
          },
          "metadata": {
            "tags": []
          },
          "execution_count": 64
        }
      ]
    },
    {
      "metadata": {
        "id": "gS_15kHOShiB",
        "colab_type": "code",
        "colab": {
          "base_uri": "https://localhost:8080/",
          "height": 108
        },
        "outputId": "37e08a6d-2dc5-4c6f-c9b6-7ea773a6b466"
      },
      "cell_type": "code",
      "source": [
        "result_azure.groupby('Sentiment_Azure')['Sentiment_Azure'].count()"
      ],
      "execution_count": 65,
      "outputs": [
        {
          "output_type": "execute_result",
          "data": {
            "text/plain": [
              "Sentiment_Azure\n",
              "Negative     27\n",
              "Neutral     276\n",
              "Positive    319\n",
              "Name: Sentiment_Azure, dtype: int64"
            ]
          },
          "metadata": {
            "tags": []
          },
          "execution_count": 65
        }
      ]
    },
    {
      "metadata": {
        "id": "G4guyeaeSnJ2",
        "colab_type": "code",
        "colab": {}
      },
      "cell_type": "code",
      "source": [
        "y_pred_azure = result_azure['Sentiment_Azure']"
      ],
      "execution_count": 0,
      "outputs": []
    },
    {
      "metadata": {
        "id": "mjkm7xRcS6QE",
        "colab_type": "code",
        "colab": {
          "base_uri": "https://localhost:8080/",
          "height": 633
        },
        "outputId": "486919aa-6400-4646-de60-cd81a84046d6"
      },
      "cell_type": "code",
      "source": [
        "cnf_matrix_azure = ConfusionMatrix(y_true, y_pred_azure)\n",
        "acc_score_azure = accuracy_score(y_true, y_pred_azure)\n",
        "\n",
        "\n",
        "print('Accuracy Score: ', acc_score_azure)\n",
        "\n",
        "print(cnf_matrix_azure)\n",
        "\n",
        "cnf_matrix_azure.plot()\n",
        "plt.show()"
      ],
      "execution_count": 67,
      "outputs": [
        {
          "output_type": "stream",
          "text": [
            "Accuracy Score:  0.45980707395498394\n",
            "Predicted  Negative  Neutral  Positive  __all__\n",
            "Actual                                         \n",
            "Negative          9       35        18       62\n",
            "Neutral           5      107       131      243\n",
            "Positive         13      134       170      317\n",
            "__all__          27      276       319      622\n"
          ],
          "name": "stdout"
        },
        {
          "output_type": "display_data",
          "data": {
            "image/png": "[encoded data removed]",
            "text/plain": [
              "<matplotlib.figure.Figure at 0x7feb4a993cc0>"
            ]
          },
          "metadata": {
            "tags": []
          }
        }
      ]
    },
    {
      "metadata": {
        "id": "lmZVJFj2TIMM",
        "colab_type": "code",
        "colab": {
          "base_uri": "https://localhost:8080/",
          "height": 198
        },
        "outputId": "2514a266-4c1a-4567-db5f-64780156b66d"
      },
      "cell_type": "code",
      "source": [
        "#Now we will normalize the sentiment result from IBM API:\n",
        "result_ibm.head()"
      ],
      "execution_count": 68,
      "outputs": [
        {
          "output_type": "execute_result",
          "data": {
            "text/html": [
              "<div>\n",
              "<style scoped>\n",
              "    .dataframe tbody tr th:only-of-type {\n",
              "        vertical-align: middle;\n",
              "    }\n",
              "\n",
              "    .dataframe tbody tr th {\n",
              "        vertical-align: top;\n",
              "    }\n",
              "\n",
              "    .dataframe thead th {\n",
              "        text-align: right;\n",
              "    }\n",
              "</style>\n",
              "<table border=\"1\" class=\"dataframe\">\n",
              "  <thead>\n",
              "    <tr style=\"text-align: right;\">\n",
              "      <th></th>\n",
              "      <th>Text_ID</th>\n",
              "      <th>API</th>\n",
              "      <th>Overall</th>\n",
              "      <th>Score</th>\n",
              "    </tr>\n",
              "  </thead>\n",
              "  <tbody>\n",
              "    <tr>\n",
              "      <th>0</th>\n",
              "      <td>1</td>\n",
              "      <td>IBM</td>\n",
              "      <td>neutral</td>\n",
              "      <td>0.000000</td>\n",
              "    </tr>\n",
              "    <tr>\n",
              "      <th>1</th>\n",
              "      <td>2</td>\n",
              "      <td>IBM</td>\n",
              "      <td>positive</td>\n",
              "      <td>0.750129</td>\n",
              "    </tr>\n",
              "    <tr>\n",
              "      <th>2</th>\n",
              "      <td>3</td>\n",
              "      <td>IBM</td>\n",
              "      <td>positive</td>\n",
              "      <td>0.476440</td>\n",
              "    </tr>\n",
              "    <tr>\n",
              "      <th>3</th>\n",
              "      <td>4</td>\n",
              "      <td>IBM</td>\n",
              "      <td>positive</td>\n",
              "      <td>0.678515</td>\n",
              "    </tr>\n",
              "    <tr>\n",
              "      <th>4</th>\n",
              "      <td>5</td>\n",
              "      <td>IBM</td>\n",
              "      <td>positive</td>\n",
              "      <td>0.437226</td>\n",
              "    </tr>\n",
              "  </tbody>\n",
              "</table>\n",
              "</div>"
            ],
            "text/plain": [
              "   Text_ID  API   Overall     Score\n",
              "0        1  IBM   neutral  0.000000\n",
              "1        2  IBM  positive  0.750129\n",
              "2        3  IBM  positive  0.476440\n",
              "3        4  IBM  positive  0.678515\n",
              "4        5  IBM  positive  0.437226"
            ]
          },
          "metadata": {
            "tags": []
          },
          "execution_count": 68
        }
      ]
    },
    {
      "metadata": {
        "id": "G6-BY18aTkjU",
        "colab_type": "code",
        "colab": {
          "base_uri": "https://localhost:8080/",
          "height": 288
        },
        "outputId": "fc389ca9-22a0-4989-e802-a66a9f88cbaa"
      },
      "cell_type": "code",
      "source": [
        "result_ibm.describe()"
      ],
      "execution_count": 69,
      "outputs": [
        {
          "output_type": "execute_result",
          "data": {
            "text/html": [
              "<div>\n",
              "<style scoped>\n",
              "    .dataframe tbody tr th:only-of-type {\n",
              "        vertical-align: middle;\n",
              "    }\n",
              "\n",
              "    .dataframe tbody tr th {\n",
              "        vertical-align: top;\n",
              "    }\n",
              "\n",
              "    .dataframe thead th {\n",
              "        text-align: right;\n",
              "    }\n",
              "</style>\n",
              "<table border=\"1\" class=\"dataframe\">\n",
              "  <thead>\n",
              "    <tr style=\"text-align: right;\">\n",
              "      <th></th>\n",
              "      <th>Text_ID</th>\n",
              "      <th>Score</th>\n",
              "    </tr>\n",
              "  </thead>\n",
              "  <tbody>\n",
              "    <tr>\n",
              "      <th>count</th>\n",
              "      <td>622.000000</td>\n",
              "      <td>622.000000</td>\n",
              "    </tr>\n",
              "    <tr>\n",
              "      <th>mean</th>\n",
              "      <td>311.500000</td>\n",
              "      <td>0.592201</td>\n",
              "    </tr>\n",
              "    <tr>\n",
              "      <th>std</th>\n",
              "      <td>179.700213</td>\n",
              "      <td>0.419350</td>\n",
              "    </tr>\n",
              "    <tr>\n",
              "      <th>min</th>\n",
              "      <td>1.000000</td>\n",
              "      <td>-0.906956</td>\n",
              "    </tr>\n",
              "    <tr>\n",
              "      <th>25%</th>\n",
              "      <td>156.250000</td>\n",
              "      <td>0.512123</td>\n",
              "    </tr>\n",
              "    <tr>\n",
              "      <th>50%</th>\n",
              "      <td>311.500000</td>\n",
              "      <td>0.730927</td>\n",
              "    </tr>\n",
              "    <tr>\n",
              "      <th>75%</th>\n",
              "      <td>466.750000</td>\n",
              "      <td>0.866308</td>\n",
              "    </tr>\n",
              "    <tr>\n",
              "      <th>max</th>\n",
              "      <td>622.000000</td>\n",
              "      <td>0.999878</td>\n",
              "    </tr>\n",
              "  </tbody>\n",
              "</table>\n",
              "</div>"
            ],
            "text/plain": [
              "          Text_ID       Score\n",
              "count  622.000000  622.000000\n",
              "mean   311.500000    0.592201\n",
              "std    179.700213    0.419350\n",
              "min      1.000000   -0.906956\n",
              "25%    156.250000    0.512123\n",
              "50%    311.500000    0.730927\n",
              "75%    466.750000    0.866308\n",
              "max    622.000000    0.999878"
            ]
          },
          "metadata": {
            "tags": []
          },
          "execution_count": 69
        }
      ]
    },
    {
      "metadata": {
        "id": "x7FW4wWrTp45",
        "colab_type": "code",
        "colab": {
          "base_uri": "https://localhost:8080/",
          "height": 108
        },
        "outputId": "fbd58edb-3027-48fb-8418-542c14ccc3c3"
      },
      "cell_type": "code",
      "source": [
        "result_ibm.groupby('Overall')['Overall'].count()"
      ],
      "execution_count": 70,
      "outputs": [
        {
          "output_type": "execute_result",
          "data": {
            "text/plain": [
              "Overall\n",
              "negative     60\n",
              "neutral      21\n",
              "positive    541\n",
              "Name: Overall, dtype: int64"
            ]
          },
          "metadata": {
            "tags": []
          },
          "execution_count": 70
        }
      ]
    },
    {
      "metadata": {
        "id": "0y5tMWmNUiYT",
        "colab_type": "code",
        "colab": {
          "base_uri": "https://localhost:8080/",
          "height": 35
        },
        "outputId": "7713999e-bbbd-4996-b43c-821c67a1fda6"
      },
      "cell_type": "code",
      "source": [
        "result_ibm.Overall.unique()"
      ],
      "execution_count": 71,
      "outputs": [
        {
          "output_type": "execute_result",
          "data": {
            "text/plain": [
              "array(['neutral', 'positive', 'negative'], dtype=object)"
            ]
          },
          "metadata": {
            "tags": []
          },
          "execution_count": 71
        }
      ]
    },
    {
      "metadata": {
        "id": "c9fiWgXnUmEj",
        "colab_type": "code",
        "colab": {}
      },
      "cell_type": "code",
      "source": [
        "result_ibm['Overall'] = result_ibm['Overall'].apply({'neutral':'Neutral', 'positive':'Positive', 'negative':'Negative'}.get)"
      ],
      "execution_count": 0,
      "outputs": []
    },
    {
      "metadata": {
        "id": "gnN_5QzlU2IG",
        "colab_type": "code",
        "colab": {
          "base_uri": "https://localhost:8080/",
          "height": 35
        },
        "outputId": "3587aa6f-ffc1-4f62-984d-31cac21a52aa"
      },
      "cell_type": "code",
      "source": [
        "result_ibm.Overall.unique()"
      ],
      "execution_count": 73,
      "outputs": [
        {
          "output_type": "execute_result",
          "data": {
            "text/plain": [
              "array(['Neutral', 'Positive', 'Negative'], dtype=object)"
            ]
          },
          "metadata": {
            "tags": []
          },
          "execution_count": 73
        }
      ]
    },
    {
      "metadata": {
        "id": "uL4GnyDYT_De",
        "colab_type": "code",
        "colab": {}
      },
      "cell_type": "code",
      "source": [
        "y_pred_ibm = result_ibm['Overall']"
      ],
      "execution_count": 0,
      "outputs": []
    },
    {
      "metadata": {
        "id": "U0y8W0LxUJhP",
        "colab_type": "code",
        "colab": {
          "base_uri": "https://localhost:8080/",
          "height": 633
        },
        "outputId": "e2fe8d69-bf54-41c5-8f0c-74a1c2c22ab5"
      },
      "cell_type": "code",
      "source": [
        "cnf_matrix_ibm = ConfusionMatrix(y_true, y_pred_ibm)\n",
        "acc_score_ibm = accuracy_score(y_true, y_pred_ibm)\n",
        "\n",
        "\n",
        "print('Accuracy Score: ', acc_score_ibm)\n",
        "\n",
        "print(cnf_matrix_ibm)\n",
        "\n",
        "cnf_matrix_ibm.plot()\n",
        "plt.show()"
      ],
      "execution_count": 75,
      "outputs": [
        {
          "output_type": "stream",
          "text": [
            "Accuracy Score:  0.5289389067524116\n",
            "Predicted  Negative  Neutral  Positive  __all__\n",
            "Actual                                         \n",
            "Negative         18        0        44       62\n",
            "Neutral          17       20       206      243\n",
            "Positive         25        1       291      317\n",
            "__all__          60       21       541      622\n"
          ],
          "name": "stdout"
        },
        {
          "output_type": "display_data",
          "data": {
            "image/png": "[encoded data removed]",
            "text/plain": [
              "<matplotlib.figure.Figure at 0x7feb54174710>"
            ]
          },
          "metadata": {
            "tags": []
          }
        }
      ]
    },
    {
      "metadata": {
        "id": "7RbjXApoUUMu",
        "colab_type": "code",
        "colab": {
          "base_uri": "https://localhost:8080/",
          "height": 198
        },
        "outputId": "68cb0eb6-a35f-4f20-9f0f-41def5840f19"
      },
      "cell_type": "code",
      "source": [
        "#Now we will normalize the sentiment score from Google API:\n",
        "result_gcp.head()"
      ],
      "execution_count": 76,
      "outputs": [
        {
          "output_type": "execute_result",
          "data": {
            "text/html": [
              "<div>\n",
              "<style scoped>\n",
              "    .dataframe tbody tr th:only-of-type {\n",
              "        vertical-align: middle;\n",
              "    }\n",
              "\n",
              "    .dataframe tbody tr th {\n",
              "        vertical-align: top;\n",
              "    }\n",
              "\n",
              "    .dataframe thead th {\n",
              "        text-align: right;\n",
              "    }\n",
              "</style>\n",
              "<table border=\"1\" class=\"dataframe\">\n",
              "  <thead>\n",
              "    <tr style=\"text-align: right;\">\n",
              "      <th></th>\n",
              "      <th>Text_ID</th>\n",
              "      <th>API</th>\n",
              "      <th>Magnitude</th>\n",
              "      <th>Score</th>\n",
              "    </tr>\n",
              "  </thead>\n",
              "  <tbody>\n",
              "    <tr>\n",
              "      <th>0</th>\n",
              "      <td>1</td>\n",
              "      <td>GCP</td>\n",
              "      <td>0.0</td>\n",
              "      <td>0.0</td>\n",
              "    </tr>\n",
              "    <tr>\n",
              "      <th>1</th>\n",
              "      <td>2</td>\n",
              "      <td>GCP</td>\n",
              "      <td>0.9</td>\n",
              "      <td>0.1</td>\n",
              "    </tr>\n",
              "    <tr>\n",
              "      <th>2</th>\n",
              "      <td>3</td>\n",
              "      <td>GCP</td>\n",
              "      <td>0.0</td>\n",
              "      <td>0.0</td>\n",
              "    </tr>\n",
              "    <tr>\n",
              "      <th>3</th>\n",
              "      <td>4</td>\n",
              "      <td>GCP</td>\n",
              "      <td>1.2</td>\n",
              "      <td>0.3</td>\n",
              "    </tr>\n",
              "    <tr>\n",
              "      <th>4</th>\n",
              "      <td>5</td>\n",
              "      <td>GCP</td>\n",
              "      <td>0.2</td>\n",
              "      <td>0.0</td>\n",
              "    </tr>\n",
              "  </tbody>\n",
              "</table>\n",
              "</div>"
            ],
            "text/plain": [
              "   Text_ID  API  Magnitude  Score\n",
              "0        1  GCP        0.0    0.0\n",
              "1        2  GCP        0.9    0.1\n",
              "2        3  GCP        0.0    0.0\n",
              "3        4  GCP        1.2    0.3\n",
              "4        5  GCP        0.2    0.0"
            ]
          },
          "metadata": {
            "tags": []
          },
          "execution_count": 76
        }
      ]
    },
    {
      "metadata": {
        "id": "4aV8RMnPVOKu",
        "colab_type": "code",
        "colab": {
          "base_uri": "https://localhost:8080/",
          "height": 288
        },
        "outputId": "ffa01782-60a5-4675-ceee-2602cf51539f"
      },
      "cell_type": "code",
      "source": [
        "#The magnitude shows the intensity or magnitude value of that sentence\n",
        "#A magnitude is a number ranging from 0 to infinity. It represents the weight of sentiment expressed in the statement, \n",
        "#regardless of being positive or negative. Longer blocks of text with heavily weighted statements have higher magnitude values.\n",
        "#The Sentiment score is a number and ranges from -1 to +1.\n",
        "\n",
        "result_gcp.describe()"
      ],
      "execution_count": 77,
      "outputs": [
        {
          "output_type": "execute_result",
          "data": {
            "text/html": [
              "<div>\n",
              "<style scoped>\n",
              "    .dataframe tbody tr th:only-of-type {\n",
              "        vertical-align: middle;\n",
              "    }\n",
              "\n",
              "    .dataframe tbody tr th {\n",
              "        vertical-align: top;\n",
              "    }\n",
              "\n",
              "    .dataframe thead th {\n",
              "        text-align: right;\n",
              "    }\n",
              "</style>\n",
              "<table border=\"1\" class=\"dataframe\">\n",
              "  <thead>\n",
              "    <tr style=\"text-align: right;\">\n",
              "      <th></th>\n",
              "      <th>Text_ID</th>\n",
              "      <th>Magnitude</th>\n",
              "      <th>Score</th>\n",
              "    </tr>\n",
              "  </thead>\n",
              "  <tbody>\n",
              "    <tr>\n",
              "      <th>count</th>\n",
              "      <td>622.000000</td>\n",
              "      <td>622.000000</td>\n",
              "      <td>622.000000</td>\n",
              "    </tr>\n",
              "    <tr>\n",
              "      <th>mean</th>\n",
              "      <td>311.500000</td>\n",
              "      <td>1.126527</td>\n",
              "      <td>0.187460</td>\n",
              "    </tr>\n",
              "    <tr>\n",
              "      <th>std</th>\n",
              "      <td>179.700213</td>\n",
              "      <td>0.833413</td>\n",
              "      <td>0.234957</td>\n",
              "    </tr>\n",
              "    <tr>\n",
              "      <th>min</th>\n",
              "      <td>1.000000</td>\n",
              "      <td>0.000000</td>\n",
              "      <td>-0.700000</td>\n",
              "    </tr>\n",
              "    <tr>\n",
              "      <th>25%</th>\n",
              "      <td>156.250000</td>\n",
              "      <td>0.500000</td>\n",
              "      <td>0.000000</td>\n",
              "    </tr>\n",
              "    <tr>\n",
              "      <th>50%</th>\n",
              "      <td>311.500000</td>\n",
              "      <td>1.000000</td>\n",
              "      <td>0.200000</td>\n",
              "    </tr>\n",
              "    <tr>\n",
              "      <th>75%</th>\n",
              "      <td>466.750000</td>\n",
              "      <td>1.500000</td>\n",
              "      <td>0.300000</td>\n",
              "    </tr>\n",
              "    <tr>\n",
              "      <th>max</th>\n",
              "      <td>622.000000</td>\n",
              "      <td>4.700000</td>\n",
              "      <td>0.900000</td>\n",
              "    </tr>\n",
              "  </tbody>\n",
              "</table>\n",
              "</div>"
            ],
            "text/plain": [
              "          Text_ID   Magnitude       Score\n",
              "count  622.000000  622.000000  622.000000\n",
              "mean   311.500000    1.126527    0.187460\n",
              "std    179.700213    0.833413    0.234957\n",
              "min      1.000000    0.000000   -0.700000\n",
              "25%    156.250000    0.500000    0.000000\n",
              "50%    311.500000    1.000000    0.200000\n",
              "75%    466.750000    1.500000    0.300000\n",
              "max    622.000000    4.700000    0.900000"
            ]
          },
          "metadata": {
            "tags": []
          },
          "execution_count": 77
        }
      ]
    },
    {
      "metadata": {
        "id": "iKkxivPzXG5c",
        "colab_type": "code",
        "colab": {
          "base_uri": "https://localhost:8080/",
          "height": 379
        },
        "outputId": "5d85fdcf-58d3-4b1b-b0e7-360650e4ef14"
      },
      "cell_type": "code",
      "source": [
        "import seaborn as sns\n",
        "\n",
        "sns.distplot(result_gcp['Score'])"
      ],
      "execution_count": 78,
      "outputs": [
        {
          "output_type": "execute_result",
          "data": {
            "text/plain": [
              "<matplotlib.axes._subplots.AxesSubplot at 0x7feb5404d1d0>"
            ]
          },
          "metadata": {
            "tags": []
          },
          "execution_count": 78
        },
        {
          "output_type": "display_data",
          "data": {
            "image/png": "[encoded data removed]",
            "text/plain": [
              "<matplotlib.figure.Figure at 0x7feb4aa02da0>"
            ]
          },
          "metadata": {
            "tags": []
          }
        }
      ]
    },
    {
      "metadata": {
        "id": "a6V29NmwWghR",
        "colab_type": "text"
      },
      "cell_type": "markdown",
      "source": [
        "#Observation:\n",
        "1. The Score mean is 0.187 which is less than 50 percentile of data.\n",
        "2. 75% of data has the less than 0.3\n",
        "3. Which implies that we need to make a good call to decide the threshold for the sentiment classification."
      ]
    },
    {
      "metadata": {
        "id": "i7q8VHsfXFs5",
        "colab_type": "code",
        "colab": {}
      },
      "cell_type": "code",
      "source": [
        "result_gcp['Sentiment_Google'] = 'Neutral'\n",
        "result_gcp.loc[result_gcp['Score'] > 0.2, 'Sentiment_Google'] = 'Positive'\n",
        "result_gcp.loc[result_gcp['Score'] < 0.0, 'Sentiment_Google'] = 'Negative'"
      ],
      "execution_count": 0,
      "outputs": []
    },
    {
      "metadata": {
        "id": "aBHoRKmkYwTo",
        "colab_type": "code",
        "colab": {
          "base_uri": "https://localhost:8080/",
          "height": 198
        },
        "outputId": "136d7923-7e6c-4e3e-f0dd-e15aac5da8ce"
      },
      "cell_type": "code",
      "source": [
        "result_gcp.head()"
      ],
      "execution_count": 80,
      "outputs": [
        {
          "output_type": "execute_result",
          "data": {
            "text/html": [
              "<div>\n",
              "<style scoped>\n",
              "    .dataframe tbody tr th:only-of-type {\n",
              "        vertical-align: middle;\n",
              "    }\n",
              "\n",
              "    .dataframe tbody tr th {\n",
              "        vertical-align: top;\n",
              "    }\n",
              "\n",
              "    .dataframe thead th {\n",
              "        text-align: right;\n",
              "    }\n",
              "</style>\n",
              "<table border=\"1\" class=\"dataframe\">\n",
              "  <thead>\n",
              "    <tr style=\"text-align: right;\">\n",
              "      <th></th>\n",
              "      <th>Text_ID</th>\n",
              "      <th>API</th>\n",
              "      <th>Magnitude</th>\n",
              "      <th>Score</th>\n",
              "      <th>Sentiment_Google</th>\n",
              "    </tr>\n",
              "  </thead>\n",
              "  <tbody>\n",
              "    <tr>\n",
              "      <th>0</th>\n",
              "      <td>1</td>\n",
              "      <td>GCP</td>\n",
              "      <td>0.0</td>\n",
              "      <td>0.0</td>\n",
              "      <td>Neutral</td>\n",
              "    </tr>\n",
              "    <tr>\n",
              "      <th>1</th>\n",
              "      <td>2</td>\n",
              "      <td>GCP</td>\n",
              "      <td>0.9</td>\n",
              "      <td>0.1</td>\n",
              "      <td>Neutral</td>\n",
              "    </tr>\n",
              "    <tr>\n",
              "      <th>2</th>\n",
              "      <td>3</td>\n",
              "      <td>GCP</td>\n",
              "      <td>0.0</td>\n",
              "      <td>0.0</td>\n",
              "      <td>Neutral</td>\n",
              "    </tr>\n",
              "    <tr>\n",
              "      <th>3</th>\n",
              "      <td>4</td>\n",
              "      <td>GCP</td>\n",
              "      <td>1.2</td>\n",
              "      <td>0.3</td>\n",
              "      <td>Positive</td>\n",
              "    </tr>\n",
              "    <tr>\n",
              "      <th>4</th>\n",
              "      <td>5</td>\n",
              "      <td>GCP</td>\n",
              "      <td>0.2</td>\n",
              "      <td>0.0</td>\n",
              "      <td>Neutral</td>\n",
              "    </tr>\n",
              "  </tbody>\n",
              "</table>\n",
              "</div>"
            ],
            "text/plain": [
              "   Text_ID  API  Magnitude  Score Sentiment_Google\n",
              "0        1  GCP        0.0    0.0          Neutral\n",
              "1        2  GCP        0.9    0.1          Neutral\n",
              "2        3  GCP        0.0    0.0          Neutral\n",
              "3        4  GCP        1.2    0.3         Positive\n",
              "4        5  GCP        0.2    0.0          Neutral"
            ]
          },
          "metadata": {
            "tags": []
          },
          "execution_count": 80
        }
      ]
    },
    {
      "metadata": {
        "id": "awp_W7ozY2QB",
        "colab_type": "code",
        "colab": {
          "base_uri": "https://localhost:8080/",
          "height": 108
        },
        "outputId": "e043ff70-840b-4d5d-e7aa-a31ad26c7a70"
      },
      "cell_type": "code",
      "source": [
        "result_gcp.groupby('Sentiment_Google')['Sentiment_Google'].count()"
      ],
      "execution_count": 81,
      "outputs": [
        {
          "output_type": "execute_result",
          "data": {
            "text/plain": [
              "Sentiment_Google\n",
              "Negative     59\n",
              "Neutral     240\n",
              "Positive    323\n",
              "Name: Sentiment_Google, dtype: int64"
            ]
          },
          "metadata": {
            "tags": []
          },
          "execution_count": 81
        }
      ]
    },
    {
      "metadata": {
        "id": "zXlDfitpY_xQ",
        "colab_type": "code",
        "colab": {}
      },
      "cell_type": "code",
      "source": [
        "y_pred_gcp = result_gcp['Sentiment_Google']"
      ],
      "execution_count": 0,
      "outputs": []
    },
    {
      "metadata": {
        "id": "lVAoOaSQZLh0",
        "colab_type": "code",
        "colab": {
          "base_uri": "https://localhost:8080/",
          "height": 633
        },
        "outputId": "ef2a8ed9-72a7-415c-8c49-c7c34a345390"
      },
      "cell_type": "code",
      "source": [
        "cnf_matrix_gcp = ConfusionMatrix(y_true, y_pred_gcp)\n",
        "acc_score_gcp = accuracy_score(y_true, y_pred_gcp)\n",
        "\n",
        "\n",
        "print('Accuracy Score: ', acc_score_gcp)\n",
        "\n",
        "print(cnf_matrix_gcp)\n",
        "\n",
        "cnf_matrix_gcp.plot()\n",
        "plt.show()"
      ],
      "execution_count": 83,
      "outputs": [
        {
          "output_type": "stream",
          "text": [
            "Accuracy Score:  0.5401929260450161\n",
            "Predicted  Negative  Neutral  Positive  __all__\n",
            "Actual                                         \n",
            "Negative          8       34        20       62\n",
            "Neutral          24      122        97      243\n",
            "Positive         27       84       206      317\n",
            "__all__          59      240       323      622\n"
          ],
          "name": "stdout"
        },
        {
          "output_type": "display_data",
          "data": {
            "image/png": "[encoded data removed]",
            "text/plain": [
              "<matplotlib.figure.Figure at 0x7feb53fd5550>"
            ]
          },
          "metadata": {
            "tags": []
          }
        }
      ]
    },
    {
      "metadata": {
        "id": "AvMBIP4fZcbg",
        "colab_type": "code",
        "colab": {
          "base_uri": "https://localhost:8080/",
          "height": 198
        },
        "outputId": "2cd83eed-0c24-4521-8739-c84941f62e3d"
      },
      "cell_type": "code",
      "source": [
        "#Now we will normalize the sentiment result from the Vader API:\n",
        "result_vader.head()"
      ],
      "execution_count": 84,
      "outputs": [
        {
          "output_type": "execute_result",
          "data": {
            "text/html": [
              "<div>\n",
              "<style scoped>\n",
              "    .dataframe tbody tr th:only-of-type {\n",
              "        vertical-align: middle;\n",
              "    }\n",
              "\n",
              "    .dataframe tbody tr th {\n",
              "        vertical-align: top;\n",
              "    }\n",
              "\n",
              "    .dataframe thead th {\n",
              "        text-align: right;\n",
              "    }\n",
              "</style>\n",
              "<table border=\"1\" class=\"dataframe\">\n",
              "  <thead>\n",
              "    <tr style=\"text-align: right;\">\n",
              "      <th></th>\n",
              "      <th>Text_ID</th>\n",
              "      <th>API</th>\n",
              "      <th>Overall_Score</th>\n",
              "      <th>Negative_Score</th>\n",
              "      <th>Neutral_Score</th>\n",
              "      <th>Positive_Score</th>\n",
              "    </tr>\n",
              "  </thead>\n",
              "  <tbody>\n",
              "    <tr>\n",
              "      <th>0</th>\n",
              "      <td>1</td>\n",
              "      <td>Vader</td>\n",
              "      <td>0.0000</td>\n",
              "      <td>0.0</td>\n",
              "      <td>1.000</td>\n",
              "      <td>0.000</td>\n",
              "    </tr>\n",
              "    <tr>\n",
              "      <th>1</th>\n",
              "      <td>2</td>\n",
              "      <td>Vader</td>\n",
              "      <td>0.7096</td>\n",
              "      <td>0.0</td>\n",
              "      <td>0.848</td>\n",
              "      <td>0.152</td>\n",
              "    </tr>\n",
              "    <tr>\n",
              "      <th>2</th>\n",
              "      <td>3</td>\n",
              "      <td>Vader</td>\n",
              "      <td>0.3182</td>\n",
              "      <td>0.0</td>\n",
              "      <td>0.892</td>\n",
              "      <td>0.108</td>\n",
              "    </tr>\n",
              "    <tr>\n",
              "      <th>3</th>\n",
              "      <td>4</td>\n",
              "      <td>Vader</td>\n",
              "      <td>0.8658</td>\n",
              "      <td>0.0</td>\n",
              "      <td>0.872</td>\n",
              "      <td>0.128</td>\n",
              "    </tr>\n",
              "    <tr>\n",
              "      <th>4</th>\n",
              "      <td>5</td>\n",
              "      <td>Vader</td>\n",
              "      <td>0.0000</td>\n",
              "      <td>0.0</td>\n",
              "      <td>1.000</td>\n",
              "      <td>0.000</td>\n",
              "    </tr>\n",
              "  </tbody>\n",
              "</table>\n",
              "</div>"
            ],
            "text/plain": [
              "   Text_ID    API  Overall_Score  Negative_Score  Neutral_Score  \\\n",
              "0        1  Vader         0.0000             0.0          1.000   \n",
              "1        2  Vader         0.7096             0.0          0.848   \n",
              "2        3  Vader         0.3182             0.0          0.892   \n",
              "3        4  Vader         0.8658             0.0          0.872   \n",
              "4        5  Vader         0.0000             0.0          1.000   \n",
              "\n",
              "   Positive_Score  \n",
              "0           0.000  \n",
              "1           0.152  \n",
              "2           0.108  \n",
              "3           0.128  \n",
              "4           0.000  "
            ]
          },
          "metadata": {
            "tags": []
          },
          "execution_count": 84
        }
      ]
    },
    {
      "metadata": {
        "id": "ityDP3nhZ9y_",
        "colab_type": "code",
        "colab": {
          "base_uri": "https://localhost:8080/",
          "height": 288
        },
        "outputId": "4c47cfb8-92ce-4c1a-9ab9-afb14e49f3e2"
      },
      "cell_type": "code",
      "source": [
        "result_vader.describe()"
      ],
      "execution_count": 85,
      "outputs": [
        {
          "output_type": "execute_result",
          "data": {
            "text/html": [
              "<div>\n",
              "<style scoped>\n",
              "    .dataframe tbody tr th:only-of-type {\n",
              "        vertical-align: middle;\n",
              "    }\n",
              "\n",
              "    .dataframe tbody tr th {\n",
              "        vertical-align: top;\n",
              "    }\n",
              "\n",
              "    .dataframe thead th {\n",
              "        text-align: right;\n",
              "    }\n",
              "</style>\n",
              "<table border=\"1\" class=\"dataframe\">\n",
              "  <thead>\n",
              "    <tr style=\"text-align: right;\">\n",
              "      <th></th>\n",
              "      <th>Text_ID</th>\n",
              "      <th>Overall_Score</th>\n",
              "      <th>Negative_Score</th>\n",
              "      <th>Neutral_Score</th>\n",
              "      <th>Positive_Score</th>\n",
              "    </tr>\n",
              "  </thead>\n",
              "  <tbody>\n",
              "    <tr>\n",
              "      <th>count</th>\n",
              "      <td>622.000000</td>\n",
              "      <td>622.000000</td>\n",
              "      <td>622.000000</td>\n",
              "      <td>622.000000</td>\n",
              "      <td>622.000000</td>\n",
              "    </tr>\n",
              "    <tr>\n",
              "      <th>mean</th>\n",
              "      <td>311.500000</td>\n",
              "      <td>0.677799</td>\n",
              "      <td>0.010027</td>\n",
              "      <td>0.846725</td>\n",
              "      <td>0.143240</td>\n",
              "    </tr>\n",
              "    <tr>\n",
              "      <th>std</th>\n",
              "      <td>179.700213</td>\n",
              "      <td>0.323263</td>\n",
              "      <td>0.022349</td>\n",
              "      <td>0.082112</td>\n",
              "      <td>0.080211</td>\n",
              "    </tr>\n",
              "    <tr>\n",
              "      <th>min</th>\n",
              "      <td>1.000000</td>\n",
              "      <td>-0.606000</td>\n",
              "      <td>0.000000</td>\n",
              "      <td>0.598000</td>\n",
              "      <td>0.000000</td>\n",
              "    </tr>\n",
              "    <tr>\n",
              "      <th>25%</th>\n",
              "      <td>156.250000</td>\n",
              "      <td>0.557400</td>\n",
              "      <td>0.000000</td>\n",
              "      <td>0.788000</td>\n",
              "      <td>0.088000</td>\n",
              "    </tr>\n",
              "    <tr>\n",
              "      <th>50%</th>\n",
              "      <td>311.500000</td>\n",
              "      <td>0.798700</td>\n",
              "      <td>0.000000</td>\n",
              "      <td>0.849000</td>\n",
              "      <td>0.139000</td>\n",
              "    </tr>\n",
              "    <tr>\n",
              "      <th>75%</th>\n",
              "      <td>466.750000</td>\n",
              "      <td>0.913575</td>\n",
              "      <td>0.000000</td>\n",
              "      <td>0.904000</td>\n",
              "      <td>0.200000</td>\n",
              "    </tr>\n",
              "    <tr>\n",
              "      <th>max</th>\n",
              "      <td>622.000000</td>\n",
              "      <td>0.994600</td>\n",
              "      <td>0.165000</td>\n",
              "      <td>1.000000</td>\n",
              "      <td>0.402000</td>\n",
              "    </tr>\n",
              "  </tbody>\n",
              "</table>\n",
              "</div>"
            ],
            "text/plain": [
              "          Text_ID  Overall_Score  Negative_Score  Neutral_Score  \\\n",
              "count  622.000000     622.000000      622.000000     622.000000   \n",
              "mean   311.500000       0.677799        0.010027       0.846725   \n",
              "std    179.700213       0.323263        0.022349       0.082112   \n",
              "min      1.000000      -0.606000        0.000000       0.598000   \n",
              "25%    156.250000       0.557400        0.000000       0.788000   \n",
              "50%    311.500000       0.798700        0.000000       0.849000   \n",
              "75%    466.750000       0.913575        0.000000       0.904000   \n",
              "max    622.000000       0.994600        0.165000       1.000000   \n",
              "\n",
              "       Positive_Score  \n",
              "count      622.000000  \n",
              "mean         0.143240  \n",
              "std          0.080211  \n",
              "min          0.000000  \n",
              "25%          0.088000  \n",
              "50%          0.139000  \n",
              "75%          0.200000  \n",
              "max          0.402000  "
            ]
          },
          "metadata": {
            "tags": []
          },
          "execution_count": 85
        }
      ]
    },
    {
      "metadata": {
        "id": "mHalr1JpaEO6",
        "colab_type": "code",
        "colab": {
          "base_uri": "https://localhost:8080/",
          "height": 379
        },
        "outputId": "0dd7494b-0405-4052-e71d-0519e2676fa8"
      },
      "cell_type": "code",
      "source": [
        "sns.distplot(result_vader['Overall_Score'])"
      ],
      "execution_count": 86,
      "outputs": [
        {
          "output_type": "execute_result",
          "data": {
            "text/plain": [
              "<matplotlib.axes._subplots.AxesSubplot at 0x7feb53f13f60>"
            ]
          },
          "metadata": {
            "tags": []
          },
          "execution_count": 86
        },
        {
          "output_type": "display_data",
          "data": {
            "image/png": "[encoded data removed]",
            "text/plain": [
              "<matplotlib.figure.Figure at 0x7feb5409b940>"
            ]
          },
          "metadata": {
            "tags": []
          }
        }
      ]
    },
    {
      "metadata": {
        "id": "s5Zla0sGaRN4",
        "colab_type": "text"
      },
      "cell_type": "markdown",
      "source": [
        "#Observation:\n",
        "1. The above plot show that the Overall score is positively scewed.\n",
        "2. The range for Overall score is -0.6 to +0.99.\n",
        "3. By considering the 50 and 75 percentile of Overall score we can choose the threshold for the sentiment.\n"
      ]
    },
    {
      "metadata": {
        "id": "rCUlr690a083",
        "colab_type": "code",
        "colab": {}
      },
      "cell_type": "code",
      "source": [
        "result_vader['Sentiment_Vader'] = 'Neutral'\n",
        "result_vader.loc[result_vader['Overall_Score'] > 0.55, 'Sentiment_Vader'] = 'Positive'\n",
        "result_vader.loc[result_vader['Overall_Score'] < 0.0, 'Sentiment_Vader'] = 'Negative'"
      ],
      "execution_count": 0,
      "outputs": []
    },
    {
      "metadata": {
        "id": "RG5iGdGhbsdz",
        "colab_type": "code",
        "colab": {
          "base_uri": "https://localhost:8080/",
          "height": 198
        },
        "outputId": "0f55b9c1-843b-4a84-c1e9-e72ab8b7e000"
      },
      "cell_type": "code",
      "source": [
        "result_vader.head()"
      ],
      "execution_count": 88,
      "outputs": [
        {
          "output_type": "execute_result",
          "data": {
            "text/html": [
              "<div>\n",
              "<style scoped>\n",
              "    .dataframe tbody tr th:only-of-type {\n",
              "        vertical-align: middle;\n",
              "    }\n",
              "\n",
              "    .dataframe tbody tr th {\n",
              "        vertical-align: top;\n",
              "    }\n",
              "\n",
              "    .dataframe thead th {\n",
              "        text-align: right;\n",
              "    }\n",
              "</style>\n",
              "<table border=\"1\" class=\"dataframe\">\n",
              "  <thead>\n",
              "    <tr style=\"text-align: right;\">\n",
              "      <th></th>\n",
              "      <th>Text_ID</th>\n",
              "      <th>API</th>\n",
              "      <th>Overall_Score</th>\n",
              "      <th>Negative_Score</th>\n",
              "      <th>Neutral_Score</th>\n",
              "      <th>Positive_Score</th>\n",
              "      <th>Sentiment_Vader</th>\n",
              "    </tr>\n",
              "  </thead>\n",
              "  <tbody>\n",
              "    <tr>\n",
              "      <th>0</th>\n",
              "      <td>1</td>\n",
              "      <td>Vader</td>\n",
              "      <td>0.0000</td>\n",
              "      <td>0.0</td>\n",
              "      <td>1.000</td>\n",
              "      <td>0.000</td>\n",
              "      <td>Neutral</td>\n",
              "    </tr>\n",
              "    <tr>\n",
              "      <th>1</th>\n",
              "      <td>2</td>\n",
              "      <td>Vader</td>\n",
              "      <td>0.7096</td>\n",
              "      <td>0.0</td>\n",
              "      <td>0.848</td>\n",
              "      <td>0.152</td>\n",
              "      <td>Positive</td>\n",
              "    </tr>\n",
              "    <tr>\n",
              "      <th>2</th>\n",
              "      <td>3</td>\n",
              "      <td>Vader</td>\n",
              "      <td>0.3182</td>\n",
              "      <td>0.0</td>\n",
              "      <td>0.892</td>\n",
              "      <td>0.108</td>\n",
              "      <td>Neutral</td>\n",
              "    </tr>\n",
              "    <tr>\n",
              "      <th>3</th>\n",
              "      <td>4</td>\n",
              "      <td>Vader</td>\n",
              "      <td>0.8658</td>\n",
              "      <td>0.0</td>\n",
              "      <td>0.872</td>\n",
              "      <td>0.128</td>\n",
              "      <td>Positive</td>\n",
              "    </tr>\n",
              "    <tr>\n",
              "      <th>4</th>\n",
              "      <td>5</td>\n",
              "      <td>Vader</td>\n",
              "      <td>0.0000</td>\n",
              "      <td>0.0</td>\n",
              "      <td>1.000</td>\n",
              "      <td>0.000</td>\n",
              "      <td>Neutral</td>\n",
              "    </tr>\n",
              "  </tbody>\n",
              "</table>\n",
              "</div>"
            ],
            "text/plain": [
              "   Text_ID    API  Overall_Score  Negative_Score  Neutral_Score  \\\n",
              "0        1  Vader         0.0000             0.0          1.000   \n",
              "1        2  Vader         0.7096             0.0          0.848   \n",
              "2        3  Vader         0.3182             0.0          0.892   \n",
              "3        4  Vader         0.8658             0.0          0.872   \n",
              "4        5  Vader         0.0000             0.0          1.000   \n",
              "\n",
              "   Positive_Score Sentiment_Vader  \n",
              "0           0.000         Neutral  \n",
              "1           0.152        Positive  \n",
              "2           0.108         Neutral  \n",
              "3           0.128        Positive  \n",
              "4           0.000         Neutral  "
            ]
          },
          "metadata": {
            "tags": []
          },
          "execution_count": 88
        }
      ]
    },
    {
      "metadata": {
        "id": "5CfFQ2dubueN",
        "colab_type": "code",
        "colab": {
          "base_uri": "https://localhost:8080/",
          "height": 108
        },
        "outputId": "d3b7e3c8-80df-4584-a0d8-cefc2d8ebeec"
      },
      "cell_type": "code",
      "source": [
        "result_vader.groupby('Sentiment_Vader')['Sentiment_Vader'].count()"
      ],
      "execution_count": 89,
      "outputs": [
        {
          "output_type": "execute_result",
          "data": {
            "text/plain": [
              "Sentiment_Vader\n",
              "Negative     17\n",
              "Neutral     138\n",
              "Positive    467\n",
              "Name: Sentiment_Vader, dtype: int64"
            ]
          },
          "metadata": {
            "tags": []
          },
          "execution_count": 89
        }
      ]
    },
    {
      "metadata": {
        "id": "7u2tY2btcBDm",
        "colab_type": "code",
        "colab": {}
      },
      "cell_type": "code",
      "source": [
        "y_pred_vader = result_vader['Sentiment_Vader']"
      ],
      "execution_count": 0,
      "outputs": []
    },
    {
      "metadata": {
        "id": "WazRELAtb337",
        "colab_type": "code",
        "colab": {
          "base_uri": "https://localhost:8080/",
          "height": 633
        },
        "outputId": "6d405d7d-203f-4ed1-f9ab-5b396303bc82"
      },
      "cell_type": "code",
      "source": [
        "cnf_matrix_vader = ConfusionMatrix(y_true, y_pred_vader)\n",
        "acc_score_vader = accuracy_score(y_true, y_pred_vader)\n",
        "\n",
        "\n",
        "print('Accuracy Score: ', acc_score_vader)\n",
        "\n",
        "print(cnf_matrix_vader)\n",
        "\n",
        "cnf_matrix_vader.plot()\n",
        "plt.show()"
      ],
      "execution_count": 91,
      "outputs": [
        {
          "output_type": "stream",
          "text": [
            "Accuracy Score:  0.5755627009646302\n",
            "Predicted  Negative  Neutral  Positive  __all__\n",
            "Actual                                         \n",
            "Negative          6       18        38       62\n",
            "Neutral           6       80       157      243\n",
            "Positive          5       40       272      317\n",
            "__all__          17      138       467      622\n"
          ],
          "name": "stdout"
        },
        {
          "output_type": "display_data",
          "data": {
            "image/png": "[encoded data removed]",
            "text/plain": [
              "<matplotlib.figure.Figure at 0x7feb53f3d0b8>"
            ]
          },
          "metadata": {
            "tags": []
          }
        }
      ]
    },
    {
      "metadata": {
        "id": "qGBbBvP_co3l",
        "colab_type": "text"
      },
      "cell_type": "markdown",
      "source": [
        "#Analyse API Performance:"
      ]
    },
    {
      "metadata": {
        "id": "fclKkXTDgOL1",
        "colab_type": "text"
      },
      "cell_type": "markdown",
      "source": [
        "## Time"
      ]
    },
    {
      "metadata": {
        "id": "Ub--1pVIcsgC",
        "colab_type": "code",
        "colab": {
          "base_uri": "https://localhost:8080/",
          "height": 108
        },
        "outputId": "e5ff716d-dc0a-4983-dd23-c2cb7d126ea3"
      },
      "cell_type": "code",
      "source": [
        "print('Execution time by AWS: ', time_aws)\n",
        "print('Execution time by Microsoft Azure: ', time_azure)\n",
        "print('Execution time by IBM: ', time_ibm)\n",
        "print('Execution time by Google: ', time_gcp)\n",
        "print('Execution time by Vader: ', time_vader)"
      ],
      "execution_count": 92,
      "outputs": [
        {
          "output_type": "stream",
          "text": [
            "Execution time by AWS:  43.096174240112305\n",
            "Execution time by Microsoft Azure:  2.5908381938934326\n",
            "Execution time by IBM:  185.79524445533752\n",
            "Execution time by Google:  49.52760910987854\n",
            "Execution time by Vader:  0.8199565410614014\n"
          ],
          "name": "stdout"
        }
      ]
    },
    {
      "metadata": {
        "id": "XXF4En4zdudy",
        "colab_type": "code",
        "colab": {}
      },
      "cell_type": "code",
      "source": [
        "Time_dict = {'AWS':time_aws,'AZURE':time_azure,'IBM':time_ibm,'GOOGLE':time_gcp,'VADER':time_vader}"
      ],
      "execution_count": 0,
      "outputs": []
    },
    {
      "metadata": {
        "id": "kugwnn3DeMKi",
        "colab_type": "code",
        "colab": {
          "base_uri": "https://localhost:8080/",
          "height": 108
        },
        "outputId": "b5c0e100-0355-4b6a-b6d5-a86a9b1e8145"
      },
      "cell_type": "code",
      "source": [
        "Time_dict"
      ],
      "execution_count": 94,
      "outputs": [
        {
          "output_type": "execute_result",
          "data": {
            "text/plain": [
              "{'AWS': 43.096174240112305,\n",
              " 'AZURE': 2.5908381938934326,\n",
              " 'GOOGLE': 49.52760910987854,\n",
              " 'IBM': 185.79524445533752,\n",
              " 'VADER': 0.8199565410614014}"
            ]
          },
          "metadata": {
            "tags": []
          },
          "execution_count": 94
        }
      ]
    },
    {
      "metadata": {
        "id": "LXUdM2xQeNt3",
        "colab_type": "code",
        "colab": {
          "base_uri": "https://localhost:8080/",
          "height": 395
        },
        "outputId": "67c19ec1-94ba-4c6b-df14-2b6830f4a335"
      },
      "cell_type": "code",
      "source": [
        "plt.title('Execution time taken by different API')\n",
        "plt.xlabel('Sentiment Analysis API')\n",
        "plt.ylabel('Execution time in seconds')\n",
        "plt.bar(Time_dict.keys(), Time_dict.values())"
      ],
      "execution_count": 95,
      "outputs": [
        {
          "output_type": "execute_result",
          "data": {
            "text/plain": [
              "<Container object of 5 artists>"
            ]
          },
          "metadata": {
            "tags": []
          },
          "execution_count": 95
        },
        {
          "output_type": "display_data",
          "data": {
            "image/png": "[encoded data removed]",
            "text/plain": [
              "<matplotlib.figure.Figure at 0x7feb5409bbe0>"
            ]
          },
          "metadata": {
            "tags": []
          }
        }
      ]
    },
    {
      "metadata": {
        "id": "DX2xBpn_iUhJ",
        "colab_type": "text"
      },
      "cell_type": "markdown",
      "source": [
        "1. AWS, AZURE, GOOGLE and IBM for this API we need to hit to the external application to get the result.\n",
        "2. For Vader API, it resides locally. Hence Vader API execute fast than other APIs.\n",
        "3. Also, Microsoft Azure API uses the document concept for the sentiment analysis, in which we can hit all the samples of text in one go. Thus in one hit we can the result for our dataset.\n",
        "4. Whereas, other API get called one iterartion at a time.\n",
        "5. We tried to use RISE Lab Ray to parallelize the API execution but as this are APIs, they are thread lock. Hence could not succeed.\n",
        "6. Every time we hit the APIs we end up getting different execution time, It may be due to API current load."
      ]
    },
    {
      "metadata": {
        "id": "6K-bsGekgSia",
        "colab_type": "text"
      },
      "cell_type": "markdown",
      "source": [
        "## Accuracy"
      ]
    },
    {
      "metadata": {
        "id": "wkR4Ew3GgVeb",
        "colab_type": "code",
        "colab": {
          "base_uri": "https://localhost:8080/",
          "height": 108
        },
        "outputId": "402e197a-2959-4fae-8d4c-df8e956734e5"
      },
      "cell_type": "code",
      "source": [
        "print('Sentiment Accuracy by AWS: ', acc_score_aws)\n",
        "print('Sentiment Accuracy by Microsoft Azure: ', acc_score_azure)\n",
        "print('Sentiment Accuracy by IBM: ', acc_score_ibm)\n",
        "print('Sentiment Accuracy by Google: ', acc_score_gcp)\n",
        "print('Sentiment Accuracy by Vader: ', acc_score_vader)"
      ],
      "execution_count": 96,
      "outputs": [
        {
          "output_type": "stream",
          "text": [
            "Sentiment Accuracy by AWS:  0.43086816720257237\n",
            "Sentiment Accuracy by Microsoft Azure:  0.45980707395498394\n",
            "Sentiment Accuracy by IBM:  0.5289389067524116\n",
            "Sentiment Accuracy by Google:  0.5401929260450161\n",
            "Sentiment Accuracy by Vader:  0.5755627009646302\n"
          ],
          "name": "stdout"
        }
      ]
    },
    {
      "metadata": {
        "id": "80tgizQdgrdA",
        "colab_type": "code",
        "colab": {}
      },
      "cell_type": "code",
      "source": [
        "Acc_dict = {'AWS':acc_score_aws,'AZURE':acc_score_azure,'IBM':acc_score_ibm,'GOOGLE':acc_score_gcp,'VADER':acc_score_vader}"
      ],
      "execution_count": 0,
      "outputs": []
    },
    {
      "metadata": {
        "id": "giPhP_udhAK1",
        "colab_type": "code",
        "colab": {
          "base_uri": "https://localhost:8080/",
          "height": 108
        },
        "outputId": "86b5a3c6-acf7-4924-f207-951491e0afff"
      },
      "cell_type": "code",
      "source": [
        "Acc_dict"
      ],
      "execution_count": 98,
      "outputs": [
        {
          "output_type": "execute_result",
          "data": {
            "text/plain": [
              "{'AWS': 0.43086816720257237,\n",
              " 'AZURE': 0.45980707395498394,\n",
              " 'GOOGLE': 0.5401929260450161,\n",
              " 'IBM': 0.5289389067524116,\n",
              " 'VADER': 0.5755627009646302}"
            ]
          },
          "metadata": {
            "tags": []
          },
          "execution_count": 98
        }
      ]
    },
    {
      "metadata": {
        "id": "OJWJXOfnhBJo",
        "colab_type": "code",
        "colab": {
          "base_uri": "https://localhost:8080/",
          "height": 395
        },
        "outputId": "71b081f7-9427-430d-b163-d3e12ed66da0"
      },
      "cell_type": "code",
      "source": [
        "plt.title('Sentiment Analysis accuracy by different API')\n",
        "plt.xlabel('Sentiment Analysis API')\n",
        "plt.ylabel('Accuracy')\n",
        "plt.bar(Acc_dict.keys(), Acc_dict.values())"
      ],
      "execution_count": 99,
      "outputs": [
        {
          "output_type": "execute_result",
          "data": {
            "text/plain": [
              "<Container object of 5 artists>"
            ]
          },
          "metadata": {
            "tags": []
          },
          "execution_count": 99
        },
        {
          "output_type": "display_data",
          "data": {
            "image/png": "[encoded data removed]",
            "text/plain": [
              "<matplotlib.figure.Figure at 0x7feb53eef320>"
            ]
          },
          "metadata": {
            "tags": []
          }
        }
      ]
    },
    {
      "metadata": {
        "id": "eMnapDKXkciH",
        "colab_type": "text"
      },
      "cell_type": "markdown",
      "source": [
        "1. As per the plot, we can see that the Vader API give us the better result as comapre to other APIs.\n",
        "2. The response for AWS and IBM APIs is already classified as Positive, Negative and Neutral.\n",
        "3. But for Google, Micorsoft Azure and Vader APIs we have overhead to classify the sentiment based on the scores.\n",
        "4. This scoring systems to the text for sentiment gives us the flexibility to choose the threshold for classifying the sentiment for that text.\n",
        "5. As we can see that for all the APIs the accuracy fall between 43% to 57% which is releativley less.\n",
        "6. This might be the case because of incorrect labeling to the dataser under consideration.\n",
        "7. If that is the case then we can expect more accuracy from the above APIs."
      ]
    },
    {
      "metadata": {
        "id": "RdocTDGihwya",
        "colab_type": "text"
      },
      "cell_type": "markdown",
      "source": [
        "#Pricing"
      ]
    },
    {
      "metadata": {
        "id": "c2hH4PA3mqrB",
        "colab_type": "text"
      },
      "cell_type": "markdown",
      "source": [
        "1. We can find the pricing model for AWS sentiment analysis Comprehend API here: https://aws.amazon.com/comprehend/pricing/\n",
        "2. IBM: https://www.ibm.com/cloud/watson-natural-language-understanding/pricing\n",
        "3. Google: https://cloud.google.com/natural-language/pricing\n",
        "4. Microsoft Azure: https://azure.microsoft.com/en-us/pricing/details/cognitive-services/text-analytics/\n",
        "5. Vader: Open Source - Free"
      ]
    },
    {
      "metadata": {
        "id": "wDZyz0FFqeSw",
        "colab_type": "text"
      },
      "cell_type": "markdown",
      "source": [
        "1. All commercial APIs for sentiment analysis has price associated with it.\n",
        "2. However, Vader API is open source.\n",
        "3. Thus there is no limit on the usage. "
      ]
    },
    {
      "metadata": {
        "id": "HmtlBCR1-26V",
        "colab_type": "code",
        "colab": {
          "base_uri": "https://localhost:8080/",
          "height": 216
        },
        "outputId": "4c59c925-1343-479d-a426-9a7b7b883aee"
      },
      "cell_type": "code",
      "source": [
        "print('Manual Sentiment')\n",
        "Man_Senti.head()"
      ],
      "execution_count": 103,
      "outputs": [
        {
          "output_type": "stream",
          "text": [
            "Manual Sentiment\n"
          ],
          "name": "stdout"
        },
        {
          "output_type": "execute_result",
          "data": {
            "text/html": [
              "<div>\n",
              "<style scoped>\n",
              "    .dataframe tbody tr th:only-of-type {\n",
              "        vertical-align: middle;\n",
              "    }\n",
              "\n",
              "    .dataframe tbody tr th {\n",
              "        vertical-align: top;\n",
              "    }\n",
              "\n",
              "    .dataframe thead th {\n",
              "        text-align: right;\n",
              "    }\n",
              "</style>\n",
              "<table border=\"1\" class=\"dataframe\">\n",
              "  <thead>\n",
              "    <tr style=\"text-align: right;\">\n",
              "      <th></th>\n",
              "      <th>Text_ID</th>\n",
              "      <th>Company</th>\n",
              "      <th>Text</th>\n",
              "      <th>Sentiment</th>\n",
              "    </tr>\n",
              "  </thead>\n",
              "  <tbody>\n",
              "    <tr>\n",
              "      <th>0</th>\n",
              "      <td>1</td>\n",
              "      <td>Amazon</td>\n",
              "      <td>Amazon.com, Inc. (NASDAQ:AMZN) Q3 2018 Earning...</td>\n",
              "      <td>Neutral</td>\n",
              "    </tr>\n",
              "    <tr>\n",
              "      <th>1</th>\n",
              "      <td>2</td>\n",
              "      <td>Amazon</td>\n",
              "      <td>Good day, everyone, and welcome to the Amazon....</td>\n",
              "      <td>Neutral</td>\n",
              "    </tr>\n",
              "    <tr>\n",
              "      <th>2</th>\n",
              "      <td>3</td>\n",
              "      <td>Amazon</td>\n",
              "      <td>For opening remarks, I will be turning the cal...</td>\n",
              "      <td>Neutral</td>\n",
              "    </tr>\n",
              "    <tr>\n",
              "      <th>3</th>\n",
              "      <td>4</td>\n",
              "      <td>Amazon</td>\n",
              "      <td>Hello, and welcome to our Q3 2018 financial re...</td>\n",
              "      <td>Neutral</td>\n",
              "    </tr>\n",
              "    <tr>\n",
              "      <th>4</th>\n",
              "      <td>5</td>\n",
              "      <td>Amazon</td>\n",
              "      <td>Our comments and responses to your questions r...</td>\n",
              "      <td>Neutral</td>\n",
              "    </tr>\n",
              "  </tbody>\n",
              "</table>\n",
              "</div>"
            ],
            "text/plain": [
              "   Text_ID Company                                               Text  \\\n",
              "0        1  Amazon  Amazon.com, Inc. (NASDAQ:AMZN) Q3 2018 Earning...   \n",
              "1        2  Amazon  Good day, everyone, and welcome to the Amazon....   \n",
              "2        3  Amazon  For opening remarks, I will be turning the cal...   \n",
              "3        4  Amazon  Hello, and welcome to our Q3 2018 financial re...   \n",
              "4        5  Amazon  Our comments and responses to your questions r...   \n",
              "\n",
              "  Sentiment  \n",
              "0   Neutral  \n",
              "1   Neutral  \n",
              "2   Neutral  \n",
              "3   Neutral  \n",
              "4   Neutral  "
            ]
          },
          "metadata": {
            "tags": []
          },
          "execution_count": 103
        }
      ]
    },
    {
      "metadata": {
        "id": "lOQmTCw2Nvp8",
        "colab_type": "code",
        "colab": {
          "base_uri": "https://localhost:8080/",
          "height": 216
        },
        "outputId": "2d369094-3427-4f65-ca77-a3c30842b049"
      },
      "cell_type": "code",
      "source": [
        "print('AWS Result Set')\n",
        "result_aws.head()   "
      ],
      "execution_count": 104,
      "outputs": [
        {
          "output_type": "stream",
          "text": [
            "AWS Result Set\n"
          ],
          "name": "stdout"
        },
        {
          "output_type": "execute_result",
          "data": {
            "text/html": [
              "<div>\n",
              "<style scoped>\n",
              "    .dataframe tbody tr th:only-of-type {\n",
              "        vertical-align: middle;\n",
              "    }\n",
              "\n",
              "    .dataframe tbody tr th {\n",
              "        vertical-align: top;\n",
              "    }\n",
              "\n",
              "    .dataframe thead th {\n",
              "        text-align: right;\n",
              "    }\n",
              "</style>\n",
              "<table border=\"1\" class=\"dataframe\">\n",
              "  <thead>\n",
              "    <tr style=\"text-align: right;\">\n",
              "      <th></th>\n",
              "      <th>Text_ID</th>\n",
              "      <th>API</th>\n",
              "      <th>Overall</th>\n",
              "      <th>Negative</th>\n",
              "      <th>Neutral</th>\n",
              "      <th>Positive</th>\n",
              "    </tr>\n",
              "  </thead>\n",
              "  <tbody>\n",
              "    <tr>\n",
              "      <th>0</th>\n",
              "      <td>1</td>\n",
              "      <td>AWS</td>\n",
              "      <td>Neutral</td>\n",
              "      <td>0.000141</td>\n",
              "      <td>0.998418</td>\n",
              "      <td>0.001304</td>\n",
              "    </tr>\n",
              "    <tr>\n",
              "      <th>1</th>\n",
              "      <td>2</td>\n",
              "      <td>AWS</td>\n",
              "      <td>Positive</td>\n",
              "      <td>0.003760</td>\n",
              "      <td>0.487941</td>\n",
              "      <td>0.495716</td>\n",
              "    </tr>\n",
              "    <tr>\n",
              "      <th>2</th>\n",
              "      <td>3</td>\n",
              "      <td>AWS</td>\n",
              "      <td>Neutral</td>\n",
              "      <td>0.007338</td>\n",
              "      <td>0.976732</td>\n",
              "      <td>0.012431</td>\n",
              "    </tr>\n",
              "    <tr>\n",
              "      <th>3</th>\n",
              "      <td>4</td>\n",
              "      <td>AWS</td>\n",
              "      <td>Neutral</td>\n",
              "      <td>0.000654</td>\n",
              "      <td>0.686703</td>\n",
              "      <td>0.305323</td>\n",
              "    </tr>\n",
              "    <tr>\n",
              "      <th>4</th>\n",
              "      <td>5</td>\n",
              "      <td>AWS</td>\n",
              "      <td>Neutral</td>\n",
              "      <td>0.002042</td>\n",
              "      <td>0.996204</td>\n",
              "      <td>0.001183</td>\n",
              "    </tr>\n",
              "  </tbody>\n",
              "</table>\n",
              "</div>"
            ],
            "text/plain": [
              "   Text_ID  API   Overall  Negative   Neutral  Positive\n",
              "0        1  AWS   Neutral  0.000141  0.998418  0.001304\n",
              "1        2  AWS  Positive  0.003760  0.487941  0.495716\n",
              "2        3  AWS   Neutral  0.007338  0.976732  0.012431\n",
              "3        4  AWS   Neutral  0.000654  0.686703  0.305323\n",
              "4        5  AWS   Neutral  0.002042  0.996204  0.001183"
            ]
          },
          "metadata": {
            "tags": []
          },
          "execution_count": 104
        }
      ]
    },
    {
      "metadata": {
        "id": "hiSru-sKNxpb",
        "colab_type": "code",
        "colab": {
          "base_uri": "https://localhost:8080/",
          "height": 216
        },
        "outputId": "b9d59ab6-2e1a-467a-e89d-f212c3921e74"
      },
      "cell_type": "code",
      "source": [
        "print('Microsoft Azure Result Set')\n",
        "result_azure.head()"
      ],
      "execution_count": 105,
      "outputs": [
        {
          "output_type": "stream",
          "text": [
            "Microsoft Azure Result Set\n"
          ],
          "name": "stdout"
        },
        {
          "output_type": "execute_result",
          "data": {
            "text/html": [
              "<div>\n",
              "<style scoped>\n",
              "    .dataframe tbody tr th:only-of-type {\n",
              "        vertical-align: middle;\n",
              "    }\n",
              "\n",
              "    .dataframe tbody tr th {\n",
              "        vertical-align: top;\n",
              "    }\n",
              "\n",
              "    .dataframe thead th {\n",
              "        text-align: right;\n",
              "    }\n",
              "</style>\n",
              "<table border=\"1\" class=\"dataframe\">\n",
              "  <thead>\n",
              "    <tr style=\"text-align: right;\">\n",
              "      <th></th>\n",
              "      <th>Text_ID</th>\n",
              "      <th>API</th>\n",
              "      <th>Overall_Score</th>\n",
              "      <th>Sentiment_Azure</th>\n",
              "    </tr>\n",
              "  </thead>\n",
              "  <tbody>\n",
              "    <tr>\n",
              "      <th>0</th>\n",
              "      <td>1</td>\n",
              "      <td>Azure</td>\n",
              "      <td>0.500000</td>\n",
              "      <td>Neutral</td>\n",
              "    </tr>\n",
              "    <tr>\n",
              "      <th>1</th>\n",
              "      <td>2</td>\n",
              "      <td>Azure</td>\n",
              "      <td>0.891742</td>\n",
              "      <td>Positive</td>\n",
              "    </tr>\n",
              "    <tr>\n",
              "      <th>2</th>\n",
              "      <td>3</td>\n",
              "      <td>Azure</td>\n",
              "      <td>0.500000</td>\n",
              "      <td>Neutral</td>\n",
              "    </tr>\n",
              "    <tr>\n",
              "      <th>3</th>\n",
              "      <td>4</td>\n",
              "      <td>Azure</td>\n",
              "      <td>0.500000</td>\n",
              "      <td>Neutral</td>\n",
              "    </tr>\n",
              "    <tr>\n",
              "      <th>4</th>\n",
              "      <td>5</td>\n",
              "      <td>Azure</td>\n",
              "      <td>0.500000</td>\n",
              "      <td>Neutral</td>\n",
              "    </tr>\n",
              "  </tbody>\n",
              "</table>\n",
              "</div>"
            ],
            "text/plain": [
              "  Text_ID    API  Overall_Score Sentiment_Azure\n",
              "0       1  Azure       0.500000         Neutral\n",
              "1       2  Azure       0.891742        Positive\n",
              "2       3  Azure       0.500000         Neutral\n",
              "3       4  Azure       0.500000         Neutral\n",
              "4       5  Azure       0.500000         Neutral"
            ]
          },
          "metadata": {
            "tags": []
          },
          "execution_count": 105
        }
      ]
    },
    {
      "metadata": {
        "id": "qm59enQgNzca",
        "colab_type": "code",
        "colab": {
          "base_uri": "https://localhost:8080/",
          "height": 216
        },
        "outputId": "9b8cbab7-31f5-4dfa-a020-2a644d0850c2"
      },
      "cell_type": "code",
      "source": [
        "    \n",
        "print('IBM Result Set')\n",
        "result_ibm.head()"
      ],
      "execution_count": 106,
      "outputs": [
        {
          "output_type": "stream",
          "text": [
            "IBM Result Set\n"
          ],
          "name": "stdout"
        },
        {
          "output_type": "execute_result",
          "data": {
            "text/html": [
              "<div>\n",
              "<style scoped>\n",
              "    .dataframe tbody tr th:only-of-type {\n",
              "        vertical-align: middle;\n",
              "    }\n",
              "\n",
              "    .dataframe tbody tr th {\n",
              "        vertical-align: top;\n",
              "    }\n",
              "\n",
              "    .dataframe thead th {\n",
              "        text-align: right;\n",
              "    }\n",
              "</style>\n",
              "<table border=\"1\" class=\"dataframe\">\n",
              "  <thead>\n",
              "    <tr style=\"text-align: right;\">\n",
              "      <th></th>\n",
              "      <th>Text_ID</th>\n",
              "      <th>API</th>\n",
              "      <th>Overall</th>\n",
              "      <th>Score</th>\n",
              "    </tr>\n",
              "  </thead>\n",
              "  <tbody>\n",
              "    <tr>\n",
              "      <th>0</th>\n",
              "      <td>1</td>\n",
              "      <td>IBM</td>\n",
              "      <td>Neutral</td>\n",
              "      <td>0.000000</td>\n",
              "    </tr>\n",
              "    <tr>\n",
              "      <th>1</th>\n",
              "      <td>2</td>\n",
              "      <td>IBM</td>\n",
              "      <td>Positive</td>\n",
              "      <td>0.750129</td>\n",
              "    </tr>\n",
              "    <tr>\n",
              "      <th>2</th>\n",
              "      <td>3</td>\n",
              "      <td>IBM</td>\n",
              "      <td>Positive</td>\n",
              "      <td>0.476440</td>\n",
              "    </tr>\n",
              "    <tr>\n",
              "      <th>3</th>\n",
              "      <td>4</td>\n",
              "      <td>IBM</td>\n",
              "      <td>Positive</td>\n",
              "      <td>0.678515</td>\n",
              "    </tr>\n",
              "    <tr>\n",
              "      <th>4</th>\n",
              "      <td>5</td>\n",
              "      <td>IBM</td>\n",
              "      <td>Positive</td>\n",
              "      <td>0.437226</td>\n",
              "    </tr>\n",
              "  </tbody>\n",
              "</table>\n",
              "</div>"
            ],
            "text/plain": [
              "   Text_ID  API   Overall     Score\n",
              "0        1  IBM   Neutral  0.000000\n",
              "1        2  IBM  Positive  0.750129\n",
              "2        3  IBM  Positive  0.476440\n",
              "3        4  IBM  Positive  0.678515\n",
              "4        5  IBM  Positive  0.437226"
            ]
          },
          "metadata": {
            "tags": []
          },
          "execution_count": 106
        }
      ]
    },
    {
      "metadata": {
        "id": "6TFht4E4N1Tc",
        "colab_type": "code",
        "colab": {
          "base_uri": "https://localhost:8080/",
          "height": 216
        },
        "outputId": "bfed1414-9b2c-4092-8d2f-820281265b30"
      },
      "cell_type": "code",
      "source": [
        "print('Google Result Set')\n",
        "result_gcp.head()"
      ],
      "execution_count": 107,
      "outputs": [
        {
          "output_type": "stream",
          "text": [
            "Google Result Set\n"
          ],
          "name": "stdout"
        },
        {
          "output_type": "execute_result",
          "data": {
            "text/html": [
              "<div>\n",
              "<style scoped>\n",
              "    .dataframe tbody tr th:only-of-type {\n",
              "        vertical-align: middle;\n",
              "    }\n",
              "\n",
              "    .dataframe tbody tr th {\n",
              "        vertical-align: top;\n",
              "    }\n",
              "\n",
              "    .dataframe thead th {\n",
              "        text-align: right;\n",
              "    }\n",
              "</style>\n",
              "<table border=\"1\" class=\"dataframe\">\n",
              "  <thead>\n",
              "    <tr style=\"text-align: right;\">\n",
              "      <th></th>\n",
              "      <th>Text_ID</th>\n",
              "      <th>API</th>\n",
              "      <th>Magnitude</th>\n",
              "      <th>Score</th>\n",
              "      <th>Sentiment_Google</th>\n",
              "    </tr>\n",
              "  </thead>\n",
              "  <tbody>\n",
              "    <tr>\n",
              "      <th>0</th>\n",
              "      <td>1</td>\n",
              "      <td>GCP</td>\n",
              "      <td>0.0</td>\n",
              "      <td>0.0</td>\n",
              "      <td>Neutral</td>\n",
              "    </tr>\n",
              "    <tr>\n",
              "      <th>1</th>\n",
              "      <td>2</td>\n",
              "      <td>GCP</td>\n",
              "      <td>0.9</td>\n",
              "      <td>0.1</td>\n",
              "      <td>Neutral</td>\n",
              "    </tr>\n",
              "    <tr>\n",
              "      <th>2</th>\n",
              "      <td>3</td>\n",
              "      <td>GCP</td>\n",
              "      <td>0.0</td>\n",
              "      <td>0.0</td>\n",
              "      <td>Neutral</td>\n",
              "    </tr>\n",
              "    <tr>\n",
              "      <th>3</th>\n",
              "      <td>4</td>\n",
              "      <td>GCP</td>\n",
              "      <td>1.2</td>\n",
              "      <td>0.3</td>\n",
              "      <td>Positive</td>\n",
              "    </tr>\n",
              "    <tr>\n",
              "      <th>4</th>\n",
              "      <td>5</td>\n",
              "      <td>GCP</td>\n",
              "      <td>0.2</td>\n",
              "      <td>0.0</td>\n",
              "      <td>Neutral</td>\n",
              "    </tr>\n",
              "  </tbody>\n",
              "</table>\n",
              "</div>"
            ],
            "text/plain": [
              "   Text_ID  API  Magnitude  Score Sentiment_Google\n",
              "0        1  GCP        0.0    0.0          Neutral\n",
              "1        2  GCP        0.9    0.1          Neutral\n",
              "2        3  GCP        0.0    0.0          Neutral\n",
              "3        4  GCP        1.2    0.3         Positive\n",
              "4        5  GCP        0.2    0.0          Neutral"
            ]
          },
          "metadata": {
            "tags": []
          },
          "execution_count": 107
        }
      ]
    },
    {
      "metadata": {
        "id": "2baK_CiTN2wW",
        "colab_type": "code",
        "colab": {
          "base_uri": "https://localhost:8080/",
          "height": 216
        },
        "outputId": "337e0558-0ddf-49f6-81e8-021d1f497ef1"
      },
      "cell_type": "code",
      "source": [
        "print('Vader Result Set')\n",
        "result_vader.head()"
      ],
      "execution_count": 108,
      "outputs": [
        {
          "output_type": "stream",
          "text": [
            "Vader Result Set\n"
          ],
          "name": "stdout"
        },
        {
          "output_type": "execute_result",
          "data": {
            "text/html": [
              "<div>\n",
              "<style scoped>\n",
              "    .dataframe tbody tr th:only-of-type {\n",
              "        vertical-align: middle;\n",
              "    }\n",
              "\n",
              "    .dataframe tbody tr th {\n",
              "        vertical-align: top;\n",
              "    }\n",
              "\n",
              "    .dataframe thead th {\n",
              "        text-align: right;\n",
              "    }\n",
              "</style>\n",
              "<table border=\"1\" class=\"dataframe\">\n",
              "  <thead>\n",
              "    <tr style=\"text-align: right;\">\n",
              "      <th></th>\n",
              "      <th>Text_ID</th>\n",
              "      <th>API</th>\n",
              "      <th>Overall_Score</th>\n",
              "      <th>Negative_Score</th>\n",
              "      <th>Neutral_Score</th>\n",
              "      <th>Positive_Score</th>\n",
              "      <th>Sentiment_Vader</th>\n",
              "    </tr>\n",
              "  </thead>\n",
              "  <tbody>\n",
              "    <tr>\n",
              "      <th>0</th>\n",
              "      <td>1</td>\n",
              "      <td>Vader</td>\n",
              "      <td>0.0000</td>\n",
              "      <td>0.0</td>\n",
              "      <td>1.000</td>\n",
              "      <td>0.000</td>\n",
              "      <td>Neutral</td>\n",
              "    </tr>\n",
              "    <tr>\n",
              "      <th>1</th>\n",
              "      <td>2</td>\n",
              "      <td>Vader</td>\n",
              "      <td>0.7096</td>\n",
              "      <td>0.0</td>\n",
              "      <td>0.848</td>\n",
              "      <td>0.152</td>\n",
              "      <td>Positive</td>\n",
              "    </tr>\n",
              "    <tr>\n",
              "      <th>2</th>\n",
              "      <td>3</td>\n",
              "      <td>Vader</td>\n",
              "      <td>0.3182</td>\n",
              "      <td>0.0</td>\n",
              "      <td>0.892</td>\n",
              "      <td>0.108</td>\n",
              "      <td>Neutral</td>\n",
              "    </tr>\n",
              "    <tr>\n",
              "      <th>3</th>\n",
              "      <td>4</td>\n",
              "      <td>Vader</td>\n",
              "      <td>0.8658</td>\n",
              "      <td>0.0</td>\n",
              "      <td>0.872</td>\n",
              "      <td>0.128</td>\n",
              "      <td>Positive</td>\n",
              "    </tr>\n",
              "    <tr>\n",
              "      <th>4</th>\n",
              "      <td>5</td>\n",
              "      <td>Vader</td>\n",
              "      <td>0.0000</td>\n",
              "      <td>0.0</td>\n",
              "      <td>1.000</td>\n",
              "      <td>0.000</td>\n",
              "      <td>Neutral</td>\n",
              "    </tr>\n",
              "  </tbody>\n",
              "</table>\n",
              "</div>"
            ],
            "text/plain": [
              "   Text_ID    API  Overall_Score  Negative_Score  Neutral_Score  \\\n",
              "0        1  Vader         0.0000             0.0          1.000   \n",
              "1        2  Vader         0.7096             0.0          0.848   \n",
              "2        3  Vader         0.3182             0.0          0.892   \n",
              "3        4  Vader         0.8658             0.0          0.872   \n",
              "4        5  Vader         0.0000             0.0          1.000   \n",
              "\n",
              "   Positive_Score Sentiment_Vader  \n",
              "0           0.000         Neutral  \n",
              "1           0.152        Positive  \n",
              "2           0.108         Neutral  \n",
              "3           0.128        Positive  \n",
              "4           0.000         Neutral  "
            ]
          },
          "metadata": {
            "tags": []
          },
          "execution_count": 108
        }
      ]
    },
    {
      "metadata": {
        "id": "gEnDuzeyNFWj",
        "colab_type": "code",
        "colab": {
          "base_uri": "https://localhost:8080/",
          "height": 198
        },
        "outputId": "b3e1d709-1416-468a-a554-f9e80961c777"
      },
      "cell_type": "code",
      "source": [
        "result_all = pd.DataFrame()\n",
        "result_all['Manual'] = Man_Senti['Sentiment']\n",
        "result_all['AWS'] = result_aws['Overall']\n",
        "result_all['AZURE'] = result_azure['Sentiment_Azure']\n",
        "result_all['IBM'] = result_ibm['Overall']\n",
        "result_all['GOOGLE'] = result_gcp['Sentiment_Google']\n",
        "result_all['VADER'] = result_vader['Sentiment_Vader']\n",
        "result_all.head()"
      ],
      "execution_count": 113,
      "outputs": [
        {
          "output_type": "execute_result",
          "data": {
            "text/html": [
              "<div>\n",
              "<style scoped>\n",
              "    .dataframe tbody tr th:only-of-type {\n",
              "        vertical-align: middle;\n",
              "    }\n",
              "\n",
              "    .dataframe tbody tr th {\n",
              "        vertical-align: top;\n",
              "    }\n",
              "\n",
              "    .dataframe thead th {\n",
              "        text-align: right;\n",
              "    }\n",
              "</style>\n",
              "<table border=\"1\" class=\"dataframe\">\n",
              "  <thead>\n",
              "    <tr style=\"text-align: right;\">\n",
              "      <th></th>\n",
              "      <th>Manual</th>\n",
              "      <th>AWS</th>\n",
              "      <th>AZURE</th>\n",
              "      <th>IBM</th>\n",
              "      <th>GOOGLE</th>\n",
              "      <th>VADER</th>\n",
              "    </tr>\n",
              "  </thead>\n",
              "  <tbody>\n",
              "    <tr>\n",
              "      <th>0</th>\n",
              "      <td>Neutral</td>\n",
              "      <td>Neutral</td>\n",
              "      <td>Neutral</td>\n",
              "      <td>Neutral</td>\n",
              "      <td>Neutral</td>\n",
              "      <td>Neutral</td>\n",
              "    </tr>\n",
              "    <tr>\n",
              "      <th>1</th>\n",
              "      <td>Neutral</td>\n",
              "      <td>Positive</td>\n",
              "      <td>Positive</td>\n",
              "      <td>Positive</td>\n",
              "      <td>Neutral</td>\n",
              "      <td>Positive</td>\n",
              "    </tr>\n",
              "    <tr>\n",
              "      <th>2</th>\n",
              "      <td>Neutral</td>\n",
              "      <td>Neutral</td>\n",
              "      <td>Neutral</td>\n",
              "      <td>Positive</td>\n",
              "      <td>Neutral</td>\n",
              "      <td>Neutral</td>\n",
              "    </tr>\n",
              "    <tr>\n",
              "      <th>3</th>\n",
              "      <td>Neutral</td>\n",
              "      <td>Neutral</td>\n",
              "      <td>Neutral</td>\n",
              "      <td>Positive</td>\n",
              "      <td>Positive</td>\n",
              "      <td>Positive</td>\n",
              "    </tr>\n",
              "    <tr>\n",
              "      <th>4</th>\n",
              "      <td>Neutral</td>\n",
              "      <td>Neutral</td>\n",
              "      <td>Neutral</td>\n",
              "      <td>Positive</td>\n",
              "      <td>Neutral</td>\n",
              "      <td>Neutral</td>\n",
              "    </tr>\n",
              "  </tbody>\n",
              "</table>\n",
              "</div>"
            ],
            "text/plain": [
              "    Manual       AWS     AZURE       IBM    GOOGLE     VADER\n",
              "0  Neutral   Neutral   Neutral   Neutral   Neutral   Neutral\n",
              "1  Neutral  Positive  Positive  Positive   Neutral  Positive\n",
              "2  Neutral   Neutral   Neutral  Positive   Neutral   Neutral\n",
              "3  Neutral   Neutral   Neutral  Positive  Positive  Positive\n",
              "4  Neutral   Neutral   Neutral  Positive   Neutral   Neutral"
            ]
          },
          "metadata": {
            "tags": []
          },
          "execution_count": 113
        }
      ]
    },
    {
      "metadata": {
        "id": "a2XSlsz8PND3",
        "colab_type": "code",
        "colab": {
          "base_uri": "https://localhost:8080/",
          "height": 35
        },
        "outputId": "66226907-adb7-4b2f-dda2-de222c29df2c"
      },
      "cell_type": "code",
      "source": [
        "result_all.shape"
      ],
      "execution_count": 116,
      "outputs": [
        {
          "output_type": "execute_result",
          "data": {
            "text/plain": [
              "(622, 6)"
            ]
          },
          "metadata": {
            "tags": []
          },
          "execution_count": 116
        }
      ]
    },
    {
      "metadata": {
        "id": "nXkHzukhfRva",
        "colab_type": "text"
      },
      "cell_type": "markdown",
      "source": [
        "#Analysis of Average Sentiment from APIs"
      ]
    },
    {
      "metadata": {
        "id": "anOmRh0NPZ_R",
        "colab_type": "code",
        "colab": {}
      },
      "cell_type": "code",
      "source": [
        "result_all_new = result_all.copy()"
      ],
      "execution_count": 0,
      "outputs": []
    },
    {
      "metadata": {
        "id": "g_gCf-YXTUI4",
        "colab_type": "code",
        "colab": {
          "base_uri": "https://localhost:8080/",
          "height": 198
        },
        "outputId": "2c0ed623-914a-4890-d53b-daf8b8dd42a0"
      },
      "cell_type": "code",
      "source": [
        "result_all_new['AWS'] = result_all_new['AWS'].apply({'Neutral': 0, 'Positive':1, 'Negative':-1}.get)\n",
        "result_all_new['AZURE'] = result_all_new['AZURE'].apply({'Neutral': 0, 'Positive':1, 'Negative':-1}.get)\n",
        "result_all_new['IBM'] = result_all_new['IBM'].apply({'Neutral': 0, 'Positive':1, 'Negative':-1}.get)\n",
        "result_all_new['GOOGLE'] = result_all_new['GOOGLE'].apply({'Neutral': 0, 'Positive':1, 'Negative':-1}.get)\n",
        "result_all_new['VADER'] = result_all_new['VADER'].apply({'Neutral': 0, 'Positive':1, 'Negative':-1}.get)\n",
        "result_all_new.head()"
      ],
      "execution_count": 118,
      "outputs": [
        {
          "output_type": "execute_result",
          "data": {
            "text/html": [
              "<div>\n",
              "<style scoped>\n",
              "    .dataframe tbody tr th:only-of-type {\n",
              "        vertical-align: middle;\n",
              "    }\n",
              "\n",
              "    .dataframe tbody tr th {\n",
              "        vertical-align: top;\n",
              "    }\n",
              "\n",
              "    .dataframe thead th {\n",
              "        text-align: right;\n",
              "    }\n",
              "</style>\n",
              "<table border=\"1\" class=\"dataframe\">\n",
              "  <thead>\n",
              "    <tr style=\"text-align: right;\">\n",
              "      <th></th>\n",
              "      <th>Manual</th>\n",
              "      <th>AWS</th>\n",
              "      <th>AZURE</th>\n",
              "      <th>IBM</th>\n",
              "      <th>GOOGLE</th>\n",
              "      <th>VADER</th>\n",
              "    </tr>\n",
              "  </thead>\n",
              "  <tbody>\n",
              "    <tr>\n",
              "      <th>0</th>\n",
              "      <td>Neutral</td>\n",
              "      <td>0</td>\n",
              "      <td>0</td>\n",
              "      <td>0</td>\n",
              "      <td>0</td>\n",
              "      <td>0</td>\n",
              "    </tr>\n",
              "    <tr>\n",
              "      <th>1</th>\n",
              "      <td>Neutral</td>\n",
              "      <td>1</td>\n",
              "      <td>1</td>\n",
              "      <td>1</td>\n",
              "      <td>0</td>\n",
              "      <td>1</td>\n",
              "    </tr>\n",
              "    <tr>\n",
              "      <th>2</th>\n",
              "      <td>Neutral</td>\n",
              "      <td>0</td>\n",
              "      <td>0</td>\n",
              "      <td>1</td>\n",
              "      <td>0</td>\n",
              "      <td>0</td>\n",
              "    </tr>\n",
              "    <tr>\n",
              "      <th>3</th>\n",
              "      <td>Neutral</td>\n",
              "      <td>0</td>\n",
              "      <td>0</td>\n",
              "      <td>1</td>\n",
              "      <td>1</td>\n",
              "      <td>1</td>\n",
              "    </tr>\n",
              "    <tr>\n",
              "      <th>4</th>\n",
              "      <td>Neutral</td>\n",
              "      <td>0</td>\n",
              "      <td>0</td>\n",
              "      <td>1</td>\n",
              "      <td>0</td>\n",
              "      <td>0</td>\n",
              "    </tr>\n",
              "  </tbody>\n",
              "</table>\n",
              "</div>"
            ],
            "text/plain": [
              "    Manual  AWS  AZURE  IBM  GOOGLE  VADER\n",
              "0  Neutral    0      0    0       0      0\n",
              "1  Neutral    1      1    1       0      1\n",
              "2  Neutral    0      0    1       0      0\n",
              "3  Neutral    0      0    1       1      1\n",
              "4  Neutral    0      0    1       0      0"
            ]
          },
          "metadata": {
            "tags": []
          },
          "execution_count": 118
        }
      ]
    },
    {
      "metadata": {
        "id": "Y2N3-hvyYQbH",
        "colab_type": "code",
        "colab": {
          "base_uri": "https://localhost:8080/",
          "height": 198
        },
        "outputId": "f89be4f0-8ff6-4388-a78a-f2fcabc9eb7b"
      },
      "cell_type": "code",
      "source": [
        "Senti_Freq = result_all_new.apply(lambda x : x.value_counts() , axis = 1)[[1 , 0, -1]]\n",
        "Senti_Freq = Senti_Freq.fillna(0)\n",
        "Senti_Freq.head()"
      ],
      "execution_count": 137,
      "outputs": [
        {
          "output_type": "execute_result",
          "data": {
            "text/html": [
              "<div>\n",
              "<style scoped>\n",
              "    .dataframe tbody tr th:only-of-type {\n",
              "        vertical-align: middle;\n",
              "    }\n",
              "\n",
              "    .dataframe tbody tr th {\n",
              "        vertical-align: top;\n",
              "    }\n",
              "\n",
              "    .dataframe thead th {\n",
              "        text-align: right;\n",
              "    }\n",
              "</style>\n",
              "<table border=\"1\" class=\"dataframe\">\n",
              "  <thead>\n",
              "    <tr style=\"text-align: right;\">\n",
              "      <th></th>\n",
              "      <th>1</th>\n",
              "      <th>0</th>\n",
              "      <th>-1</th>\n",
              "    </tr>\n",
              "  </thead>\n",
              "  <tbody>\n",
              "    <tr>\n",
              "      <th>0</th>\n",
              "      <td>0.0</td>\n",
              "      <td>5.0</td>\n",
              "      <td>0.0</td>\n",
              "    </tr>\n",
              "    <tr>\n",
              "      <th>1</th>\n",
              "      <td>4.0</td>\n",
              "      <td>1.0</td>\n",
              "      <td>0.0</td>\n",
              "    </tr>\n",
              "    <tr>\n",
              "      <th>2</th>\n",
              "      <td>1.0</td>\n",
              "      <td>4.0</td>\n",
              "      <td>0.0</td>\n",
              "    </tr>\n",
              "    <tr>\n",
              "      <th>3</th>\n",
              "      <td>3.0</td>\n",
              "      <td>2.0</td>\n",
              "      <td>0.0</td>\n",
              "    </tr>\n",
              "    <tr>\n",
              "      <th>4</th>\n",
              "      <td>1.0</td>\n",
              "      <td>4.0</td>\n",
              "      <td>0.0</td>\n",
              "    </tr>\n",
              "  </tbody>\n",
              "</table>\n",
              "</div>"
            ],
            "text/plain": [
              "     1    0   -1\n",
              "0  0.0  5.0  0.0\n",
              "1  4.0  1.0  0.0\n",
              "2  1.0  4.0  0.0\n",
              "3  3.0  2.0  0.0\n",
              "4  1.0  4.0  0.0"
            ]
          },
          "metadata": {
            "tags": []
          },
          "execution_count": 137
        }
      ]
    },
    {
      "metadata": {
        "id": "SC4pBGozbs8y",
        "colab_type": "code",
        "colab": {
          "base_uri": "https://localhost:8080/",
          "height": 198
        },
        "outputId": "69915ca1-d39b-476a-bdc8-b3fb2f085ff8"
      },
      "cell_type": "code",
      "source": [
        "Senti_Freq['Max'] = Senti_Freq.idxmax(axis=1)\n",
        "Senti_Freq['Max'] = Senti_Freq['Max'].apply({0: 'Neutral',1:'Positive', -1:'Negative'}.get)\n",
        "result_all_new['Max'] = Senti_Freq['Max']\n",
        "result_all_new.head()"
      ],
      "execution_count": 138,
      "outputs": [
        {
          "output_type": "execute_result",
          "data": {
            "text/html": [
              "<div>\n",
              "<style scoped>\n",
              "    .dataframe tbody tr th:only-of-type {\n",
              "        vertical-align: middle;\n",
              "    }\n",
              "\n",
              "    .dataframe tbody tr th {\n",
              "        vertical-align: top;\n",
              "    }\n",
              "\n",
              "    .dataframe thead th {\n",
              "        text-align: right;\n",
              "    }\n",
              "</style>\n",
              "<table border=\"1\" class=\"dataframe\">\n",
              "  <thead>\n",
              "    <tr style=\"text-align: right;\">\n",
              "      <th></th>\n",
              "      <th>Manual</th>\n",
              "      <th>AWS</th>\n",
              "      <th>AZURE</th>\n",
              "      <th>IBM</th>\n",
              "      <th>GOOGLE</th>\n",
              "      <th>VADER</th>\n",
              "      <th>Max</th>\n",
              "    </tr>\n",
              "  </thead>\n",
              "  <tbody>\n",
              "    <tr>\n",
              "      <th>0</th>\n",
              "      <td>Neutral</td>\n",
              "      <td>0</td>\n",
              "      <td>0</td>\n",
              "      <td>0</td>\n",
              "      <td>0</td>\n",
              "      <td>0</td>\n",
              "      <td>Neutral</td>\n",
              "    </tr>\n",
              "    <tr>\n",
              "      <th>1</th>\n",
              "      <td>Neutral</td>\n",
              "      <td>1</td>\n",
              "      <td>1</td>\n",
              "      <td>1</td>\n",
              "      <td>0</td>\n",
              "      <td>1</td>\n",
              "      <td>Positive</td>\n",
              "    </tr>\n",
              "    <tr>\n",
              "      <th>2</th>\n",
              "      <td>Neutral</td>\n",
              "      <td>0</td>\n",
              "      <td>0</td>\n",
              "      <td>1</td>\n",
              "      <td>0</td>\n",
              "      <td>0</td>\n",
              "      <td>Neutral</td>\n",
              "    </tr>\n",
              "    <tr>\n",
              "      <th>3</th>\n",
              "      <td>Neutral</td>\n",
              "      <td>0</td>\n",
              "      <td>0</td>\n",
              "      <td>1</td>\n",
              "      <td>1</td>\n",
              "      <td>1</td>\n",
              "      <td>Positive</td>\n",
              "    </tr>\n",
              "    <tr>\n",
              "      <th>4</th>\n",
              "      <td>Neutral</td>\n",
              "      <td>0</td>\n",
              "      <td>0</td>\n",
              "      <td>1</td>\n",
              "      <td>0</td>\n",
              "      <td>0</td>\n",
              "      <td>Neutral</td>\n",
              "    </tr>\n",
              "  </tbody>\n",
              "</table>\n",
              "</div>"
            ],
            "text/plain": [
              "    Manual  AWS  AZURE  IBM  GOOGLE  VADER       Max\n",
              "0  Neutral    0      0    0       0      0   Neutral\n",
              "1  Neutral    1      1    1       0      1  Positive\n",
              "2  Neutral    0      0    1       0      0   Neutral\n",
              "3  Neutral    0      0    1       1      1  Positive\n",
              "4  Neutral    0      0    1       0      0   Neutral"
            ]
          },
          "metadata": {
            "tags": []
          },
          "execution_count": 138
        }
      ]
    },
    {
      "metadata": {
        "id": "fcKJPANWdw0t",
        "colab_type": "code",
        "colab": {}
      },
      "cell_type": "code",
      "source": [
        "y_true = result_all_new['Manual']\n",
        "y_pred_average = result_all_new['Max']"
      ],
      "execution_count": 0,
      "outputs": []
    },
    {
      "metadata": {
        "id": "lz6x534ueiPg",
        "colab_type": "code",
        "colab": {
          "base_uri": "https://localhost:8080/",
          "height": 634
        },
        "outputId": "604996da-a885-44e7-e5b3-4d0af4be67ff"
      },
      "cell_type": "code",
      "source": [
        "cnf_matrix_average = ConfusionMatrix(y_true, y_pred_average)\n",
        "acc_score_average = accuracy_score(y_true, y_pred_average)\n",
        "\n",
        "\n",
        "print('Accuracy Score: ', acc_score_average)\n",
        "\n",
        "print(cnf_matrix_average)\n",
        "\n",
        "cnf_matrix_average.plot()\n",
        "plt.show()"
      ],
      "execution_count": 140,
      "outputs": [
        {
          "output_type": "stream",
          "text": [
            "Accuracy Score:  0.5289389067524116\n",
            "Predicted  Negative  Neutral  Positive  __all__\n",
            "Actual                                         \n",
            "Negative          5       26        31       62\n",
            "Neutral           4       72       167      243\n",
            "Positive          4       61       252      317\n",
            "__all__          13      159       450      622\n"
          ],
          "name": "stdout"
        },
        {
          "output_type": "display_data",
          "data": {
            "image/png": "[encoded data removed]",
            "text/plain": [
              "<matplotlib.figure.Figure at 0x7feb53aaabe0>"
            ]
          },
          "metadata": {
            "tags": []
          }
        }
      ]
    },
    {
      "metadata": {
        "id": "9rYnigTVgUiH",
        "colab_type": "text"
      },
      "cell_type": "markdown",
      "source": [
        "#Setting up the dataset for the AutoML approach"
      ]
    },
    {
      "metadata": {
        "id": "3JQQErTte10R",
        "colab_type": "code",
        "colab": {
          "base_uri": "https://localhost:8080/",
          "height": 218
        },
        "outputId": "a070eb4c-f1c9-44a8-dcaa-2fb1693f654a"
      },
      "cell_type": "code",
      "source": [
        "#Creating a dataframe which will have raw data from all the APIs to build a dataset for AutoML model\n",
        "\n",
        "data_automl = pd.DataFrame()\n",
        "data_automl['Text_ID'] = Man_Senti['Text_ID']\n",
        "data_automl['Sentiment'] = Man_Senti['Sentiment']\n",
        "data_automl['AWS_Negative_Score'] = result_aws['Negative']\n",
        "data_automl['AWS_Neutral_Score'] = result_aws['Neutral']\n",
        "data_automl['AWS_Positive_Score'] = result_aws['Positive']\n",
        "data_automl['AZURE_Overall_Score'] = result_azure['Overall_Score']\n",
        "data_automl['IBM_Overall_Score'] = result_ibm['Score']\n",
        "data_automl['GCP_Magnitude'] = result_gcp['Magnitude']\n",
        "data_automl['GCP_Score'] = result_gcp['Score']\n",
        "data_automl['VADER_Overall_Score'] = result_vader['Overall_Score']\n",
        "data_automl['VADER_Negative_Score'] = result_vader['Negative_Score']\n",
        "data_automl['VADER_Neutral_Score'] = result_vader['Neutral_Score']\n",
        "data_automl['VADER_Positive_Score'] = result_vader['Positive_Score']\n",
        "\n",
        "\n",
        "data_automl.head()"
      ],
      "execution_count": 141,
      "outputs": [
        {
          "output_type": "execute_result",
          "data": {
            "text/html": [
              "<div>\n",
              "<style scoped>\n",
              "    .dataframe tbody tr th:only-of-type {\n",
              "        vertical-align: middle;\n",
              "    }\n",
              "\n",
              "    .dataframe tbody tr th {\n",
              "        vertical-align: top;\n",
              "    }\n",
              "\n",
              "    .dataframe thead th {\n",
              "        text-align: right;\n",
              "    }\n",
              "</style>\n",
              "<table border=\"1\" class=\"dataframe\">\n",
              "  <thead>\n",
              "    <tr style=\"text-align: right;\">\n",
              "      <th></th>\n",
              "      <th>Text_ID</th>\n",
              "      <th>Sentiment</th>\n",
              "      <th>AWS_Negative_Score</th>\n",
              "      <th>AWS_Neutral_Score</th>\n",
              "      <th>AWS_Positive_Score</th>\n",
              "      <th>AZURE_Overall_Score</th>\n",
              "      <th>IBM_Overall_Score</th>\n",
              "      <th>GCP_Magnitude</th>\n",
              "      <th>GCP_Score</th>\n",
              "      <th>VADER_Overall_Score</th>\n",
              "      <th>VADER_Negative_Score</th>\n",
              "      <th>VADER_Neutral_Score</th>\n",
              "      <th>VADER_Positive_Score</th>\n",
              "    </tr>\n",
              "  </thead>\n",
              "  <tbody>\n",
              "    <tr>\n",
              "      <th>0</th>\n",
              "      <td>1</td>\n",
              "      <td>Neutral</td>\n",
              "      <td>0.000141</td>\n",
              "      <td>0.998418</td>\n",
              "      <td>0.001304</td>\n",
              "      <td>0.500000</td>\n",
              "      <td>0.000000</td>\n",
              "      <td>0.0</td>\n",
              "      <td>0.0</td>\n",
              "      <td>0.0000</td>\n",
              "      <td>0.0</td>\n",
              "      <td>1.000</td>\n",
              "      <td>0.000</td>\n",
              "    </tr>\n",
              "    <tr>\n",
              "      <th>1</th>\n",
              "      <td>2</td>\n",
              "      <td>Neutral</td>\n",
              "      <td>0.003760</td>\n",
              "      <td>0.487941</td>\n",
              "      <td>0.495716</td>\n",
              "      <td>0.891742</td>\n",
              "      <td>0.750129</td>\n",
              "      <td>0.9</td>\n",
              "      <td>0.1</td>\n",
              "      <td>0.7096</td>\n",
              "      <td>0.0</td>\n",
              "      <td>0.848</td>\n",
              "      <td>0.152</td>\n",
              "    </tr>\n",
              "    <tr>\n",
              "      <th>2</th>\n",
              "      <td>3</td>\n",
              "      <td>Neutral</td>\n",
              "      <td>0.007338</td>\n",
              "      <td>0.976732</td>\n",
              "      <td>0.012431</td>\n",
              "      <td>0.500000</td>\n",
              "      <td>0.476440</td>\n",
              "      <td>0.0</td>\n",
              "      <td>0.0</td>\n",
              "      <td>0.3182</td>\n",
              "      <td>0.0</td>\n",
              "      <td>0.892</td>\n",
              "      <td>0.108</td>\n",
              "    </tr>\n",
              "    <tr>\n",
              "      <th>3</th>\n",
              "      <td>4</td>\n",
              "      <td>Neutral</td>\n",
              "      <td>0.000654</td>\n",
              "      <td>0.686703</td>\n",
              "      <td>0.305323</td>\n",
              "      <td>0.500000</td>\n",
              "      <td>0.678515</td>\n",
              "      <td>1.2</td>\n",
              "      <td>0.3</td>\n",
              "      <td>0.8658</td>\n",
              "      <td>0.0</td>\n",
              "      <td>0.872</td>\n",
              "      <td>0.128</td>\n",
              "    </tr>\n",
              "    <tr>\n",
              "      <th>4</th>\n",
              "      <td>5</td>\n",
              "      <td>Neutral</td>\n",
              "      <td>0.002042</td>\n",
              "      <td>0.996204</td>\n",
              "      <td>0.001183</td>\n",
              "      <td>0.500000</td>\n",
              "      <td>0.437226</td>\n",
              "      <td>0.2</td>\n",
              "      <td>0.0</td>\n",
              "      <td>0.0000</td>\n",
              "      <td>0.0</td>\n",
              "      <td>1.000</td>\n",
              "      <td>0.000</td>\n",
              "    </tr>\n",
              "  </tbody>\n",
              "</table>\n",
              "</div>"
            ],
            "text/plain": [
              "   Text_ID Sentiment  AWS_Negative_Score  AWS_Neutral_Score  \\\n",
              "0        1   Neutral            0.000141           0.998418   \n",
              "1        2   Neutral            0.003760           0.487941   \n",
              "2        3   Neutral            0.007338           0.976732   \n",
              "3        4   Neutral            0.000654           0.686703   \n",
              "4        5   Neutral            0.002042           0.996204   \n",
              "\n",
              "   AWS_Positive_Score  AZURE_Overall_Score  IBM_Overall_Score  GCP_Magnitude  \\\n",
              "0            0.001304             0.500000           0.000000            0.0   \n",
              "1            0.495716             0.891742           0.750129            0.9   \n",
              "2            0.012431             0.500000           0.476440            0.0   \n",
              "3            0.305323             0.500000           0.678515            1.2   \n",
              "4            0.001183             0.500000           0.437226            0.2   \n",
              "\n",
              "   GCP_Score  VADER_Overall_Score  VADER_Negative_Score  VADER_Neutral_Score  \\\n",
              "0        0.0               0.0000                   0.0                1.000   \n",
              "1        0.1               0.7096                   0.0                0.848   \n",
              "2        0.0               0.3182                   0.0                0.892   \n",
              "3        0.3               0.8658                   0.0                0.872   \n",
              "4        0.0               0.0000                   0.0                1.000   \n",
              "\n",
              "   VADER_Positive_Score  \n",
              "0                 0.000  \n",
              "1                 0.152  \n",
              "2                 0.108  \n",
              "3                 0.128  \n",
              "4                 0.000  "
            ]
          },
          "metadata": {
            "tags": []
          },
          "execution_count": 141
        }
      ]
    },
    {
      "metadata": {
        "id": "oH9y-w4fjJBL",
        "colab_type": "code",
        "colab": {}
      },
      "cell_type": "code",
      "source": [
        "#Exporting AutoML dataset for future use:\n",
        "\n",
        "with open('data_automl.json', 'w') as f:\n",
        "    json.dump(data_automl.to_dict(), f)"
      ],
      "execution_count": 0,
      "outputs": []
    },
    {
      "metadata": {
        "id": "-jwzJJsdj3nc",
        "colab_type": "code",
        "colab": {}
      },
      "cell_type": "code",
      "source": [
        ""
      ],
      "execution_count": 0,
      "outputs": []
    }
  ]
}