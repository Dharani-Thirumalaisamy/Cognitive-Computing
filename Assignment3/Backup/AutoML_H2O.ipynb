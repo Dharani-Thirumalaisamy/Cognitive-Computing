{
 "cells": [
  {
   "cell_type": "code",
   "execution_count": 1,
   "metadata": {},
   "outputs": [
    {
     "name": "stdout",
     "output_type": "stream",
     "text": [
      "Collecting h2o\n",
      "  Downloading https://files.pythonhosted.org/packages/6e/e4/1b34202b4887f8187f72acaa178eb4ff87982a9583008c78e1929d8a5e23/h2o-3.22.0.2.tar.gz (120.6MB)\n",
      "Requirement already satisfied: requests in c:\\programdata\\anaconda3\\lib\\site-packages (from h2o)\n",
      "Collecting tabulate (from h2o)\n",
      "  Downloading https://files.pythonhosted.org/packages/12/c2/11d6845db5edf1295bc08b2f488cf5937806586afe42936c3f34c097ebdc/tabulate-0.8.2.tar.gz (45kB)\n",
      "Requirement already satisfied: future in c:\\programdata\\anaconda3\\lib\\site-packages (from h2o)\n",
      "Requirement already satisfied: colorama>=0.3.8 in c:\\programdata\\anaconda3\\lib\\site-packages (from h2o)\n",
      "Requirement already satisfied: certifi>=2017.4.17 in c:\\programdata\\anaconda3\\lib\\site-packages (from requests->h2o)\n",
      "Requirement already satisfied: idna<2.8,>=2.5 in c:\\programdata\\anaconda3\\lib\\site-packages (from requests->h2o)\n",
      "Requirement already satisfied: urllib3<1.25,>=1.21.1 in c:\\programdata\\anaconda3\\lib\\site-packages (from requests->h2o)\n",
      "Requirement already satisfied: chardet<3.1.0,>=3.0.2 in c:\\programdata\\anaconda3\\lib\\site-packages (from requests->h2o)\n",
      "Building wheels for collected packages: h2o, tabulate\n",
      "  Running setup.py bdist_wheel for h2o: started\n",
      "  Running setup.py bdist_wheel for h2o: finished with status 'done'\n",
      "  Stored in directory: C:\\Users\\pramo\\AppData\\Local\\pip\\Cache\\wheels\\0d\\17\\52\\9ea300738f719aca7b88a790ce94b8c928e7c6098e72627c7f\n",
      "  Running setup.py bdist_wheel for tabulate: started\n",
      "  Running setup.py bdist_wheel for tabulate: finished with status 'done'\n",
      "  Stored in directory: C:\\Users\\pramo\\AppData\\Local\\pip\\Cache\\wheels\\2a\\85\\33\\2f6da85d5f10614cbe5a625eab3b3aebfdf43e7b857f25f829\n",
      "Successfully built h2o tabulate\n",
      "Installing collected packages: tabulate, h2o\n",
      "Successfully installed h2o-3.22.0.2 tabulate-0.8.2\n"
     ]
    },
    {
     "name": "stderr",
     "output_type": "stream",
     "text": [
      "You are using pip version 9.0.1, however version 18.1 is available.\n",
      "You should consider upgrading via the 'python -m pip install --upgrade pip' command.\n"
     ]
    },
    {
     "name": "stdout",
     "output_type": "stream",
     "text": [
      "Checking whether there is an H2O instance running at http://localhost:54321..... not found.\n",
      "Attempting to start a local H2O server...\n",
      "; Java HotSpot(TM) 64-Bit Server VM (build 25.191-b12, mixed mode)\n",
      "  Starting server from C:\\ProgramData\\Anaconda3\\lib\\site-packages\\h2o\\backend\\bin\\h2o.jar\n",
      "  Ice root: C:\\Users\\pramo\\AppData\\Local\\Temp\\tmpf_j4yh5_\n",
      "  JVM stdout: C:\\Users\\pramo\\AppData\\Local\\Temp\\tmpf_j4yh5_\\h2o_pramo_started_from_python.out\n",
      "  JVM stderr: C:\\Users\\pramo\\AppData\\Local\\Temp\\tmpf_j4yh5_\\h2o_pramo_started_from_python.err\n",
      "  Server is running at http://127.0.0.1:54321\n",
      "Connecting to H2O server at http://127.0.0.1:54321... successful.\n"
     ]
    },
    {
     "data": {
      "text/html": [
       "<div style=\"overflow:auto\"><table style=\"width:50%\"><tr><td>H2O cluster uptime:</td>\n",
       "<td>04 secs</td></tr>\n",
       "<tr><td>H2O cluster timezone:</td>\n",
       "<td>America/New_York</td></tr>\n",
       "<tr><td>H2O data parsing timezone:</td>\n",
       "<td>UTC</td></tr>\n",
       "<tr><td>H2O cluster version:</td>\n",
       "<td>3.22.0.2</td></tr>\n",
       "<tr><td>H2O cluster version age:</td>\n",
       "<td>7 days, 19 hours and 44 minutes </td></tr>\n",
       "<tr><td>H2O cluster name:</td>\n",
       "<td>H2O_from_python_pramo_osbk1z</td></tr>\n",
       "<tr><td>H2O cluster total nodes:</td>\n",
       "<td>1</td></tr>\n",
       "<tr><td>H2O cluster free memory:</td>\n",
       "<td>3.524 Gb</td></tr>\n",
       "<tr><td>H2O cluster total cores:</td>\n",
       "<td>4</td></tr>\n",
       "<tr><td>H2O cluster allowed cores:</td>\n",
       "<td>4</td></tr>\n",
       "<tr><td>H2O cluster status:</td>\n",
       "<td>accepting new members, healthy</td></tr>\n",
       "<tr><td>H2O connection url:</td>\n",
       "<td>http://127.0.0.1:54321</td></tr>\n",
       "<tr><td>H2O connection proxy:</td>\n",
       "<td>None</td></tr>\n",
       "<tr><td>H2O internal security:</td>\n",
       "<td>False</td></tr>\n",
       "<tr><td>H2O API Extensions:</td>\n",
       "<td>Algos, AutoML, Core V3, Core V4</td></tr>\n",
       "<tr><td>Python version:</td>\n",
       "<td>3.6.4 final</td></tr></table></div>"
      ],
      "text/plain": [
       "--------------------------  -------------------------------\n",
       "H2O cluster uptime:         04 secs\n",
       "H2O cluster timezone:       America/New_York\n",
       "H2O data parsing timezone:  UTC\n",
       "H2O cluster version:        3.22.0.2\n",
       "H2O cluster version age:    7 days, 19 hours and 44 minutes\n",
       "H2O cluster name:           H2O_from_python_pramo_osbk1z\n",
       "H2O cluster total nodes:    1\n",
       "H2O cluster free memory:    3.524 Gb\n",
       "H2O cluster total cores:    4\n",
       "H2O cluster allowed cores:  4\n",
       "H2O cluster status:         accepting new members, healthy\n",
       "H2O connection url:         http://127.0.0.1:54321\n",
       "H2O connection proxy:\n",
       "H2O internal security:      False\n",
       "H2O API Extensions:         Algos, AutoML, Core V3, Core V4\n",
       "Python version:             3.6.4 final\n",
       "--------------------------  -------------------------------"
      ]
     },
     "metadata": {},
     "output_type": "display_data"
    }
   ],
   "source": [
    "#! apt-get install default-jre\n",
    "#!java -version\n",
    "!pip install h2o\n",
    "import h2o\n",
    "from h2o.automl import H2OAutoML\n",
    "\n",
    "h2o.init()"
   ]
  },
  {
   "cell_type": "code",
   "execution_count": 7,
   "metadata": {},
   "outputs": [],
   "source": [
    "import json\n",
    "import pandas as pd"
   ]
  },
  {
   "cell_type": "code",
   "execution_count": 8,
   "metadata": {},
   "outputs": [],
   "source": [
    "#Importing AutoML dataset from json file\n",
    "\n",
    "with open('data_automl.json','r') as f:\n",
    "    data_all = f.read()\n",
    "    \n",
    "data = json.loads(data_all)"
   ]
  },
  {
   "cell_type": "code",
   "execution_count": 12,
   "metadata": {},
   "outputs": [
    {
     "name": "stdout",
     "output_type": "stream",
     "text": [
      "(622, 13)\n"
     ]
    },
    {
     "data": {
      "text/html": [
       "<div>\n",
       "<style scoped>\n",
       "    .dataframe tbody tr th:only-of-type {\n",
       "        vertical-align: middle;\n",
       "    }\n",
       "\n",
       "    .dataframe tbody tr th {\n",
       "        vertical-align: top;\n",
       "    }\n",
       "\n",
       "    .dataframe thead th {\n",
       "        text-align: right;\n",
       "    }\n",
       "</style>\n",
       "<table border=\"1\" class=\"dataframe\">\n",
       "  <thead>\n",
       "    <tr style=\"text-align: right;\">\n",
       "      <th></th>\n",
       "      <th>AWS_Negative_Score</th>\n",
       "      <th>AWS_Neutral_Score</th>\n",
       "      <th>AWS_Positive_Score</th>\n",
       "      <th>AZURE_Overall_Score</th>\n",
       "      <th>GCP_Magnitude</th>\n",
       "      <th>GCP_Score</th>\n",
       "      <th>IBM_Overall_Score</th>\n",
       "      <th>Sentiment</th>\n",
       "      <th>Text_ID</th>\n",
       "      <th>VADER_Negative_Score</th>\n",
       "      <th>VADER_Neutral_Score</th>\n",
       "      <th>VADER_Overall_Score</th>\n",
       "      <th>VADER_Positive_Score</th>\n",
       "    </tr>\n",
       "  </thead>\n",
       "  <tbody>\n",
       "    <tr>\n",
       "      <th>0</th>\n",
       "      <td>0.000141</td>\n",
       "      <td>0.998418</td>\n",
       "      <td>0.001304</td>\n",
       "      <td>0.500000</td>\n",
       "      <td>0.0</td>\n",
       "      <td>0.0</td>\n",
       "      <td>0.000000</td>\n",
       "      <td>Neutral</td>\n",
       "      <td>1</td>\n",
       "      <td>0.000</td>\n",
       "      <td>1.000</td>\n",
       "      <td>0.0000</td>\n",
       "      <td>0.000</td>\n",
       "    </tr>\n",
       "    <tr>\n",
       "      <th>1</th>\n",
       "      <td>0.003760</td>\n",
       "      <td>0.487941</td>\n",
       "      <td>0.495716</td>\n",
       "      <td>0.891742</td>\n",
       "      <td>0.9</td>\n",
       "      <td>0.1</td>\n",
       "      <td>0.750129</td>\n",
       "      <td>Neutral</td>\n",
       "      <td>2</td>\n",
       "      <td>0.000</td>\n",
       "      <td>0.848</td>\n",
       "      <td>0.7096</td>\n",
       "      <td>0.152</td>\n",
       "    </tr>\n",
       "    <tr>\n",
       "      <th>10</th>\n",
       "      <td>0.000835</td>\n",
       "      <td>0.027987</td>\n",
       "      <td>0.940531</td>\n",
       "      <td>0.942766</td>\n",
       "      <td>2.3</td>\n",
       "      <td>0.3</td>\n",
       "      <td>0.776391</td>\n",
       "      <td>Positive</td>\n",
       "      <td>11</td>\n",
       "      <td>0.017</td>\n",
       "      <td>0.790</td>\n",
       "      <td>0.9123</td>\n",
       "      <td>0.192</td>\n",
       "    </tr>\n",
       "    <tr>\n",
       "      <th>100</th>\n",
       "      <td>0.482647</td>\n",
       "      <td>0.247408</td>\n",
       "      <td>0.037411</td>\n",
       "      <td>0.762388</td>\n",
       "      <td>1.6</td>\n",
       "      <td>0.2</td>\n",
       "      <td>0.438461</td>\n",
       "      <td>Negative</td>\n",
       "      <td>101</td>\n",
       "      <td>0.000</td>\n",
       "      <td>0.958</td>\n",
       "      <td>0.3919</td>\n",
       "      <td>0.042</td>\n",
       "    </tr>\n",
       "    <tr>\n",
       "      <th>101</th>\n",
       "      <td>0.033947</td>\n",
       "      <td>0.533266</td>\n",
       "      <td>0.419496</td>\n",
       "      <td>0.772392</td>\n",
       "      <td>1.1</td>\n",
       "      <td>0.5</td>\n",
       "      <td>0.551895</td>\n",
       "      <td>Positive</td>\n",
       "      <td>102</td>\n",
       "      <td>0.000</td>\n",
       "      <td>0.836</td>\n",
       "      <td>0.8020</td>\n",
       "      <td>0.164</td>\n",
       "    </tr>\n",
       "  </tbody>\n",
       "</table>\n",
       "</div>"
      ],
      "text/plain": [
       "     AWS_Negative_Score  AWS_Neutral_Score  AWS_Positive_Score  \\\n",
       "0              0.000141           0.998418            0.001304   \n",
       "1              0.003760           0.487941            0.495716   \n",
       "10             0.000835           0.027987            0.940531   \n",
       "100            0.482647           0.247408            0.037411   \n",
       "101            0.033947           0.533266            0.419496   \n",
       "\n",
       "     AZURE_Overall_Score  GCP_Magnitude  GCP_Score  IBM_Overall_Score  \\\n",
       "0               0.500000            0.0        0.0           0.000000   \n",
       "1               0.891742            0.9        0.1           0.750129   \n",
       "10              0.942766            2.3        0.3           0.776391   \n",
       "100             0.762388            1.6        0.2           0.438461   \n",
       "101             0.772392            1.1        0.5           0.551895   \n",
       "\n",
       "    Sentiment  Text_ID  VADER_Negative_Score  VADER_Neutral_Score  \\\n",
       "0     Neutral        1                 0.000                1.000   \n",
       "1     Neutral        2                 0.000                0.848   \n",
       "10   Positive       11                 0.017                0.790   \n",
       "100  Negative      101                 0.000                0.958   \n",
       "101  Positive      102                 0.000                0.836   \n",
       "\n",
       "     VADER_Overall_Score  VADER_Positive_Score  \n",
       "0                 0.0000                 0.000  \n",
       "1                 0.7096                 0.152  \n",
       "10                0.9123                 0.192  \n",
       "100               0.3919                 0.042  \n",
       "101               0.8020                 0.164  "
      ]
     },
     "execution_count": 12,
     "metadata": {},
     "output_type": "execute_result"
    }
   ],
   "source": [
    "data_automl = pd.DataFrame.from_dict(data)\n",
    "print(data_automl.shape)\n",
    "data_automl.head()"
   ]
  },
  {
   "cell_type": "code",
   "execution_count": 21,
   "metadata": {},
   "outputs": [],
   "source": [
    "X = pd.DataFrame()\n",
    "Y = pd.DataFrame()\n",
    "X = data_automl.drop(['Sentiment','Text_ID'], axis=1)\n",
    "Y['Sentiment'] = data_automl['Sentiment']"
   ]
  },
  {
   "cell_type": "code",
   "execution_count": 22,
   "metadata": {},
   "outputs": [
    {
     "data": {
      "text/html": [
       "<div>\n",
       "<style scoped>\n",
       "    .dataframe tbody tr th:only-of-type {\n",
       "        vertical-align: middle;\n",
       "    }\n",
       "\n",
       "    .dataframe tbody tr th {\n",
       "        vertical-align: top;\n",
       "    }\n",
       "\n",
       "    .dataframe thead th {\n",
       "        text-align: right;\n",
       "    }\n",
       "</style>\n",
       "<table border=\"1\" class=\"dataframe\">\n",
       "  <thead>\n",
       "    <tr style=\"text-align: right;\">\n",
       "      <th></th>\n",
       "      <th>AWS_Negative_Score</th>\n",
       "      <th>AWS_Neutral_Score</th>\n",
       "      <th>AWS_Positive_Score</th>\n",
       "      <th>AZURE_Overall_Score</th>\n",
       "      <th>GCP_Magnitude</th>\n",
       "      <th>GCP_Score</th>\n",
       "      <th>IBM_Overall_Score</th>\n",
       "      <th>VADER_Negative_Score</th>\n",
       "      <th>VADER_Neutral_Score</th>\n",
       "      <th>VADER_Overall_Score</th>\n",
       "      <th>VADER_Positive_Score</th>\n",
       "    </tr>\n",
       "  </thead>\n",
       "  <tbody>\n",
       "    <tr>\n",
       "      <th>0</th>\n",
       "      <td>0.000141</td>\n",
       "      <td>0.998418</td>\n",
       "      <td>0.001304</td>\n",
       "      <td>0.500000</td>\n",
       "      <td>0.0</td>\n",
       "      <td>0.0</td>\n",
       "      <td>0.000000</td>\n",
       "      <td>0.000</td>\n",
       "      <td>1.000</td>\n",
       "      <td>0.0000</td>\n",
       "      <td>0.000</td>\n",
       "    </tr>\n",
       "    <tr>\n",
       "      <th>1</th>\n",
       "      <td>0.003760</td>\n",
       "      <td>0.487941</td>\n",
       "      <td>0.495716</td>\n",
       "      <td>0.891742</td>\n",
       "      <td>0.9</td>\n",
       "      <td>0.1</td>\n",
       "      <td>0.750129</td>\n",
       "      <td>0.000</td>\n",
       "      <td>0.848</td>\n",
       "      <td>0.7096</td>\n",
       "      <td>0.152</td>\n",
       "    </tr>\n",
       "    <tr>\n",
       "      <th>10</th>\n",
       "      <td>0.000835</td>\n",
       "      <td>0.027987</td>\n",
       "      <td>0.940531</td>\n",
       "      <td>0.942766</td>\n",
       "      <td>2.3</td>\n",
       "      <td>0.3</td>\n",
       "      <td>0.776391</td>\n",
       "      <td>0.017</td>\n",
       "      <td>0.790</td>\n",
       "      <td>0.9123</td>\n",
       "      <td>0.192</td>\n",
       "    </tr>\n",
       "    <tr>\n",
       "      <th>100</th>\n",
       "      <td>0.482647</td>\n",
       "      <td>0.247408</td>\n",
       "      <td>0.037411</td>\n",
       "      <td>0.762388</td>\n",
       "      <td>1.6</td>\n",
       "      <td>0.2</td>\n",
       "      <td>0.438461</td>\n",
       "      <td>0.000</td>\n",
       "      <td>0.958</td>\n",
       "      <td>0.3919</td>\n",
       "      <td>0.042</td>\n",
       "    </tr>\n",
       "    <tr>\n",
       "      <th>101</th>\n",
       "      <td>0.033947</td>\n",
       "      <td>0.533266</td>\n",
       "      <td>0.419496</td>\n",
       "      <td>0.772392</td>\n",
       "      <td>1.1</td>\n",
       "      <td>0.5</td>\n",
       "      <td>0.551895</td>\n",
       "      <td>0.000</td>\n",
       "      <td>0.836</td>\n",
       "      <td>0.8020</td>\n",
       "      <td>0.164</td>\n",
       "    </tr>\n",
       "  </tbody>\n",
       "</table>\n",
       "</div>"
      ],
      "text/plain": [
       "     AWS_Negative_Score  AWS_Neutral_Score  AWS_Positive_Score  \\\n",
       "0              0.000141           0.998418            0.001304   \n",
       "1              0.003760           0.487941            0.495716   \n",
       "10             0.000835           0.027987            0.940531   \n",
       "100            0.482647           0.247408            0.037411   \n",
       "101            0.033947           0.533266            0.419496   \n",
       "\n",
       "     AZURE_Overall_Score  GCP_Magnitude  GCP_Score  IBM_Overall_Score  \\\n",
       "0               0.500000            0.0        0.0           0.000000   \n",
       "1               0.891742            0.9        0.1           0.750129   \n",
       "10              0.942766            2.3        0.3           0.776391   \n",
       "100             0.762388            1.6        0.2           0.438461   \n",
       "101             0.772392            1.1        0.5           0.551895   \n",
       "\n",
       "     VADER_Negative_Score  VADER_Neutral_Score  VADER_Overall_Score  \\\n",
       "0                   0.000                1.000               0.0000   \n",
       "1                   0.000                0.848               0.7096   \n",
       "10                  0.017                0.790               0.9123   \n",
       "100                 0.000                0.958               0.3919   \n",
       "101                 0.000                0.836               0.8020   \n",
       "\n",
       "     VADER_Positive_Score  \n",
       "0                   0.000  \n",
       "1                   0.152  \n",
       "10                  0.192  \n",
       "100                 0.042  \n",
       "101                 0.164  "
      ]
     },
     "execution_count": 22,
     "metadata": {},
     "output_type": "execute_result"
    }
   ],
   "source": [
    "X.head()"
   ]
  },
  {
   "cell_type": "code",
   "execution_count": 23,
   "metadata": {},
   "outputs": [
    {
     "data": {
      "text/html": [
       "<div>\n",
       "<style scoped>\n",
       "    .dataframe tbody tr th:only-of-type {\n",
       "        vertical-align: middle;\n",
       "    }\n",
       "\n",
       "    .dataframe tbody tr th {\n",
       "        vertical-align: top;\n",
       "    }\n",
       "\n",
       "    .dataframe thead th {\n",
       "        text-align: right;\n",
       "    }\n",
       "</style>\n",
       "<table border=\"1\" class=\"dataframe\">\n",
       "  <thead>\n",
       "    <tr style=\"text-align: right;\">\n",
       "      <th></th>\n",
       "      <th>Sentiment</th>\n",
       "    </tr>\n",
       "  </thead>\n",
       "  <tbody>\n",
       "    <tr>\n",
       "      <th>0</th>\n",
       "      <td>Neutral</td>\n",
       "    </tr>\n",
       "    <tr>\n",
       "      <th>1</th>\n",
       "      <td>Neutral</td>\n",
       "    </tr>\n",
       "    <tr>\n",
       "      <th>10</th>\n",
       "      <td>Positive</td>\n",
       "    </tr>\n",
       "    <tr>\n",
       "      <th>100</th>\n",
       "      <td>Negative</td>\n",
       "    </tr>\n",
       "    <tr>\n",
       "      <th>101</th>\n",
       "      <td>Positive</td>\n",
       "    </tr>\n",
       "  </tbody>\n",
       "</table>\n",
       "</div>"
      ],
      "text/plain": [
       "    Sentiment\n",
       "0     Neutral\n",
       "1     Neutral\n",
       "10   Positive\n",
       "100  Negative\n",
       "101  Positive"
      ]
     },
     "execution_count": 23,
     "metadata": {},
     "output_type": "execute_result"
    }
   ],
   "source": [
    "Y.head()"
   ]
  },
  {
   "cell_type": "code",
   "execution_count": 39,
   "metadata": {},
   "outputs": [],
   "source": [
    "x = list(data_automl.columns)\n",
    "x.remove('Sentiment')\n",
    "x.remove('Text_ID')\n",
    "y = ['Sentiment']"
   ]
  },
  {
   "cell_type": "code",
   "execution_count": 40,
   "metadata": {},
   "outputs": [],
   "source": [
    "from sklearn.model_selection import train_test_split\n",
    "\n",
    "train, test = train_test_split(data_automl, test_size=0.2)"
   ]
  },
  {
   "cell_type": "code",
   "execution_count": 53,
   "metadata": {},
   "outputs": [
    {
     "name": "stdout",
     "output_type": "stream",
     "text": [
      "Parse progress: |█████████████████████████████████████████████████████████| 100%\n",
      "Parse progress: |█████████████████████████████████████████████████████████| 100%\n"
     ]
    }
   ],
   "source": [
    "train_h2o = h2o.H2OFrame(train)\n",
    "test_h2o = h2o.H2OFrame(test)"
   ]
  },
  {
   "cell_type": "code",
   "execution_count": 24,
   "metadata": {},
   "outputs": [],
   "source": [
    "auto_h2o =  H2OAutoML(max_models=20, seed=1, max_runtime_secs=300)"
   ]
  },
  {
   "cell_type": "code",
   "execution_count": 55,
   "metadata": {},
   "outputs": [
    {
     "name": "stdout",
     "output_type": "stream",
     "text": [
      "AutoML progress: |████████████████████████████████████████████████████████| 100%\n"
     ]
    }
   ],
   "source": [
    "auto_h2o.train(x=x, y=\"Sentiment\", training_frame=train_h2o)"
   ]
  },
  {
   "cell_type": "code",
   "execution_count": 56,
   "metadata": {},
   "outputs": [
    {
     "data": {
      "text/html": [
       "<table>\n",
       "<thead>\n",
       "<tr><th>model_id                                          </th><th style=\"text-align: right;\">  mean_per_class_error</th><th style=\"text-align: right;\">  logloss</th><th style=\"text-align: right;\">    rmse</th><th style=\"text-align: right;\">     mse</th></tr>\n",
       "</thead>\n",
       "<tbody>\n",
       "<tr><td>GBM_grid_1_AutoML_20181130_033412_model_3         </td><td style=\"text-align: right;\">              0.537738</td><td style=\"text-align: right;\"> 1.5945  </td><td style=\"text-align: right;\">0.600412</td><td style=\"text-align: right;\">0.360495</td></tr>\n",
       "<tr><td>GBM_2_AutoML_20181130_033412                      </td><td style=\"text-align: right;\">              0.537967</td><td style=\"text-align: right;\"> 0.906346</td><td style=\"text-align: right;\">0.565543</td><td style=\"text-align: right;\">0.319839</td></tr>\n",
       "<tr><td>DRF_1_AutoML_20181130_033412                      </td><td style=\"text-align: right;\">              0.541383</td><td style=\"text-align: right;\"> 1.67403 </td><td style=\"text-align: right;\">0.567739</td><td style=\"text-align: right;\">0.322327</td></tr>\n",
       "<tr><td>GBM_4_AutoML_20181130_033412                      </td><td style=\"text-align: right;\">              0.545429</td><td style=\"text-align: right;\"> 0.913898</td><td style=\"text-align: right;\">0.566863</td><td style=\"text-align: right;\">0.321334</td></tr>\n",
       "<tr><td>XRT_1_AutoML_20181130_033412                      </td><td style=\"text-align: right;\">              0.555336</td><td style=\"text-align: right;\"> 2.93213 </td><td style=\"text-align: right;\">0.564202</td><td style=\"text-align: right;\">0.318324</td></tr>\n",
       "<tr><td>GBM_3_AutoML_20181130_033412                      </td><td style=\"text-align: right;\">              0.559853</td><td style=\"text-align: right;\"> 0.907445</td><td style=\"text-align: right;\">0.566164</td><td style=\"text-align: right;\">0.320542</td></tr>\n",
       "<tr><td>DeepLearning_grid_1_AutoML_20181130_033412_model_1</td><td style=\"text-align: right;\">              0.563156</td><td style=\"text-align: right;\"> 2.79027 </td><td style=\"text-align: right;\">0.617379</td><td style=\"text-align: right;\">0.381157</td></tr>\n",
       "<tr><td>GBM_grid_1_AutoML_20181130_033412_model_5         </td><td style=\"text-align: right;\">              0.56483 </td><td style=\"text-align: right;\"> 1.08497 </td><td style=\"text-align: right;\">0.662051</td><td style=\"text-align: right;\">0.438312</td></tr>\n",
       "<tr><td>DeepLearning_grid_1_AutoML_20181130_033412_model_3</td><td style=\"text-align: right;\">              0.568217</td><td style=\"text-align: right;\"> 3.03089 </td><td style=\"text-align: right;\">0.644091</td><td style=\"text-align: right;\">0.414853</td></tr>\n",
       "<tr><td>DeepLearning_1_AutoML_20181130_033412             </td><td style=\"text-align: right;\">              0.56937 </td><td style=\"text-align: right;\"> 0.98269 </td><td style=\"text-align: right;\">0.580657</td><td style=\"text-align: right;\">0.337163</td></tr>\n",
       "</tbody>\n",
       "</table>"
      ]
     },
     "metadata": {},
     "output_type": "display_data"
    },
    {
     "data": {
      "text/plain": []
     },
     "execution_count": 56,
     "metadata": {},
     "output_type": "execute_result"
    }
   ],
   "source": [
    "lb = auto_h2o.leaderboard\n",
    "lb"
   ]
  },
  {
   "cell_type": "code",
   "execution_count": 57,
   "metadata": {},
   "outputs": [
    {
     "name": "stdout",
     "output_type": "stream",
     "text": [
      "Model Details\n",
      "=============\n",
      "H2OGradientBoostingEstimator :  Gradient Boosting Machine\n",
      "Model Key:  GBM_grid_1_AutoML_20181130_033412_model_3\n",
      "\n",
      "\n",
      "ModelMetricsMultinomial: gbm\n",
      "** Reported on train data. **\n",
      "\n",
      "MSE: 0.00026240216154851086\n",
      "RMSE: 0.01619883210446083\n",
      "LogLoss: 0.010448012871897098\n",
      "Mean Per-Class Error: 0.0\n",
      "Confusion Matrix: Row labels: Actual class; Column labels: Predicted class\n",
      "\n"
     ]
    },
    {
     "data": {
      "text/html": [
       "<div style=\"overflow:auto\"><table style=\"width:50%\"><tr><td><b>Negative</b></td>\n",
       "<td><b>Neutral</b></td>\n",
       "<td><b>Positive</b></td>\n",
       "<td><b>Error</b></td>\n",
       "<td><b>Rate</b></td></tr>\n",
       "<tr><td>49.0</td>\n",
       "<td>0.0</td>\n",
       "<td>0.0</td>\n",
       "<td>0.0</td>\n",
       "<td>0 / 49</td></tr>\n",
       "<tr><td>0.0</td>\n",
       "<td>176.0</td>\n",
       "<td>0.0</td>\n",
       "<td>0.0</td>\n",
       "<td>0 / 176</td></tr>\n",
       "<tr><td>0.0</td>\n",
       "<td>0.0</td>\n",
       "<td>222.0</td>\n",
       "<td>0.0</td>\n",
       "<td>0 / 222</td></tr>\n",
       "<tr><td>49.0</td>\n",
       "<td>176.0</td>\n",
       "<td>222.0</td>\n",
       "<td>0.0</td>\n",
       "<td>0 / 447</td></tr></table></div>"
      ],
      "text/plain": [
       "Negative    Neutral    Positive    Error    Rate\n",
       "----------  ---------  ----------  -------  -------\n",
       "49          0          0           0        0 / 49\n",
       "0           176        0           0        0 / 176\n",
       "0           0          222         0        0 / 222\n",
       "49          176        222         0        0 / 447"
      ]
     },
     "metadata": {},
     "output_type": "display_data"
    },
    {
     "name": "stdout",
     "output_type": "stream",
     "text": [
      "Top-3 Hit Ratios: \n"
     ]
    },
    {
     "data": {
      "text/html": [
       "<div style=\"overflow:auto\"><table style=\"width:50%\"><tr><td><b>k</b></td>\n",
       "<td><b>hit_ratio</b></td></tr>\n",
       "<tr><td>1</td>\n",
       "<td>1.0</td></tr>\n",
       "<tr><td>2</td>\n",
       "<td>1.0</td></tr>\n",
       "<tr><td>3</td>\n",
       "<td>1.0</td></tr></table></div>"
      ],
      "text/plain": [
       "k    hit_ratio\n",
       "---  -----------\n",
       "1    1\n",
       "2    1\n",
       "3    1"
      ]
     },
     "metadata": {},
     "output_type": "display_data"
    },
    {
     "name": "stdout",
     "output_type": "stream",
     "text": [
      "\n",
      "ModelMetricsMultinomial: gbm\n",
      "** Reported on validation data. **\n",
      "\n",
      "MSE: 0.2861926353392296\n",
      "RMSE: 0.5349697517983887\n",
      "LogLoss: 1.1939690249511514\n",
      "Mean Per-Class Error: 0.5213032581453634\n",
      "Confusion Matrix: Row labels: Actual class; Column labels: Predicted class\n",
      "\n"
     ]
    },
    {
     "data": {
      "text/html": [
       "<div style=\"overflow:auto\"><table style=\"width:50%\"><tr><td><b>Negative</b></td>\n",
       "<td><b>Neutral</b></td>\n",
       "<td><b>Positive</b></td>\n",
       "<td><b>Error</b></td>\n",
       "<td><b>Rate</b></td></tr>\n",
       "<tr><td>0.0</td>\n",
       "<td>1.0</td>\n",
       "<td>2.0</td>\n",
       "<td>1.0</td>\n",
       "<td>3 / 3</td></tr>\n",
       "<tr><td>1.0</td>\n",
       "<td>11.0</td>\n",
       "<td>7.0</td>\n",
       "<td>0.4210526</td>\n",
       "<td>8 / 19</td></tr>\n",
       "<tr><td>0.0</td>\n",
       "<td>4.0</td>\n",
       "<td>24.0</td>\n",
       "<td>0.1428571</td>\n",
       "<td>4 / 28</td></tr>\n",
       "<tr><td>1.0</td>\n",
       "<td>16.0</td>\n",
       "<td>33.0</td>\n",
       "<td>0.3</td>\n",
       "<td>15 / 50</td></tr></table></div>"
      ],
      "text/plain": [
       "Negative    Neutral    Positive    Error     Rate\n",
       "----------  ---------  ----------  --------  -------\n",
       "0           1          2           1         3 / 3\n",
       "1           11         7           0.421053  8 / 19\n",
       "0           4          24          0.142857  4 / 28\n",
       "1           16         33          0.3       15 / 50"
      ]
     },
     "metadata": {},
     "output_type": "display_data"
    },
    {
     "name": "stdout",
     "output_type": "stream",
     "text": [
      "Top-3 Hit Ratios: \n"
     ]
    },
    {
     "data": {
      "text/html": [
       "<div style=\"overflow:auto\"><table style=\"width:50%\"><tr><td><b>k</b></td>\n",
       "<td><b>hit_ratio</b></td></tr>\n",
       "<tr><td>1</td>\n",
       "<td>0.7</td></tr>\n",
       "<tr><td>2</td>\n",
       "<td>0.86</td></tr>\n",
       "<tr><td>3</td>\n",
       "<td>1.0</td></tr></table></div>"
      ],
      "text/plain": [
       "k    hit_ratio\n",
       "---  -----------\n",
       "1    0.7\n",
       "2    0.86\n",
       "3    1"
      ]
     },
     "metadata": {},
     "output_type": "display_data"
    },
    {
     "name": "stdout",
     "output_type": "stream",
     "text": [
      "\n",
      "ModelMetricsMultinomial: gbm\n",
      "** Reported on cross-validation data. **\n",
      "\n",
      "MSE: 0.3604950014848547\n",
      "RMSE: 0.6004123595370557\n",
      "LogLoss: 1.5944990274701536\n",
      "Mean Per-Class Error: 0.5377381091666806\n",
      "Confusion Matrix: Row labels: Actual class; Column labels: Predicted class\n",
      "\n"
     ]
    },
    {
     "data": {
      "text/html": [
       "<div style=\"overflow:auto\"><table style=\"width:50%\"><tr><td><b>Negative</b></td>\n",
       "<td><b>Neutral</b></td>\n",
       "<td><b>Positive</b></td>\n",
       "<td><b>Error</b></td>\n",
       "<td><b>Rate</b></td></tr>\n",
       "<tr><td>9.0</td>\n",
       "<td>19.0</td>\n",
       "<td>21.0</td>\n",
       "<td>0.8163265</td>\n",
       "<td>40 / 49</td></tr>\n",
       "<tr><td>14.0</td>\n",
       "<td>96.0</td>\n",
       "<td>66.0</td>\n",
       "<td>0.4545455</td>\n",
       "<td>80 / 176</td></tr>\n",
       "<tr><td>9.0</td>\n",
       "<td>67.0</td>\n",
       "<td>146.0</td>\n",
       "<td>0.3423423</td>\n",
       "<td>76 / 222</td></tr>\n",
       "<tr><td>32.0</td>\n",
       "<td>182.0</td>\n",
       "<td>233.0</td>\n",
       "<td>0.4384787</td>\n",
       "<td>196 / 447</td></tr></table></div>"
      ],
      "text/plain": [
       "Negative    Neutral    Positive    Error     Rate\n",
       "----------  ---------  ----------  --------  ---------\n",
       "9           19         21          0.816327  40 / 49\n",
       "14          96         66          0.454545  80 / 176\n",
       "9           67         146         0.342342  76 / 222\n",
       "32          182        233         0.438479  196 / 447"
      ]
     },
     "metadata": {},
     "output_type": "display_data"
    },
    {
     "name": "stdout",
     "output_type": "stream",
     "text": [
      "Top-3 Hit Ratios: \n"
     ]
    },
    {
     "data": {
      "text/html": [
       "<div style=\"overflow:auto\"><table style=\"width:50%\"><tr><td><b>k</b></td>\n",
       "<td><b>hit_ratio</b></td></tr>\n",
       "<tr><td>1</td>\n",
       "<td>0.5615212</td></tr>\n",
       "<tr><td>2</td>\n",
       "<td>0.8702460</td></tr>\n",
       "<tr><td>3</td>\n",
       "<td>1.0</td></tr></table></div>"
      ],
      "text/plain": [
       "k    hit_ratio\n",
       "---  -----------\n",
       "1    0.561521\n",
       "2    0.870246\n",
       "3    1"
      ]
     },
     "metadata": {},
     "output_type": "display_data"
    },
    {
     "name": "stdout",
     "output_type": "stream",
     "text": [
      "Cross-Validation Metrics Summary: \n"
     ]
    },
    {
     "data": {
      "text/html": [
       "<div style=\"overflow:auto\"><table style=\"width:50%\"><tr><td><b></b></td>\n",
       "<td><b>mean</b></td>\n",
       "<td><b>sd</b></td>\n",
       "<td><b>cv_1_valid</b></td>\n",
       "<td><b>cv_2_valid</b></td>\n",
       "<td><b>cv_3_valid</b></td>\n",
       "<td><b>cv_4_valid</b></td>\n",
       "<td><b>cv_5_valid</b></td></tr>\n",
       "<tr><td>accuracy</td>\n",
       "<td>0.5616480</td>\n",
       "<td>0.0332915</td>\n",
       "<td>0.5222222</td>\n",
       "<td>0.5444444</td>\n",
       "<td>0.6516854</td>\n",
       "<td>0.5280899</td>\n",
       "<td>0.5617977</td></tr>\n",
       "<tr><td>err</td>\n",
       "<td>0.4383520</td>\n",
       "<td>0.0332915</td>\n",
       "<td>0.4777778</td>\n",
       "<td>0.4555556</td>\n",
       "<td>0.3483146</td>\n",
       "<td>0.4719101</td>\n",
       "<td>0.4382023</td></tr>\n",
       "<tr><td>err_count</td>\n",
       "<td>39.2</td>\n",
       "<td>3.0463092</td>\n",
       "<td>43.0</td>\n",
       "<td>41.0</td>\n",
       "<td>31.0</td>\n",
       "<td>42.0</td>\n",
       "<td>39.0</td></tr>\n",
       "<tr><td>logloss</td>\n",
       "<td>1.5949159</td>\n",
       "<td>0.0921509</td>\n",
       "<td>1.4166772</td>\n",
       "<td>1.5868403</td>\n",
       "<td>1.6501456</td>\n",
       "<td>1.8044055</td>\n",
       "<td>1.5165106</td></tr>\n",
       "<tr><td>max_per_class_error</td>\n",
       "<td>0.8262005</td>\n",
       "<td>0.0753699</td>\n",
       "<td>0.8</td>\n",
       "<td>0.8181818</td>\n",
       "<td>1.0</td>\n",
       "<td>0.6666667</td>\n",
       "<td>0.8461539</td></tr>\n",
       "<tr><td>mean_per_class_accuracy</td>\n",
       "<td>0.4613613</td>\n",
       "<td>0.0124819</td>\n",
       "<td>0.4320513</td>\n",
       "<td>0.4511808</td>\n",
       "<td>0.4676732</td>\n",
       "<td>0.4795321</td>\n",
       "<td>0.4763692</td></tr>\n",
       "<tr><td>mean_per_class_error</td>\n",
       "<td>0.5386386</td>\n",
       "<td>0.0124819</td>\n",
       "<td>0.5679487</td>\n",
       "<td>0.5488192</td>\n",
       "<td>0.5323268</td>\n",
       "<td>0.5204678</td>\n",
       "<td>0.5236309</td></tr>\n",
       "<tr><td>mse</td>\n",
       "<td>0.3604068</td>\n",
       "<td>0.0200849</td>\n",
       "<td>0.3837192</td>\n",
       "<td>0.3765293</td>\n",
       "<td>0.3194871</td>\n",
       "<td>0.3890338</td>\n",
       "<td>0.3332646</td></tr>\n",
       "<tr><td>r2</td>\n",
       "<td>0.1966288</td>\n",
       "<td>0.0630653</td>\n",
       "<td>0.1855017</td>\n",
       "<td>0.2315729</td>\n",
       "<td>0.1444702</td>\n",
       "<td>0.0779364</td>\n",
       "<td>0.3436627</td></tr>\n",
       "<tr><td>rmse</td>\n",
       "<td>0.5998638</td>\n",
       "<td>0.0168854</td>\n",
       "<td>0.6194508</td>\n",
       "<td>0.6136198</td>\n",
       "<td>0.5652319</td>\n",
       "<td>0.6237257</td>\n",
       "<td>0.5772907</td></tr></table></div>"
      ],
      "text/plain": [
       "                         mean      sd         cv_1_valid    cv_2_valid    cv_3_valid    cv_4_valid    cv_5_valid\n",
       "-----------------------  --------  ---------  ------------  ------------  ------------  ------------  ------------\n",
       "accuracy                 0.561648  0.0332915  0.522222      0.544444      0.651685      0.52809       0.561798\n",
       "err                      0.438352  0.0332915  0.477778      0.455556      0.348315      0.47191       0.438202\n",
       "err_count                39.2      3.04631    43            41            31            42            39\n",
       "logloss                  1.59492   0.0921509  1.41668       1.58684       1.65015       1.80441       1.51651\n",
       "max_per_class_error      0.826201  0.0753699  0.8           0.818182      1             0.666667      0.846154\n",
       "mean_per_class_accuracy  0.461361  0.0124819  0.432051      0.451181      0.467673      0.479532      0.476369\n",
       "mean_per_class_error     0.538639  0.0124819  0.567949      0.548819      0.532327      0.520468      0.523631\n",
       "mse                      0.360407  0.0200849  0.383719      0.376529      0.319487      0.389034      0.333265\n",
       "r2                       0.196629  0.0630653  0.185502      0.231573      0.14447       0.0779364     0.343663\n",
       "rmse                     0.599864  0.0168854  0.619451      0.61362       0.565232      0.623726      0.577291"
      ]
     },
     "metadata": {},
     "output_type": "display_data"
    },
    {
     "name": "stdout",
     "output_type": "stream",
     "text": [
      "Scoring History: \n"
     ]
    },
    {
     "data": {
      "text/html": [
       "<div style=\"overflow:auto\"><table style=\"width:50%\"><tr><td><b></b></td>\n",
       "<td><b>timestamp</b></td>\n",
       "<td><b>duration</b></td>\n",
       "<td><b>number_of_trees</b></td>\n",
       "<td><b>training_rmse</b></td>\n",
       "<td><b>training_logloss</b></td>\n",
       "<td><b>training_classification_error</b></td>\n",
       "<td><b>validation_rmse</b></td>\n",
       "<td><b>validation_logloss</b></td>\n",
       "<td><b>validation_classification_error</b></td></tr>\n",
       "<tr><td></td>\n",
       "<td>2018-11-30 03:34:27</td>\n",
       "<td> 2.172 sec</td>\n",
       "<td>0.0</td>\n",
       "<td>0.6666667</td>\n",
       "<td>1.0986123</td>\n",
       "<td>0.5771812</td>\n",
       "<td>0.6666667</td>\n",
       "<td>1.0986123</td>\n",
       "<td>0.6</td></tr>\n",
       "<tr><td></td>\n",
       "<td>2018-11-30 03:34:27</td>\n",
       "<td> 2.187 sec</td>\n",
       "<td>5.0</td>\n",
       "<td>0.3342101</td>\n",
       "<td>0.3753947</td>\n",
       "<td>0.0894855</td>\n",
       "<td>0.5587832</td>\n",
       "<td>0.8909412</td>\n",
       "<td>0.38</td></tr>\n",
       "<tr><td></td>\n",
       "<td>2018-11-30 03:34:27</td>\n",
       "<td> 2.201 sec</td>\n",
       "<td>10.0</td>\n",
       "<td>0.2117835</td>\n",
       "<td>0.1938330</td>\n",
       "<td>0.0201342</td>\n",
       "<td>0.5198513</td>\n",
       "<td>0.8383293</td>\n",
       "<td>0.36</td></tr>\n",
       "<tr><td></td>\n",
       "<td>2018-11-30 03:34:27</td>\n",
       "<td> 2.215 sec</td>\n",
       "<td>15.0</td>\n",
       "<td>0.1212627</td>\n",
       "<td>0.0962317</td>\n",
       "<td>0.0044743</td>\n",
       "<td>0.5322554</td>\n",
       "<td>0.9399694</td>\n",
       "<td>0.36</td></tr>\n",
       "<tr><td></td>\n",
       "<td>2018-11-30 03:34:27</td>\n",
       "<td> 2.230 sec</td>\n",
       "<td>20.0</td>\n",
       "<td>0.0711328</td>\n",
       "<td>0.0507783</td>\n",
       "<td>0.0</td>\n",
       "<td>0.5340997</td>\n",
       "<td>0.9957640</td>\n",
       "<td>0.36</td></tr>\n",
       "<tr><td></td>\n",
       "<td>2018-11-30 03:34:27</td>\n",
       "<td> 2.244 sec</td>\n",
       "<td>25.0</td>\n",
       "<td>0.0388995</td>\n",
       "<td>0.0276334</td>\n",
       "<td>0.0</td>\n",
       "<td>0.5454825</td>\n",
       "<td>1.1570096</td>\n",
       "<td>0.36</td></tr>\n",
       "<tr><td></td>\n",
       "<td>2018-11-30 03:34:27</td>\n",
       "<td> 2.258 sec</td>\n",
       "<td>30.0</td>\n",
       "<td>0.0232489</td>\n",
       "<td>0.0161335</td>\n",
       "<td>0.0</td>\n",
       "<td>0.5346711</td>\n",
       "<td>1.1679120</td>\n",
       "<td>0.34</td></tr>\n",
       "<tr><td></td>\n",
       "<td>2018-11-30 03:34:27</td>\n",
       "<td> 2.270 sec</td>\n",
       "<td>34.0</td>\n",
       "<td>0.0161988</td>\n",
       "<td>0.0104480</td>\n",
       "<td>0.0</td>\n",
       "<td>0.5349698</td>\n",
       "<td>1.1939690</td>\n",
       "<td>0.3</td></tr></table></div>"
      ],
      "text/plain": [
       "    timestamp            duration    number_of_trees    training_rmse    training_logloss    training_classification_error    validation_rmse    validation_logloss    validation_classification_error\n",
       "--  -------------------  ----------  -----------------  ---------------  ------------------  -------------------------------  -----------------  --------------------  ---------------------------------\n",
       "    2018-11-30 03:34:27  2.172 sec   0                  0.666667         1.09861             0.577181                         0.666667           1.09861               0.6\n",
       "    2018-11-30 03:34:27  2.187 sec   5                  0.33421          0.375395            0.0894855                        0.558783           0.890941              0.38\n",
       "    2018-11-30 03:34:27  2.201 sec   10                 0.211784         0.193833            0.0201342                        0.519851           0.838329              0.36\n",
       "    2018-11-30 03:34:27  2.215 sec   15                 0.121263         0.0962317           0.00447427                       0.532255           0.939969              0.36\n",
       "    2018-11-30 03:34:27  2.230 sec   20                 0.0711328        0.0507783           0                                0.5341             0.995764              0.36\n",
       "    2018-11-30 03:34:27  2.244 sec   25                 0.0388995        0.0276334           0                                0.545483           1.15701               0.36\n",
       "    2018-11-30 03:34:27  2.258 sec   30                 0.0232489        0.0161335           0                                0.534671           1.16791               0.34\n",
       "    2018-11-30 03:34:27  2.270 sec   34                 0.0161988        0.010448            0                                0.53497            1.19397               0.3"
      ]
     },
     "metadata": {},
     "output_type": "display_data"
    },
    {
     "name": "stdout",
     "output_type": "stream",
     "text": [
      "Variable Importances: \n"
     ]
    },
    {
     "data": {
      "text/html": [
       "<div style=\"overflow:auto\"><table style=\"width:50%\"><tr><td><b>variable</b></td>\n",
       "<td><b>relative_importance</b></td>\n",
       "<td><b>scaled_importance</b></td>\n",
       "<td><b>percentage</b></td></tr>\n",
       "<tr><td>GCP_Magnitude</td>\n",
       "<td>34.9105034</td>\n",
       "<td>1.0</td>\n",
       "<td>0.1190627</td></tr>\n",
       "<tr><td>IBM_Overall_Score</td>\n",
       "<td>33.2178001</td>\n",
       "<td>0.9515131</td>\n",
       "<td>0.1132897</td></tr>\n",
       "<tr><td>AWS_Negative_Score</td>\n",
       "<td>33.1264038</td>\n",
       "<td>0.9488950</td>\n",
       "<td>0.1129780</td></tr>\n",
       "<tr><td>AWS_Positive_Score</td>\n",
       "<td>32.1895752</td>\n",
       "<td>0.9220599</td>\n",
       "<td>0.1097830</td></tr>\n",
       "<tr><td>VADER_Overall_Score</td>\n",
       "<td>31.8302040</td>\n",
       "<td>0.9117658</td>\n",
       "<td>0.1085573</td></tr>\n",
       "<tr><td>VADER_Neutral_Score</td>\n",
       "<td>26.3121262</td>\n",
       "<td>0.7537023</td>\n",
       "<td>0.0897379</td></tr>\n",
       "<tr><td>VADER_Positive_Score</td>\n",
       "<td>26.2948055</td>\n",
       "<td>0.7532061</td>\n",
       "<td>0.0896788</td></tr>\n",
       "<tr><td>AWS_Neutral_Score</td>\n",
       "<td>24.8183498</td>\n",
       "<td>0.7109135</td>\n",
       "<td>0.0846433</td></tr>\n",
       "<tr><td>GCP_Score</td>\n",
       "<td>21.0250683</td>\n",
       "<td>0.6022562</td>\n",
       "<td>0.0717063</td></tr>\n",
       "<tr><td>AZURE_Overall_Score</td>\n",
       "<td>20.7877884</td>\n",
       "<td>0.5954594</td>\n",
       "<td>0.0708970</td></tr>\n",
       "<tr><td>VADER_Negative_Score</td>\n",
       "<td>8.6983776</td>\n",
       "<td>0.2491622</td>\n",
       "<td>0.0296659</td></tr></table></div>"
      ],
      "text/plain": [
       "variable              relative_importance    scaled_importance    percentage\n",
       "--------------------  ---------------------  -------------------  ------------\n",
       "GCP_Magnitude         34.9105                1                    0.119063\n",
       "IBM_Overall_Score     33.2178                0.951513             0.11329\n",
       "AWS_Negative_Score    33.1264                0.948895             0.112978\n",
       "AWS_Positive_Score    32.1896                0.92206              0.109783\n",
       "VADER_Overall_Score   31.8302                0.911766             0.108557\n",
       "VADER_Neutral_Score   26.3121                0.753702             0.0897379\n",
       "VADER_Positive_Score  26.2948                0.753206             0.0896788\n",
       "AWS_Neutral_Score     24.8183                0.710914             0.0846433\n",
       "GCP_Score             21.0251                0.602256             0.0717063\n",
       "AZURE_Overall_Score   20.7878                0.595459             0.070897\n",
       "VADER_Negative_Score  8.69838                0.249162             0.0296659"
      ]
     },
     "metadata": {},
     "output_type": "display_data"
    },
    {
     "data": {
      "text/plain": []
     },
     "execution_count": 57,
     "metadata": {},
     "output_type": "execute_result"
    }
   ],
   "source": [
    "auto_h2o.leader"
   ]
  },
  {
   "cell_type": "code",
   "execution_count": 59,
   "metadata": {},
   "outputs": [
    {
     "name": "stdout",
     "output_type": "stream",
     "text": [
      "gbm prediction progress: |████████████████████████████████████████████████| 100%\n"
     ]
    },
    {
     "data": {
      "text/html": [
       "<table>\n",
       "<thead>\n",
       "<tr><th>predict  </th><th style=\"text-align: right;\">   Negative</th><th style=\"text-align: right;\">   Neutral</th><th style=\"text-align: right;\">  Positive</th></tr>\n",
       "</thead>\n",
       "<tbody>\n",
       "<tr><td>Neutral  </td><td style=\"text-align: right;\">9.63936e-05</td><td style=\"text-align: right;\">0.976218  </td><td style=\"text-align: right;\">0.0236859 </td></tr>\n",
       "<tr><td>Neutral  </td><td style=\"text-align: right;\">0.00122088 </td><td style=\"text-align: right;\">0.970854  </td><td style=\"text-align: right;\">0.0279249 </td></tr>\n",
       "<tr><td>Neutral  </td><td style=\"text-align: right;\">3.56843e-05</td><td style=\"text-align: right;\">0.942196  </td><td style=\"text-align: right;\">0.0577683 </td></tr>\n",
       "<tr><td>Neutral  </td><td style=\"text-align: right;\">3.31316e-05</td><td style=\"text-align: right;\">0.960528  </td><td style=\"text-align: right;\">0.0394386 </td></tr>\n",
       "<tr><td>Positive </td><td style=\"text-align: right;\">0.0208534  </td><td style=\"text-align: right;\">0.0820897 </td><td style=\"text-align: right;\">0.897057  </td></tr>\n",
       "<tr><td>Neutral  </td><td style=\"text-align: right;\">0.00217477 </td><td style=\"text-align: right;\">0.959191  </td><td style=\"text-align: right;\">0.0386347 </td></tr>\n",
       "<tr><td>Positive </td><td style=\"text-align: right;\">1.02488e-06</td><td style=\"text-align: right;\">0.00050439</td><td style=\"text-align: right;\">0.999495  </td></tr>\n",
       "<tr><td>Neutral  </td><td style=\"text-align: right;\">0.00275107 </td><td style=\"text-align: right;\">0.989081  </td><td style=\"text-align: right;\">0.00816795</td></tr>\n",
       "<tr><td>Neutral  </td><td style=\"text-align: right;\">0.000118361</td><td style=\"text-align: right;\">0.975614  </td><td style=\"text-align: right;\">0.0242673 </td></tr>\n",
       "<tr><td>Positive </td><td style=\"text-align: right;\">0.000560717</td><td style=\"text-align: right;\">0.00240094</td><td style=\"text-align: right;\">0.997038  </td></tr>\n",
       "</tbody>\n",
       "</table>"
      ]
     },
     "metadata": {},
     "output_type": "display_data"
    },
    {
     "data": {
      "text/plain": []
     },
     "execution_count": 59,
     "metadata": {},
     "output_type": "execute_result"
    }
   ],
   "source": [
    "preds = auto_h2o.predict(test_h2o)\n",
    "preds"
   ]
  },
  {
   "cell_type": "code",
   "execution_count": 60,
   "metadata": {},
   "outputs": [],
   "source": [
    "preds = preds.as_data_frame(use_pandas=True)"
   ]
  },
  {
   "cell_type": "code",
   "execution_count": 61,
   "metadata": {},
   "outputs": [
    {
     "data": {
      "text/html": [
       "<div>\n",
       "<style scoped>\n",
       "    .dataframe tbody tr th:only-of-type {\n",
       "        vertical-align: middle;\n",
       "    }\n",
       "\n",
       "    .dataframe tbody tr th {\n",
       "        vertical-align: top;\n",
       "    }\n",
       "\n",
       "    .dataframe thead th {\n",
       "        text-align: right;\n",
       "    }\n",
       "</style>\n",
       "<table border=\"1\" class=\"dataframe\">\n",
       "  <thead>\n",
       "    <tr style=\"text-align: right;\">\n",
       "      <th></th>\n",
       "      <th>predict</th>\n",
       "      <th>Negative</th>\n",
       "      <th>Neutral</th>\n",
       "      <th>Positive</th>\n",
       "    </tr>\n",
       "  </thead>\n",
       "  <tbody>\n",
       "    <tr>\n",
       "      <th>0</th>\n",
       "      <td>Neutral</td>\n",
       "      <td>0.000096</td>\n",
       "      <td>0.976218</td>\n",
       "      <td>0.023686</td>\n",
       "    </tr>\n",
       "    <tr>\n",
       "      <th>1</th>\n",
       "      <td>Neutral</td>\n",
       "      <td>0.001221</td>\n",
       "      <td>0.970854</td>\n",
       "      <td>0.027925</td>\n",
       "    </tr>\n",
       "    <tr>\n",
       "      <th>2</th>\n",
       "      <td>Neutral</td>\n",
       "      <td>0.000036</td>\n",
       "      <td>0.942196</td>\n",
       "      <td>0.057768</td>\n",
       "    </tr>\n",
       "    <tr>\n",
       "      <th>3</th>\n",
       "      <td>Neutral</td>\n",
       "      <td>0.000033</td>\n",
       "      <td>0.960528</td>\n",
       "      <td>0.039439</td>\n",
       "    </tr>\n",
       "    <tr>\n",
       "      <th>4</th>\n",
       "      <td>Positive</td>\n",
       "      <td>0.020853</td>\n",
       "      <td>0.082090</td>\n",
       "      <td>0.897057</td>\n",
       "    </tr>\n",
       "  </tbody>\n",
       "</table>\n",
       "</div>"
      ],
      "text/plain": [
       "    predict  Negative   Neutral  Positive\n",
       "0   Neutral  0.000096  0.976218  0.023686\n",
       "1   Neutral  0.001221  0.970854  0.027925\n",
       "2   Neutral  0.000036  0.942196  0.057768\n",
       "3   Neutral  0.000033  0.960528  0.039439\n",
       "4  Positive  0.020853  0.082090  0.897057"
      ]
     },
     "execution_count": 61,
     "metadata": {},
     "output_type": "execute_result"
    }
   ],
   "source": [
    "preds.head()"
   ]
  },
  {
   "cell_type": "code",
   "execution_count": 63,
   "metadata": {},
   "outputs": [
    {
     "name": "stdout",
     "output_type": "stream",
     "text": [
      "Collecting pandas_ml\n",
      "  Downloading https://files.pythonhosted.org/packages/c1/28/19289aabaecac9bd7ea34c43310fa16bbdda818e1f635747e81b376526ca/pandas_ml-0.5.0.tar.gz (76kB)\n",
      "Requirement already satisfied: pandas>=0.17.0 in c:\\programdata\\anaconda3\\lib\\site-packages (from pandas_ml)\n",
      "Collecting enum34 (from pandas_ml)\n",
      "  Downloading https://files.pythonhosted.org/packages/af/42/cb9355df32c69b553e72a2e28daee25d1611d2c0d9c272aa1d34204205b2/enum34-1.1.6-py3-none-any.whl\n",
      "Requirement already satisfied: python-dateutil>=2 in c:\\programdata\\anaconda3\\lib\\site-packages (from pandas>=0.17.0->pandas_ml)\n",
      "Requirement already satisfied: pytz>=2011k in c:\\programdata\\anaconda3\\lib\\site-packages (from pandas>=0.17.0->pandas_ml)\n",
      "Requirement already satisfied: numpy>=1.9.0 in c:\\programdata\\anaconda3\\lib\\site-packages (from pandas>=0.17.0->pandas_ml)\n",
      "Requirement already satisfied: six>=1.5 in c:\\programdata\\anaconda3\\lib\\site-packages (from python-dateutil>=2->pandas>=0.17.0->pandas_ml)\n",
      "Building wheels for collected packages: pandas-ml\n",
      "  Running setup.py bdist_wheel for pandas-ml: started\n",
      "  Running setup.py bdist_wheel for pandas-ml: finished with status 'done'\n",
      "  Stored in directory: C:\\Users\\pramo\\AppData\\Local\\pip\\Cache\\wheels\\4b\\b0\\88\\51fb7203a0f81becae3e92d5bf9fee0460375e5408e67a7dc3\n",
      "Successfully built pandas-ml\n",
      "Installing collected packages: enum34, pandas-ml\n",
      "Successfully installed enum34-1.1.6 pandas-ml-0.5.0\n"
     ]
    },
    {
     "name": "stderr",
     "output_type": "stream",
     "text": [
      "You are using pip version 9.0.1, however version 18.1 is available.\n",
      "You should consider upgrading via the 'python -m pip install --upgrade pip' command.\n"
     ]
    }
   ],
   "source": [
    "!pip install pandas_ml\n",
    "from pandas_ml import ConfusionMatrix\n",
    "from sklearn.metrics import accuracy_score\n",
    "import seaborn as sn\n",
    "import matplotlib.pyplot as plt"
   ]
  },
  {
   "cell_type": "code",
   "execution_count": 76,
   "metadata": {},
   "outputs": [],
   "source": [
    "y_true = list(test['Sentiment'])\n",
    "y_pred_h2o = list(preds['predict'])"
   ]
  },
  {
   "cell_type": "code",
   "execution_count": 77,
   "metadata": {},
   "outputs": [
    {
     "name": "stdout",
     "output_type": "stream",
     "text": [
      "Accuracy Score:  0.6\n",
      "Predicted  Negative  Neutral  Positive  __all__\n",
      "Actual                                         \n",
      "Negative          1        5         4       10\n",
      "Neutral           1       32        15       48\n",
      "Positive          2       23        42       67\n",
      "__all__           4       60        61      125\n"
     ]
    },
    {
     "data": {
      "image/png": "[encoded data removed]",
      "text/plain": [
       "<matplotlib.figure.Figure at 0x20988d40f60>"
      ]
     },
     "metadata": {},
     "output_type": "display_data"
    }
   ],
   "source": [
    "# Compute confusion matrix with Manual Sentiment analysis and result from AWS API:\n",
    "\n",
    "cnf_matrix_h2o = ConfusionMatrix(y_true, y_pred_h2o)\n",
    "acc_score_h2o = accuracy_score(y_true, y_pred_h2o)\n",
    "\n",
    "print('Accuracy Score: ', acc_score_h2o)\n",
    "\n",
    "print(cnf_matrix_h2o)\n",
    "\n",
    "cnf_matrix_h2o.plot()\n",
    "plt.show()"
   ]
  },
  {
   "cell_type": "code",
   "execution_count": null,
   "metadata": {},
   "outputs": [],
   "source": []
  }
 ],
 "metadata": {
  "kernelspec": {
   "display_name": "Python 3",
   "language": "python",
   "name": "python3"
  },
  "language_info": {
   "codemirror_mode": {
    "name": "ipython",
    "version": 3
   },
   "file_extension": ".py",
   "mimetype": "text/x-python",
   "name": "python",
   "nbconvert_exporter": "python",
   "pygments_lexer": "ipython3",
   "version": "3.6.4"
  }
 },
 "nbformat": 4,
 "nbformat_minor": 2
}
