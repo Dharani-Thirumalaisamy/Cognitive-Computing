{
  "nbformat": 4,
  "nbformat_minor": 0,
  "metadata": {
    "colab": {
      "name": "Assignment1_Report.ipynb",
      "version": "0.3.2",
      "provenance": [],
      "collapsed_sections": []
    },
    "kernelspec": {
      "name": "python3",
      "display_name": "Python 3"
    }
  },
  "cells": [
    {
      "metadata": {
        "id": "aoq9F0q7Da6g",
        "colab_type": "text"
      },
      "cell_type": "markdown",
      "source": [
        "# Part1"
      ]
    },
    {
      "metadata": {
        "id": "wEKEQJISDdZi",
        "colab_type": "text"
      },
      "cell_type": "markdown",
      "source": [
        "###MNIST Dataset Neural network without any hardware accelarator on google colab:\n",
        "Training Accuracy: 0.9953 \n",
        "\n",
        "Testing Accuracy: 0.9829\n",
        "\n",
        "Training Loss: 0.0159 \n",
        "\n",
        "Testing Loss: 0.1179096469444896\n",
        "\n",
        "Time for each epoch: 11sec"
      ]
    },
    {
      "metadata": {
        "id": "Ylatz1hlFxKa",
        "colab_type": "text"
      },
      "cell_type": "markdown",
      "source": [
        "###MNIST Dataset Neural network with GPU any hardware accelarator on google colab:\n",
        "Training Accuracy: 0.9950  \n",
        "\n",
        "Testing Accuracy: 0.9842\n",
        "\n",
        "Training Loss: 0.0185  \n",
        "\n",
        "Testing Loss: 0.09997\n",
        "\n",
        "Time for each epoch: 4sec"
      ]
    },
    {
      "metadata": {
        "id": "pk_GnXV7IEfb",
        "colab_type": "text"
      },
      "cell_type": "markdown",
      "source": [
        "#Conclusion:\n",
        "\n",
        "1. Neural Network can be used for MNIST Dataset image classification, as it gives good results.\n",
        "\n",
        "2. Google colab with GPU as a hardware accelarator works faster for the computation."
      ]
    },
    {
      "metadata": {
        "id": "EaD65qTqHEvE",
        "colab_type": "text"
      },
      "cell_type": "markdown",
      "source": [
        "###CIFAR-10 Dataset Neural network with GPU any hardware accelarator on google colab:\n",
        "Refer: CIFAR10 - MLP1\n",
        "\n",
        "Training Accuracy: 0.6804 \n",
        "\n",
        "Testing Accuracy: 0.4784\n",
        "\n",
        "Training Loss: 0.9088\n",
        "\n",
        "Testing Loss: 2.0423"
      ]
    },
    {
      "metadata": {
        "id": "PrH2jVKhIyus",
        "colab_type": "text"
      },
      "cell_type": "markdown",
      "source": [
        "###CIFAR-10 Dataset Neural network with GPU any hardware accelarator on google colab:\n",
        "Refer: CIFAR10 - MLP\n",
        "\n",
        "Training Accuracy: 0.5696\n",
        "\n",
        "Testing Accuracy: 0.4883\n",
        "\n",
        "Training Loss: 1.2222\n",
        "\n",
        "Testing Loss: 1.5676"
      ]
    },
    {
      "metadata": {
        "id": "nQBbdQ43JIIP",
        "colab_type": "text"
      },
      "cell_type": "markdown",
      "source": [
        "#Conclusion:\n",
        "\n",
        "1. As our model was overfitting, Increasing dropout rate we found increase in model accuracy.\n",
        "\n",
        "2. Increasing the number of layers and number of neurons to the model, slightly changed the model accuracy.\n",
        "\n",
        "3. Also, different activation function were gave us not much of difference in the accuracy.\n",
        "\n",
        "4. Even the hyperparameters are changed significantly, the performance of the neural network model was not changing.\n",
        "\n",
        "5. Now we will switch from Neural Network to Convolution Neural Network with CIFAR-10.\n",
        "\n",
        "6. Neural Networks does not go well with the CIFAR-10 Dataset for the image classification."
      ]
    },
    {
      "metadata": {
        "id": "u1EraL3ZLxI2",
        "colab_type": "text"
      },
      "cell_type": "markdown",
      "source": [
        "#Part2:"
      ]
    },
    {
      "metadata": {
        "id": "Bo1a6I8hL1Bd",
        "colab_type": "text"
      },
      "cell_type": "markdown",
      "source": [
        "###CIFAR-10 Baseline model with Data Augmentation:\n",
        "Refer: Part2A_BaselineModel.ipynb\n",
        "\n",
        "Training Accuracy: 72-73%\n",
        "\n",
        "Training Loss: 79-81%\n",
        "\n",
        "Testing Accuracy: 75-77%\n",
        "\n",
        "Testing Loss: 69-72%"
      ]
    },
    {
      "metadata": {
        "id": "woEcjVItMoan",
        "colab_type": "text"
      },
      "cell_type": "markdown",
      "source": [
        "###CIFAR-10 Baseline model with Data Augmentation:\n",
        "Refer: Part2A_BaselineModel_B.ipynb\n",
        "\n",
        "Training Accuracy: 77-78%\n",
        "\n",
        "Training Loss: 64-65%\n",
        "\n",
        "Testing Accuracy: 77-78%\n",
        "\n",
        "Testing Loss: 66-70%"
      ]
    },
    {
      "metadata": {
        "id": "ipn2fmHZNZkM",
        "colab_type": "text"
      },
      "cell_type": "markdown",
      "source": [
        "###CIFAR-10 Baseline model without Data Augmentation:\n",
        "Refer: Part2A_1.ipynb\n",
        "\n",
        "Training Accuracy: 84-85%\n",
        "\n",
        "Training Loss: 42-43%\n",
        "\n",
        "Testing Accuracy: 80-81%\n",
        "\n",
        "Testing Loss: 60-61%"
      ]
    },
    {
      "metadata": {
        "id": "ZkQsxW9JOHTj",
        "colab_type": "text"
      },
      "cell_type": "markdown",
      "source": [
        "###CIFAR-10 Baseline model without Data Augmentation:\n",
        "Refer: Part2A_2.ipynb\n",
        "\n",
        "Training Accuracy: 86-87%\n",
        "\n",
        "Training Loss: 37-38%\n",
        "\n",
        "Testing Accuracy: 82-83%\n",
        "\n",
        "Testing Loss: 60-64%"
      ]
    },
    {
      "metadata": {
        "id": "bfWyAESROlQg",
        "colab_type": "text"
      },
      "cell_type": "markdown",
      "source": [
        "#Conclusion:\n",
        "1. By increasing the number of neurons the model accuracy increases.\n",
        "2. By increasing the number of layers the model accuracy increases.\n",
        "3. However, the other parameters needed to tune to get the optimized model for the CIFAR-10 Dataset image classification."
      ]
    },
    {
      "metadata": {
        "id": "znjbkMjaO9XV",
        "colab_type": "code",
        "colab": {}
      },
      "cell_type": "code",
      "source": [
        ""
      ],
      "execution_count": 0,
      "outputs": []
    }
  ]
}